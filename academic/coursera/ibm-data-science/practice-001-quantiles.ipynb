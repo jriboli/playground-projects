{
 "cells": [
  {
   "cell_type": "markdown",
   "metadata": {},
   "source": [
    "# PRACTICE WORKSHEET 001\n",
    "\n",
    "### Quantiles\n",
    "\n",
    "- Mean : The average of a set on numbers, divided by the count/size\n",
    "- Median : The middle most value (if even take the middle two and divide by 2)\n",
    "- Mode : The number that shows up the most (if multiple, then they all make the mode)"
   ]
  },
  {
   "cell_type": "code",
   "execution_count": 11,
   "metadata": {},
   "outputs": [],
   "source": [
    "import pandas as pd\n",
    "import matplotlib.pyplot as plt\n",
    "import seaborn as sns"
   ]
  },
  {
   "cell_type": "code",
   "execution_count": null,
   "metadata": {},
   "outputs": [],
   "source": [
    "df = pd.DataFrame([16,18,28,13,50,31,25,22,18,23,29,38])\n",
    "df.head()\n"
   ]
  },
  {
   "cell_type": "code",
   "execution_count": null,
   "metadata": {},
   "outputs": [],
   "source": [
    "df.rename(columns={0 : \"Values\"}, inplace=True)\n",
    "df.head()"
   ]
  },
  {
   "cell_type": "code",
   "execution_count": null,
   "metadata": {},
   "outputs": [],
   "source": [
    "print(\"Mean: \", df.mean())\n",
    "print(\"Median: \", df.median())\n",
    "print(\"Mode: \", df.mode())\n"
   ]
  },
  {
   "cell_type": "code",
   "execution_count": 24,
   "metadata": {},
   "outputs": [
    {
     "data": {
      "text/html": [
       "<div>\n",
       "<style scoped>\n",
       "    .dataframe tbody tr th:only-of-type {\n",
       "        vertical-align: middle;\n",
       "    }\n",
       "\n",
       "    .dataframe tbody tr th {\n",
       "        vertical-align: top;\n",
       "    }\n",
       "\n",
       "    .dataframe thead th {\n",
       "        text-align: right;\n",
       "    }\n",
       "</style>\n",
       "<table border=\"1\" class=\"dataframe\">\n",
       "  <thead>\n",
       "    <tr style=\"text-align: right;\">\n",
       "      <th></th>\n",
       "      <th>index</th>\n",
       "      <th>Values</th>\n",
       "    </tr>\n",
       "  </thead>\n",
       "  <tbody>\n",
       "    <tr>\n",
       "      <th>0</th>\n",
       "      <td>3</td>\n",
       "      <td>13</td>\n",
       "    </tr>\n",
       "    <tr>\n",
       "      <th>1</th>\n",
       "      <td>0</td>\n",
       "      <td>16</td>\n",
       "    </tr>\n",
       "    <tr>\n",
       "      <th>2</th>\n",
       "      <td>1</td>\n",
       "      <td>18</td>\n",
       "    </tr>\n",
       "    <tr>\n",
       "      <th>3</th>\n",
       "      <td>8</td>\n",
       "      <td>18</td>\n",
       "    </tr>\n",
       "    <tr>\n",
       "      <th>4</th>\n",
       "      <td>7</td>\n",
       "      <td>22</td>\n",
       "    </tr>\n",
       "    <tr>\n",
       "      <th>5</th>\n",
       "      <td>9</td>\n",
       "      <td>23</td>\n",
       "    </tr>\n",
       "    <tr>\n",
       "      <th>6</th>\n",
       "      <td>6</td>\n",
       "      <td>25</td>\n",
       "    </tr>\n",
       "    <tr>\n",
       "      <th>7</th>\n",
       "      <td>2</td>\n",
       "      <td>28</td>\n",
       "    </tr>\n",
       "    <tr>\n",
       "      <th>8</th>\n",
       "      <td>10</td>\n",
       "      <td>29</td>\n",
       "    </tr>\n",
       "    <tr>\n",
       "      <th>9</th>\n",
       "      <td>5</td>\n",
       "      <td>31</td>\n",
       "    </tr>\n",
       "    <tr>\n",
       "      <th>10</th>\n",
       "      <td>11</td>\n",
       "      <td>38</td>\n",
       "    </tr>\n",
       "    <tr>\n",
       "      <th>11</th>\n",
       "      <td>4</td>\n",
       "      <td>50</td>\n",
       "    </tr>\n",
       "  </tbody>\n",
       "</table>\n",
       "</div>"
      ],
      "text/plain": [
       "    index  Values\n",
       "0       3      13\n",
       "1       0      16\n",
       "2       1      18\n",
       "3       8      18\n",
       "4       7      22\n",
       "5       9      23\n",
       "6       6      25\n",
       "7       2      28\n",
       "8      10      29\n",
       "9       5      31\n",
       "10     11      38\n",
       "11      4      50"
      ]
     },
     "execution_count": 24,
     "metadata": {},
     "output_type": "execute_result"
    }
   ],
   "source": [
    "df['Values'].sort_values().reset_index()"
   ]
  },
  {
   "cell_type": "code",
   "execution_count": 27,
   "metadata": {},
   "outputs": [
    {
     "name": "stdout",
     "output_type": "stream",
     "text": [
      "Quantiles:  0.25    18.0\n",
      "0.50    24.0\n",
      "0.75    29.5\n",
      "Name: Values, dtype: float64\n"
     ]
    }
   ],
   "source": [
    "quantiles = df['Values'].quantile([0.25, 0.50, 0.75])\n",
    "print(\"Quantiles: \", quantiles)"
   ]
  },
  {
   "cell_type": "code",
   "execution_count": 35,
   "metadata": {},
   "outputs": [
    {
     "name": "stdout",
     "output_type": "stream",
     "text": [
      "11.5\n",
      "Lower:  0.75\n",
      "Upper:  46.75\n"
     ]
    }
   ],
   "source": [
    "# Outliers \n",
    "# IQR = Q3 - Q1\n",
    "IQR = quantiles.loc[0.75] - quantiles.loc[0.25]\n",
    "print(IQR)\n",
    "\n",
    "# [ q1 - 1.5(IQR), Q3 + 1.5(IQR)]\n",
    "lower_bound = quantiles.loc[0.25] - 1.5*(IQR)\n",
    "upper_bound = quantiles.loc[0.75] + 1.5*(IQR)\n",
    "\n",
    "print(\"Lower: \", lower_bound)\n",
    "print(\"Upper: \", upper_bound)"
   ]
  },
  {
   "cell_type": "code",
   "execution_count": null,
   "metadata": {},
   "outputs": [
    {
     "data": {
      "image/png": "[encoded data removed]",
      "text/plain": [
       "<Figure size 640x480 with 1 Axes>"
      ]
     },
     "metadata": {},
     "output_type": "display_data"
    }
   ],
   "source": [
    "plt.boxplot(df['Values'])\n",
    "plt.show()"
   ]
  },
  {
   "cell_type": "code",
   "execution_count": 43,
   "metadata": {},
   "outputs": [
    {
     "name": "stderr",
     "output_type": "stream",
     "text": [
      "/var/folders/9z/hv6x5gnn0fg229rhtcx4sxdh0000gn/T/ipykernel_8772/127070403.py:9: UserWarning: FigureCanvasAgg is non-interactive, and thus cannot be shown\n",
      "  figs.show()\n"
     ]
    },
    {
     "data": {
      "image/png": "[encoded data removed]",
      "text/plain": [
       "<Figure size 1200x500 with 2 Axes>"
      ]
     },
     "metadata": {},
     "output_type": "display_data"
    }
   ],
   "source": [
    "right_skewed = pd.DataFrame([1, 2, 3 ,4 ,5, 6, 7, 10, 15, 50, 100])\n",
    "left_skewed = pd.DataFrame([1, 5, 10, 50, 60, 70, 75, 78, 80, 81, 82])\n",
    "\n",
    "figs = plt.figure(figsize=(12, 5))\n",
    "ax1 = figs.add_subplot(1,2,1)\n",
    "ax1.boxplot(right_skewed)\n",
    "ax2 = figs.add_subplot(1,2,2)\n",
    "ax2.boxplot(left_skewed)\n",
    "figs.show()\n"
   ]
  },
  {
   "cell_type": "code",
   "execution_count": 44,
   "metadata": {},
   "outputs": [
    {
     "name": "stdout",
     "output_type": "stream",
     "text": [
      "                0\n",
      "count   11.000000\n",
      "mean    18.454545\n",
      "std     30.362357\n",
      "min      1.000000\n",
      "25%      3.500000\n",
      "50%      6.000000\n",
      "75%     12.500000\n",
      "max    100.000000\n",
      "               0\n",
      "count  11.000000\n",
      "mean   53.818182\n",
      "std    32.649099\n",
      "min     1.000000\n",
      "25%    30.000000\n",
      "50%    70.000000\n",
      "75%    79.000000\n",
      "max    82.000000\n"
     ]
    }
   ],
   "source": [
    "print(right_skewed.describe())\n",
    "print(left_skewed.describe())"
   ]
  },
  {
   "cell_type": "code",
   "execution_count": 40,
   "metadata": {},
   "outputs": [
    {
     "data": {
      "text/plain": [
       "0\n",
       "3    7\n",
       "8    4\n",
       "7    3\n",
       "5    3\n",
       "2    2\n",
       "Name: count, dtype: int64"
      ]
     },
     "execution_count": 40,
     "metadata": {},
     "output_type": "execute_result"
    }
   ],
   "source": [
    "# Frequency DF\n",
    "df_freq = pd.DataFrame([2, 3, 5, 3, 6, 8, 7, 8, 3, 3, 5, 3, 7, 3, 8, 5, 2, 7, 8, 3])\n",
    "\n",
    "freqs = df_freq.value_counts()\n",
    "freqs.head()"
   ]
  },
  {
   "cell_type": "code",
   "execution_count": 45,
   "metadata": {},
   "outputs": [
    {
     "data": {
      "text/plain": [
       "0    3\n",
       "1    8\n",
       "2    7\n",
       "3    5\n",
       "4    2\n",
       "5    6\n",
       "Name: 0, dtype: int64"
      ]
     },
     "execution_count": 45,
     "metadata": {},
     "output_type": "execute_result"
    }
   ],
   "source": [
    "freqs.iloc[:, 0]"
   ]
  },
  {
   "cell_type": "code",
   "execution_count": 46,
   "metadata": {},
   "outputs": [
    {
     "name": "stdout",
     "output_type": "stream",
     "text": [
      "0    3\n",
      "1    8\n",
      "2    7\n",
      "3    5\n",
      "4    2\n",
      "5    6\n",
      "Name: 0, dtype: object\n",
      "<class 'pandas.core.series.Series'>\n",
      "<class 'pandas.core.series.Series'>\n"
     ]
    },
    {
     "data": {
      "image/png": "[encoded data removed]",
      "text/plain": [
       "<Figure size 640x480 with 1 Axes>"
      ]
     },
     "metadata": {},
     "output_type": "display_data"
    }
   ],
   "source": [
    "#freqs = freqs.reset_index()\n",
    "categories = freqs.iloc[:,0].astype(str)\n",
    "values = freqs.iloc[:, -1]\n",
    "\n",
    "print(categories)\n",
    "\n",
    "print(type(categories))\n",
    "print(type(values))\n",
    "\n",
    "plt.bar(categories, values)\n",
    "plt.show()\n"
   ]
  },
  {
   "cell_type": "code",
   "execution_count": null,
   "metadata": {},
   "outputs": [],
   "source": []
  }
 ],
 "metadata": {
  "kernelspec": {
   "display_name": "venv",
   "language": "python",
   "name": "python3"
  },
  "language_info": {
   "codemirror_mode": {
    "name": "ipython",
    "version": 3
   },
   "file_extension": ".py",
   "mimetype": "text/x-python",
   "name": "python",
   "nbconvert_exporter": "python",
   "pygments_lexer": "ipython3",
   "version": "3.12.2"
  }
 },
 "nbformat": 4,
 "nbformat_minor": 2
}
