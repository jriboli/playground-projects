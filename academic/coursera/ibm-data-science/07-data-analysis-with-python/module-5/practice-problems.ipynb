{
 "cells": [
  {
   "cell_type": "markdown",
   "metadata": {},
   "source": [
    "### Problem 1: Expected Value & Standard Error\n",
    "A company manufactures electronic chips, and 5% of them are defective. If a quality control inspector randomly selects 200 chips, answer the following:\n",
    "\n",
    "What is the expected number of defective chips in the sample?\n",
    "What is the standard error (variation in the number of defective chips from sample to sample)?\n",
    "\n",
    "### Problem 2: Z-Score & Probability\n",
    "The heights of adult males in a certain country follow a normal distribution with:\n",
    "\n",
    "Mean = 175 cm\n",
    "Standard deviation = 8 cm\n",
    "A random man is selected.\n",
    "\n",
    "What is the Z-score for a man who is 185 cm tall?\n",
    "Using the Z-table, what percentage of men are shorter than 185 cm?\n",
    "What percentage of men are taller than 185 cm?\n",
    "\n",
    "### Problem 3: Binomial to Normal Approximation\n",
    "A basketball player makes 75% of free throws. If they take 400 shots, estimate the probability that they will:\n",
    "\n",
    "Make 320 or more shots using the normal approximation to the binomial.\n",
    "Interpret the result—does making 320+ shots seem like a rare event?"
   ]
  },
  {
   "cell_type": "markdown",
   "metadata": {},
   "source": []
  }
 ],
 "metadata": {
  "language_info": {
   "name": "python"
  }
 },
 "nbformat": 4,
 "nbformat_minor": 2
}
