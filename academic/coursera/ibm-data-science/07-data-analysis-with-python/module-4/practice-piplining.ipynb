{
 "cells": [
  {
   "cell_type": "markdown",
   "metadata": {},
   "source": [
    "### Pipeline\n",
    "`sklearn.pipeline`\n",
    "\n",
    "##### Why use pipelines?\n",
    "1. <b>Simplifies Workflow</b> - Automates repetitive steps in machine learning workflows.\n",
    "2. <b>Prevents Data Leakage</b> - Ensures transformations asre applied only to training data before training.\n",
    "3. <b>Consistent Data Processing</b> - Keeps preprocessing and modeling in sync, avoiding errors.\n",
    "4. <b>Hyperparameter Tuning</b> - Easily integrates with `GridSearchCV` or `RandomizedSearchCV` to optimize parameters.\n",
    "5. <b>Improved Code Readability</b> - Recudes manual transformations and separate function calls."
   ]
  },
  {
   "cell_type": "code",
   "execution_count": null,
   "metadata": {},
   "outputs": [],
   "source": [
    "from sklearn.pipeline import Pipeline\n",
    "from sklearn.preprocessing import StandardScaler\n",
    "from sklearn.linear_model import LinearRegression\n",
    "from sklearn.model_selection import train_test_split\n",
    "import numpy as np\n",
    "\n",
    "# Sample dataset\n",
    "X = np.array([[1, 2], [2, 3], [3, 4], [4, 5], [5, 6]])\n",
    "y = np.array([3, 5, 7, 9, 11])\n",
    "\n",
    "# Split data into train/test\n",
    "X_train, X_test, y_train, y_test = train_test_split(X, y, test_size=0.2, random_state=42)\n",
    "\n",
    "# Create pipeline\n",
    "pipeline = Pipeline([\n",
    "    ('scaler', StandardScaler()),  # Step 1: Scale features\n",
    "    ('model', LinearRegression())  # Step 2: Train Linear Regression\n",
    "])\n",
    "\n",
    "# Train pipeline\n",
    "pipeline.fit(X_train, y_train)\n",
    "\n",
    "# Predict using pipeline\n",
    "y_pred = pipeline.predict(X_test)\n",
    "\n",
    "print(\"Predictions:\", y_pred)\n"
   ]
  },
  {
   "cell_type": "markdown",
   "metadata": {},
   "source": [
    "##### How it works\n",
    "1. <b> Scaling (`StandardScaler`) </b>: Ensures all features have similar scales (mean = 0, variance = 1)\n",
    "2. <b> Linear Regression</b>: Trains the model on the scaled data\n",
    "3. <b> Pipeline handles everything</b>: You dont need to manually transform `x_train`, `x_test` before training/predicting"
   ]
  },
  {
   "cell_type": "markdown",
   "metadata": {},
   "source": []
  }
 ],
 "metadata": {
  "kernelspec": {
   "display_name": "venv",
   "language": "python",
   "name": "python3"
  },
  "language_info": {
   "name": "python",
   "version": "3.12.2"
  }
 },
 "nbformat": 4,
 "nbformat_minor": 2
}
