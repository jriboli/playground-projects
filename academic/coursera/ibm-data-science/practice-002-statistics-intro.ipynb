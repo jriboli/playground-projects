{
 "cells": [
  {
   "cell_type": "markdown",
   "metadata": {},
   "source": [
    "# PRACTICE WORKSHEET 002 \n",
    "\n",
    "### KeyWords: \n",
    "- `Population` : is the entire group of individuals, objects, or events that you're interest in studying\n",
    "    - notation :: Parameters of a population are usually represented with <b>Greek letters</b> (e.g. μ for mean, σ for standard deviation)\n",
    "- `Sample`: is a subset of the population, selected to represent the whole\n",
    "    - notation :: Sample statistics are represented by <b>Latin letters</b> (e.g., 𝑥̄ for mean, s for standard deviation)\n",
    "- `Discrete` : data consists of values that can be counted and are typically whole numbers (integers). There are no in-between values. (e.g. Number of cats)\n",
    "- `Continuous` : consists of values that can be measured and take any value within a range, including fractions and decimals. (e.g. distance between A -> B)\n",
    "\n",
    "##### [Terms between Sample vs Population]\n",
    "| Sample | Population | \n",
    "| --------- | ------- |\n",
    "| Statistic : numerical value describes characteristics of a Sample | Parameter : numerical value describes characteristics of a population |\n",
    "\n",
    "\n",
    "##### [Features between Sample vs Population]\n",
    "| Feature | Sample | Population | \n",
    "| ------- | --------- | ------- |\n",
    "| Mean | x bar | μ |\n",
    "| proportion | ^p | p | \n",
    "| Standard Deviation | s | σ |\n",
    "| Size | n | N |\n",
    "\n",
    "### Scales of Measurement:\n",
    "|  Data is ...  | Nominal | Ordinal | Interval | Ratio |\n",
    "| --- | --- | --- | --- | --- |\n",
    "| Labeled| Yes | Yes | Yes | Yes |\n",
    "| Meaningful Order | No | Yes | Yes | Yes | \n",
    "| Measurable Difference | No | No | Yes | Yes |\n",
    "| True Zero Starting Point | No | No | No | Yes | \n",
    "\n",
    "##### [Examples] \n",
    "\n",
    "`Nominal` - Favorite color of a sample (Red, Blue, Green)\n",
    "\n",
    "`Ordinal` - Ranking/Placement (1st, 2nd, 3rd) - without times differences cant be measured\n",
    "\n",
    "`Interval` - Temperature - ordered, and diff can be measured, but no 0 starting point\n",
    "\n",
    "`Ratio` - Grades - "
   ]
  },
  {
   "cell_type": "markdown",
   "metadata": {},
   "source": []
  }
 ],
 "metadata": {
  "kernelspec": {
   "display_name": "venv",
   "language": "python",
   "name": "python3"
  },
  "language_info": {
   "name": "python",
   "version": "3.13.2"
  }
 },
 "nbformat": 4,
 "nbformat_minor": 2
}
