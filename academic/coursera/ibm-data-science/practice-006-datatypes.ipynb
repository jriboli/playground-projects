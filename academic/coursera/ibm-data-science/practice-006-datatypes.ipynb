{
 "cells": [
  {
   "cell_type": "markdown",
   "metadata": {},
   "source": [
    "The possible answers include:\n",
    "\n",
    "#### Nominal (Unordered categories)\n",
    "Ordinal (Ordered categories)\n",
    "- Discrete (Whole numbers, countable)\n",
    "- Continuous (Measurements with decimals)\n",
    "- Binary (Yes/No, 0/1)\n",
    "- Interval (Numerical without a true zero)\n",
    "- Ratio (Numerical with a true zero)\n",
    " \n",
    "#### General Questions\n",
    "- People just finished a race. Their run times are what type of data?\n",
    "- A survey asks people to rate a product on a scale from 1 to 5. What type of data is this?\n",
    "- The number of goals scored in a soccer game is what type of data?\n",
    "- Blood types (A, B, AB, O) are what type of data?\n",
    "- The temperature in Fahrenheit in different cities is what type of data?\n",
    "- The temperature in Kelvin is what type of data?\n",
    "- A student’s final exam score (out of 100) is what type of data?\n",
    "- The number of students in a classroom is what type of data?\n",
    "- The birth months of students in a classroom (January, February, etc.) are what type of data?\n",
    "- The time taken to complete a marathon (e.g., 3.5 hours) is what type of data?\n",
    " \n",
    "#### Medical & Health Data\n",
    "- A patient’s blood pressure readings (e.g., 120/80 mmHg) are what type of data?\n",
    "- A doctor's patient records show a YES/NO for whether they have diabetes. What type of data is this?\n",
    "- A person’s weight in kilograms is what type of data?\n",
    "- A person’s height in centimeters is what type of data?\n",
    "- The pain level reported by patients on a scale from 1 (no pain) to 10 (severe pain) is what type of data?\n",
    "- The number of times a patient has visited the hospital in a year is what type of data?\n",
    "- The types of medications a patient takes (e.g., Aspirin, Ibuprofen, Paracetamol) is what type of data?\n",
    "- A patient’s BMI (Body Mass Index) value is what type of data?\n",
    "- The number of steps taken per day recorded by a fitness tracker is what type of data?\n",
    "- A patient’s cholesterol level (mg/dL) is what type of data?\n",
    "\n",
    "#### Business & Economics\n",
    "- The annual salary of employees in a company (in dollars) is what type of data?\n",
    "- The job titles of employees in a company (e.g., Manager, Analyst, Developer) is what type of data?\n",
    "- The total number of customers visiting a store each day is what type of data?\n",
    "- The years when economic recessions occurred (e.g., 2008, 2020) is what type of data?\n",
    "- The satisfaction level of customers in an online review system (Poor, Fair, Good, Excellent) is what type of data?\n",
    "- The stock price of a company at the end of each day is what type of data?\n",
    "- A store keeps track of how many units of each product are sold daily. What type of data is this?\n",
    "- A company tracks employee performance scores on a scale from 1 to 10. What type of data is this?\n",
    "- The number of employees working in each department of a company is what type of data?\n",
    "- The total revenue earned by a business each quarter (e.g., $1.5 million) is what type of data?\n",
    "\n",
    "#### Education & Science\n",
    "- The highest level of education completed by students (High School, Bachelor's, Master's, PhD) is what type of data?\n",
    "- The number of books borrowed from a library each month is what type of data?\n",
    "- A student’s GPA (Grade Point Average) is what type of data?\n",
    "- The rankings of universities (e.g., Harvard is #1, Stanford is #2) are what type of data?\n",
    "- The years in which major scientific discoveries were made (e.g., 1905, 1969, 1994) are what type of data?\n",
    "- The number of experiments conducted in a research lab is what type of data?\n",
    "- The types of research fields in a university (Physics, Biology, Chemistry, Mathematics) is what type of data?\n",
    "- The time taken for a chemical reaction to complete (in seconds) is what type of data?\n",
    "- The pH level of different liquid solutions in a lab is what type of data?\n",
    "- A test measures student performance in a subject, and the scores are normally distributed. What type of data is this?"
   ]
  },
  {
   "cell_type": "markdown",
   "metadata": {},
   "source": []
  }
 ],
 "metadata": {
  "language_info": {
   "name": "python"
  }
 },
 "nbformat": 4,
 "nbformat_minor": 2
}
