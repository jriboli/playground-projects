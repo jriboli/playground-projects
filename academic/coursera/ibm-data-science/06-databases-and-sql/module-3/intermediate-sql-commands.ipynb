{
 "cells": [
  {
   "cell_type": "code",
   "execution_count": 2,
   "metadata": {},
   "outputs": [],
   "source": [
    "# Connect to local DB\n",
    "import os\n",
    "import mysql.connector\n",
    "from sqlalchemy import create_engine\n",
    "from dotenv import load_dotenv\n",
    "\n",
    "load_dotenv()\n",
    "\n",
    "db_user = os.getenv(\"DB_USER\")\n",
    "db_password = os.getenv(\"DB_PASSWORD\")\n",
    "db_host = \"127.0.0.1\"\n",
    "db_name = \"coursera_db\"\n",
    "engine = mysql.connector.connect(user=db_user, password=db_password, host=db_host, database=db_name)\n",
    "\n",
    "cur = engine.cursor()"
   ]
  },
  {
   "cell_type": "markdown",
   "metadata": {},
   "source": [
    "Several key statments to help retrieve, manipulate, and analyze data efficiently. \n",
    "\n",
    "### ORDER BY - sort results\n",
    "Sorts data in <b>ascending</b> (ASC) or <b>descending</b> (DESC) order.\n",
    "``` \n",
    "SELECT name, age FROM users ORDER BY age DESC; \n",
    "```"
   ]
  },
  {
   "cell_type": "code",
   "execution_count": 6,
   "metadata": {},
   "outputs": [
    {
     "name": "stdout",
     "output_type": "stream",
     "text": [
      "<class 'list'>\n",
      "('John', 'Thomas', '2')\n",
      "('Ahmed', 'Hussain', '2')\n",
      "('Nancy', 'Allen', '2')\n",
      "('Alice', 'James', '5')\n",
      "('Steve', 'Wells', '5')\n",
      "('Santosh', 'Kumar', '5')\n",
      "('Ann', 'Jacob', '5')\n",
      "('Mary', 'Thomas', '7')\n",
      "('Bharath', 'Gupta', '7')\n",
      "('Andrea', 'Jones', '7')\n"
     ]
    }
   ],
   "source": [
    "# Use order by\n",
    "sql = \"SELECT F_NAME, L_NAME, DEP_ID FROM employees ORDER BY DEP_ID\"\n",
    "cur.execute(sql)\n",
    "rows = cur.fetchall()\n",
    "\n",
    "print(type(rows))\n",
    "\n",
    "for row in rows:\n",
    "    print(row)"
   ]
  },
  {
   "cell_type": "code",
   "execution_count": 8,
   "metadata": {},
   "outputs": [
    {
     "name": "stdout",
     "output_type": "stream",
     "text": [
      "<class 'list'>\n",
      "('Mary', 'Thomas', '7')\n",
      "('Andrea', 'Jones', '7')\n",
      "('Bharath', 'Gupta', '7')\n",
      "('Steve', 'Wells', '5')\n",
      "('Santosh', 'Kumar', '5')\n",
      "('Alice', 'James', '5')\n",
      "('Ann', 'Jacob', '5')\n",
      "('John', 'Thomas', '2')\n",
      "('Ahmed', 'Hussain', '2')\n",
      "('Nancy', 'Allen', '2')\n"
     ]
    }
   ],
   "source": [
    "# Another order by \n",
    "sql = \"SELECT F_NAME, L_NAME, DEP_ID FROM employees ORDER BY DEP_ID DESC, L_NAME DESC\"\n",
    "cur.execute(sql)\n",
    "rows = cur.fetchall()\n",
    "\n",
    "print(type(rows))\n",
    "\n",
    "for row in rows:\n",
    "    print(row)"
   ]
  },
  {
   "cell_type": "markdown",
   "metadata": {},
   "source": [
    "### GROUP BY - aggregate data\n",
    "Used with aggregate functions (`COUNT()`, `SUM()`, `AVG()`, etc.)\n",
    "```\n",
    "SELECT department, COUNT(*) AS employee_count\n",
    "FROM employees\n",
    "GROUP BY department;\n",
    "```"
   ]
  },
  {
   "cell_type": "code",
   "execution_count": 9,
   "metadata": {},
   "outputs": [
    {
     "name": "stdout",
     "output_type": "stream",
     "text": [
      "('2', 3)\n",
      "('5', 4)\n",
      "('7', 3)\n"
     ]
    }
   ],
   "source": [
    "# Using Group By\n",
    "sql = \"SELECT DEP_ID, COUNT(*) FROM employees GROUP BY DEP_ID\"\n",
    "cur.execute(sql)\n",
    "rows = cur.fetchall()\n",
    "\n",
    "for row in rows:\n",
    "    print(row)"
   ]
  },
  {
   "cell_type": "code",
   "execution_count": 11,
   "metadata": {},
   "outputs": [
    {
     "name": "stdout",
     "output_type": "stream",
     "text": [
      "('2', 3, Decimal('86666.666667'))\n",
      "('5', 4, Decimal('65000.000000'))\n",
      "('7', 3, Decimal('66666.666667'))\n"
     ]
    }
   ],
   "source": [
    "# Another Group By\n",
    "sql = \"SELECT DEP_ID, COUNT(*), AVG(SALARY) FROM employees GROUP BY DEP_ID\"\n",
    "cur.execute(sql)\n",
    "rows = cur.fetchall()\n",
    "\n",
    "for row in rows:\n",
    "    print(row)"
   ]
  },
  {
   "cell_type": "markdown",
   "metadata": {},
   "source": [
    "### HAVING - filter aggregate data\n",
    "`HAVING` is uded to filter <b>aggregated</b> results from `GROUP BY`, whereas `WHERE` filters <b>individual rows</b>.\n",
    "```\n",
    "SELECT departments, COUNT(*) as employee_count\n",
    "FROM employees\n",
    "GROUP BY department\n",
    "HAVING COUNT(*) > 5;\n",
    "```"
   ]
  },
  {
   "cell_type": "code",
   "execution_count": 16,
   "metadata": {},
   "outputs": [
    {
     "name": "stdout",
     "output_type": "stream",
     "text": [
      "('7', 3, Decimal('66666.666667'))\n",
      "('2', 3, Decimal('86666.666667'))\n"
     ]
    }
   ],
   "source": [
    "# Using Having\n",
    "sql = \"\"\"SELECT DEP_ID, COUNT(*) AS 'num_employess', AVG(SALARY) AS 'avg_salary' \n",
    "FROM employees \n",
    "GROUP BY DEP_ID \n",
    "HAVING COUNT(*) < 4 \n",
    "ORDER BY avg_salary\"\"\"\n",
    "cur.execute(sql)\n",
    "rows = cur.fetchall()\n",
    "\n",
    "for row in rows:\n",
    "    print(row)"
   ]
  },
  {
   "cell_type": "markdown",
   "metadata": {},
   "source": [
    "### UNION - combine query results\n",
    "Merges results from multiple SELECT queries while removing duplicates.\n",
    "```\n",
    "SELECT name FROM customers\n",
    "UNION\n",
    "SELECT name FROM suppliers;\n",
    "```\n",
    "\n",
    "## CASE - conditional logic in SQL\n",
    "Works like an `IF-ELSE` statement in SQL.\n",
    "```\n",
    "SELECT name,\n",
    "    CASE\n",
    "        WHEN age < 18 THEN 'minor'\n",
    "        WHEN age between 18 AND 65 THEN 'adult'\n",
    "        ELSE 'senior'\n",
    "    END AS age_group\n",
    "FROM users;\n",
    "```\n",
    "\n",
    "### EXISTS - check if a subquery returns rows\n",
    "```\n",
    "SELECT name FROM users\n",
    "WHERE EXISTS (SELECT * FROM orders WHERE users.id = orders.user_id);\n",
    "```"
   ]
  },
  {
   "cell_type": "code",
   "execution_count": null,
   "metadata": {},
   "outputs": [],
   "source": [
    "# Pull DB data to verify\n",
    "cur.execute(\"SELECT * FROM medical_departments\")\n",
    "med_depart_data = cur.fetchall()\n",
    "\n",
    "print(med_depart_data)"
   ]
  },
  {
   "cell_type": "markdown",
   "metadata": {},
   "source": [
    "### What does `.commit` do?\n",
    "`.commit()` is the method is database connection objects that finalizes changes made in a transcation and makes them permanent in the database.\n",
    "<b>Without `.commit()`, the changes remain temporary and are lost when the connection is closed.</b>\n",
    "\n",
    "### Why is `.commit` necessary?\n",
    "When you modify data in MySQL, it does not immediately write those changes permanently. Instead, <b>it stores them in a temporary state (transction buffer)</b> until either:\n",
    "- `.commit()` is called -> <b>makes the changes permanent</b>\n",
    "- `.rollback()` is called -> <b>reverts changes</b>\n",
    "- The connection closes <b>without committing</b> -> <b>changes are lost</b>\n",
    "\n",
    "### Why can you still query uncommitted data?\n",
    "Even if you havent committed, you can still <b>see uncommitted changes within the same connection</b> because:\n",
    "- <b>MySQL supports transactions</b>, meaning the changes are visible only within the active session.\n",
    "- Myour changes exist in a <b>temporary transaction buffer</b>, not yet written permanently to disk.\n",
    "\n",
    "### How `.commit()` works internally?\n",
    "When you call `.commit()` MySQL:\n",
    "1. <b>Writes the transaction log</b> -> ensures durability.\n",
    "2. <b>Releases locks</b> -> Allows other users to see the changes.\n",
    "3. <b>Flushes changes to disk</b> -> Now permanently stored in the database."
   ]
  },
  {
   "cell_type": "code",
   "execution_count": 53,
   "metadata": {},
   "outputs": [],
   "source": [
    "engine.commit()"
   ]
  },
  {
   "cell_type": "code",
   "execution_count": null,
   "metadata": {},
   "outputs": [],
   "source": [
    "\n",
    "cur.close()\n",
    "engine.close()"
   ]
  }
 ],
 "metadata": {
  "kernelspec": {
   "display_name": "venv",
   "language": "python",
   "name": "python3"
  },
  "language_info": {
   "codemirror_mode": {
    "name": "ipython",
    "version": 3
   },
   "file_extension": ".py",
   "mimetype": "text/x-python",
   "name": "python",
   "nbconvert_exporter": "python",
   "pygments_lexer": "ipython3",
   "version": "3.12.2"
  }
 },
 "nbformat": 4,
 "nbformat_minor": 2
}
