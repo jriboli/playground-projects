{
 "cells": [
  {
   "cell_type": "code",
   "execution_count": 12,
   "metadata": {},
   "outputs": [],
   "source": [
    "# Connect to local DB\n",
    "import os\n",
    "import mysql.connector\n",
    "from sqlalchemy import create_engine\n",
    "from dotenv import load_dotenv\n",
    "\n",
    "load_dotenv()\n",
    "\n",
    "db_user = os.getenv(\"DB_USER\")\n",
    "db_password = os.getenv(\"DB_PASSWORD\")\n",
    "db_host = \"127.0.0.1\"\n",
    "db_name = \"coursera_db\"\n",
    "engine = mysql.connector.connect(user=db_user, password=db_password, host=db_host, database=db_name)\n",
    "\n",
    "cur = engine.cursor()"
   ]
  },
  {
   "cell_type": "code",
   "execution_count": 9,
   "metadata": {},
   "outputs": [
    {
     "name": "stdout",
     "output_type": "stream",
     "text": [
      "   0                1      2      3\n",
      "0  2  Architect Group  30001  L0001\n",
      "1  5   Software Group  30002  L0002\n",
      "2  7      Design Team  30003  L0003\n",
      "Record inserted\n",
      "Record inserted\n",
      "Record inserted\n"
     ]
    },
    {
     "name": "stderr",
     "output_type": "stream",
     "text": [
      "<>:2: SyntaxWarning: invalid escape sequence '\\d'\n",
      "<>:2: SyntaxWarning: invalid escape sequence '\\d'\n",
      "C:\\Users\\Justin\\AppData\\Local\\Temp\\ipykernel_632\\1300364011.py:2: SyntaxWarning: invalid escape sequence '\\d'\n",
      "  departments = pd.read_csv(\"data\\departments.csv\", header=None)\n"
     ]
    }
   ],
   "source": [
    "import pandas as pd\n",
    "departments = pd.read_csv(\"data\\departments.csv\", header=None)\n",
    "print(departments.head())\n",
    "\n",
    "for i, department in departments.iterrows():\n",
    "    sql = \"INSERT INTO departments VALUES (%s, %s, %s, %s)\"\n",
    "    cur.execute(sql, tuple(department))\n",
    "    print(\"Record inserted\")"
   ]
  },
  {
   "cell_type": "code",
   "execution_count": null,
   "metadata": {},
   "outputs": [],
   "source": [
    "employees = pd.read_csv(\"data\\employees.csv\", header=None)\n",
    "print(employees.head())\n",
    "\n",
    "for i, employee in employees.iterrows():\n",
    "    print(\"Employee: \")\n",
    "    print(employee)\n",
    "    print(employee.dtype)\n",
    "    print(type(employee))\n",
    "    print(\"Employee as Tuple: \")\n",
    "    print(tuple(employee))\n",
    "    print(type(tuple(employee)))\n",
    "    sql = \"INSERT INTO employees VALUES (%s, %s, %s, %s, %s, %s, %s, %s, %s, %s, %s)\"\n",
    "    cur.execute(sql, tuple(employee))\n",
    "    print(\"Record inserted\")"
   ]
  },
  {
   "cell_type": "code",
   "execution_count": null,
   "metadata": {},
   "outputs": [],
   "source": [
    "job_histories = pd.read_csv(\"data\\jobs-history.csv\", header=None)\n",
    "print(job_histories.head())\n",
    "\n",
    "for i, job in job_histories.iterrows():\n",
    "    print(job)\n",
    "    print(tuple(job))\n",
    "    sql = \"INSERT INTO job_history VALUES (%s, %s, %s, %s)\"\n",
    "    cur.execute(sql, tuple(job))\n",
    "    print(\"Record inserted\")"
   ]
  },
  {
   "cell_type": "code",
   "execution_count": null,
   "metadata": {},
   "outputs": [],
   "source": [
    "jobs = pd.read_csv(\"data\\jobs.csv\", header=None)\n",
    "print(jobs.head())\n",
    "\n",
    "for i, job in jobs.iterrows():\n",
    "    sql = \"INSERT INTO jobs VALUES (%s, %s, %s, %s)\"\n",
    "    cur.execute(sql, tuple(job))\n",
    "    print(\"Record inserted\")"
   ]
  },
  {
   "cell_type": "code",
   "execution_count": null,
   "metadata": {},
   "outputs": [],
   "source": [
    "locations = pd.read_csv(\"data\\locations.csv\", header=None)\n",
    "print(locations.head())\n",
    "\n",
    "for i, location in locations.iterrows():\n",
    "    sql = \"INSERT INTO locations VALUES (%s, %s)\"\n",
    "    cur.execute(sql, tuple(location))\n",
    "    print(\"Record inserted!\")"
   ]
  },
  {
   "cell_type": "code",
   "execution_count": 33,
   "metadata": {},
   "outputs": [],
   "source": [
    "engine.commit()"
   ]
  },
  {
   "cell_type": "code",
   "execution_count": 7,
   "metadata": {},
   "outputs": [],
   "source": [
    "\n",
    "cur.close()\n",
    "engine.close()"
   ]
  }
 ],
 "metadata": {
  "kernelspec": {
   "display_name": "venv",
   "language": "python",
   "name": "python3"
  },
  "language_info": {
   "codemirror_mode": {
    "name": "ipython",
    "version": 3
   },
   "file_extension": ".py",
   "mimetype": "text/x-python",
   "name": "python",
   "nbconvert_exporter": "python",
   "pygments_lexer": "ipython3",
   "version": "3.12.2"
  }
 },
 "nbformat": 4,
 "nbformat_minor": 2
}
