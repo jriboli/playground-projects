{
 "cells": [
  {
   "cell_type": "code",
   "execution_count": 44,
   "metadata": {},
   "outputs": [
    {
     "name": "stdout",
     "output_type": "stream",
     "text": [
      "Current Date is: 2025-03-18\n"
     ]
    }
   ],
   "source": [
    "# Connect to local DB\n",
    "import os\n",
    "import mysql.connector\n",
    "from sqlalchemy import create_engine\n",
    "from dotenv import load_dotenv\n",
    "\n",
    "load_dotenv()\n",
    "\n",
    "db_user = os.getenv(\"DB_USER\")\n",
    "db_password = os.getenv(\"DB_PASSWORD\")\n",
    "db_host = \"127.0.0.1\"\n",
    "db_name = \"coursera_db\"\n",
    "engine = mysql.connector.connect(user=db_user, password=db_password, host=db_host, database=db_name)\n",
    "\n",
    "# Run simple command to test connection\n",
    "cur = engine.cursor()\n",
    "cur.execute(\"SELECT CURDATE()\")\n",
    "row = cur.fetchone()\n",
    "print(\"Current Date is: {0}\".format(row[0]))"
   ]
  },
  {
   "cell_type": "code",
   "execution_count": 4,
   "metadata": {},
   "outputs": [],
   "source": [
    "# Add a new column to pet_sale\n",
    "cur.execute(\"ALTER TABLE pet_sale ADD COLUMN quantity INTEGER\")"
   ]
  },
  {
   "cell_type": "code",
   "execution_count": null,
   "metadata": {},
   "outputs": [],
   "source": [
    "import random \n",
    "\n",
    "# Add some values for the new column\n",
    "cur.execute(\"SELECT id FROM pet_sale\")\n",
    "sale_ids = cur.fetchall()\n",
    "\n",
    "for sale in sale_ids:\n",
    "    rand_quantity = random.randint(1, 50)\n",
    "    cur.execute(f\"UPDATE pet_sale SET quantity = {rand_quantity} WHERE id = {sale[0]};\")\n",
    "    print(f\"UPDATE pet_sale SET quantity = {rand_quantity} WHERE id = {sale[0]}\")\n",
    "    print(cur.rowcount)\n",
    "    #print(sale[0])"
   ]
  },
  {
   "cell_type": "code",
   "execution_count": null,
   "metadata": {},
   "outputs": [],
   "source": [
    "import pandas as pd\n",
    "#Populate Medical DB Tables\n",
    "# Note: Pandas read a csv, it treat first row as headers by default\n",
    "# override that by adding 'header=None' in the read_csv method\n",
    "med_departments = pd.read_csv(\"data\\medical-departments.csv\", header=None)\n",
    "med_departments.columns = [\"dept_id\", \"dept_name\", \"manager_id\", \"location_id\"]\n",
    "med_departments[\"manager_id\"] = None\n",
    "print(med_departments.head())\n",
    "\n",
    "for i, department in med_departments.iterrows():\n",
    "    sql = \"INSERT INTO medical_departments VALUES (%s, %s, %s, %s)\"\n",
    "    cur.execute(sql, tuple(department))\n",
    "    print(\"Record inserted\")"
   ]
  },
  {
   "cell_type": "code",
   "execution_count": null,
   "metadata": {},
   "outputs": [],
   "source": [
    "# Pull DB data to verify\n",
    "cur.execute(\"SELECT * FROM medical_departments\")\n",
    "med_depart_data = cur.fetchall()\n",
    "\n",
    "print(med_depart_data)"
   ]
  },
  {
   "cell_type": "markdown",
   "metadata": {},
   "source": [
    "### `.iterrows()` in Pandas\n",
    "The `.iterrows()` method in Pandas iterates over DataFrame rows as (index, Series) pairs. It allows you to loop through each row <b>one at a time</b>, but it is <b>slow for large DataFrames</b> since it operates row-wise.\n",
    "\n",
    "### Basic Syntax\n",
    "```\n",
    "for index, row in df.iterrows():\n",
    "    print(index)    # row index\n",
    "    print(row)      # row data as a panda series"
   ]
  },
  {
   "cell_type": "code",
   "execution_count": null,
   "metadata": {},
   "outputs": [],
   "source": [
    "med_history = pd.read_csv(\"data\\medical-history.csv\", header=None)\n",
    "print(med_history.head())\n",
    "\n",
    "for i, history in med_history.iterrows():\n",
    "    sql = \"INSERT INTO medical_history VALUES (%s, %s, %s, %s, %s, %s)\"\n",
    "    cur.execute(sql, tuple(history))\n",
    "    print(\"Record inserted\")"
   ]
  },
  {
   "cell_type": "code",
   "execution_count": null,
   "metadata": {},
   "outputs": [],
   "source": [
    "med_locations = pd.read_csv(\"data\\medical-locations.csv\", header=None)\n",
    "print(med_locations.head())\n",
    "\n",
    "for i, location in med_locations.iterrows():\n",
    "    sql = \"INSERT INTO medical_locations VALUES (%s, %s, %s)\"\n",
    "    cur.execute(sql, tuple(location))\n",
    "    print(\"Record inserted\")"
   ]
  },
  {
   "cell_type": "code",
   "execution_count": null,
   "metadata": {},
   "outputs": [],
   "source": [
    "med_procedures = pd.read_csv(\"data\\medical-procedures.csv\", header=None)\n",
    "print(med_procedures.head())\n",
    "\n",
    "for i, procedures in med_procedures.iterrows():\n",
    "    sql = \"INSERT INTO medical_procedures VALUES (%s, %s, %s, %s, %s)\"\n",
    "    cur.execute(sql, tuple(procedures))\n",
    "    print(\"Record inserted\")"
   ]
  },
  {
   "cell_type": "code",
   "execution_count": null,
   "metadata": {},
   "outputs": [],
   "source": [
    "patients = pd.read_csv(\"data\\patients.csv\", header=None)\n",
    "print(patients.head())\n",
    "\n",
    "for i, patient in patients.iterrows():\n",
    "    sql = \"INSERT INTO patients VALUES (%s, %s, %s, %s, %s, %s, %s, %s)\"\n",
    "    cur.execute(sql, tuple(patient))\n",
    "    print(\"Record inserted\")"
   ]
  },
  {
   "cell_type": "markdown",
   "metadata": {},
   "source": [
    "### What does `.commit` do?\n",
    "`.commit()` is the method is database connection objects that finalizes changes made in a transcation and makes them permanent in the database.\n",
    "<b>Without `.commit()`, the changes remain temporary and are lost when the connection is closed.</b>\n",
    "\n",
    "### Why is `.commit` necessary?\n",
    "When you modify data in MySQL, it does not immediately write those changes permanently. Instead, <b>it stores them in a temporary state (transction buffer)</b> until either:\n",
    "- `.commit()` is called -> <b>makes the changes permanent</b>\n",
    "- `.rollback()` is called -> <b>reverts changes</b>\n",
    "- The connection closes <b>without committing</b> -> <b>changes are lost</b>\n",
    "\n",
    "### Why can you still query uncommitted data?\n",
    "Even if you havent committed, you can still <b>see uncommitted changes within the same connection</b> because:\n",
    "- <b>MySQL supports transactions</b>, meaning the changes are visible only within the active session.\n",
    "- Myour changes exist in a <b>temporary transaction buffer</b>, not yet written permanently to disk.\n",
    "\n",
    "### How `.commit()` works internally?\n",
    "When you call `.commit()` MySQL:\n",
    "1. <b>Writes the transaction log</b> -> ensures durability.\n",
    "2. <b>Releases locks</b> -> Allows other users to see the changes.\n",
    "3. <b>Flushes changes to disk</b> -> Now permanently stored in the database."
   ]
  },
  {
   "cell_type": "code",
   "execution_count": 53,
   "metadata": {},
   "outputs": [],
   "source": [
    "engine.commit()"
   ]
  },
  {
   "cell_type": "code",
   "execution_count": null,
   "metadata": {},
   "outputs": [],
   "source": [
    "\n",
    "cur.close()\n",
    "engine.close()"
   ]
  }
 ],
 "metadata": {
  "kernelspec": {
   "display_name": "venv",
   "language": "python",
   "name": "python3"
  },
  "language_info": {
   "codemirror_mode": {
    "name": "ipython",
    "version": 3
   },
   "file_extension": ".py",
   "mimetype": "text/x-python",
   "name": "python",
   "nbconvert_exporter": "python",
   "pygments_lexer": "ipython3",
   "version": "3.12.2"
  }
 },
 "nbformat": 4,
 "nbformat_minor": 2
}
