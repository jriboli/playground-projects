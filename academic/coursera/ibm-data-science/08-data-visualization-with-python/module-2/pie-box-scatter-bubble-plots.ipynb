{
 "cells": [
  {
   "cell_type": "markdown",
   "id": "6cff4dbc-a18e-48f1-bc49-cad1cf7870b5",
   "metadata": {},
   "source": [
    "<center>\n",
    "    <img src=\"https://cf-courses-data.s3.us.cloud-object-storage.appdomain.cloud/IBMDeveloperSkillsNetwork-DV0101EN-SkillsNetwork/labs/Module%203/images/IDSNlogo.png\" width=\"300\" alt=\"cognitiveclass.ai logo\">\n",
    "</center>\n",
    "\n",
    "# Pie Charts, Box Plots, Scatter Plots, and Bubble Plots\n",
    "\n",
    "Estimated time needed: **30** minutes\n",
    "\n",
    "## Objectives\n",
    "\n",
    "After completing this lab you will be able to:\n",
    "\n",
    "*   Explore Matplotlib library further\n",
    "*   Create pie charts, box plots, scatter plots and bubble charts\n"
   ]
  },
  {
   "cell_type": "markdown",
   "id": "a205d2a8-e024-410a-a8ca-24cbf60ec0f9",
   "metadata": {},
   "source": [
    "## Table of Contents\n",
    "\n",
    "<div class=\"alert alert-block alert-info\" style=\"margin-top: 20px\">\n",
    "\n",
    "1.  [Exploring Datasets with *p*andas](#0)<br>\n",
    "2.  [Downloading and Prepping Data](#2)<br>\n",
    "3.  [Visualizing Data using Matplotlib](#4) <br>\n",
    "4.  [Pie Charts](#6) <br>\n",
    "5.  [Box Plots](#8) <br>\n",
    "6.  [Scatter Plots](#10) <br>\n",
    "7.  [Bubble Plots](#12) <br>\n",
    "\n",
    "</div>\n"
   ]
  },
  {
   "cell_type": "markdown",
   "id": "4051ee87-995f-40b9-be4c-e1d14e6ac2de",
   "metadata": {},
   "source": [
    "# Importing Libraries<a id=\"0\"></a>\n"
   ]
  },
  {
   "cell_type": "code",
   "execution_count": 1,
   "id": "02c696be-f69c-4147-b6c3-422c0a719045",
   "metadata": {},
   "outputs": [
    {
     "name": "stdout",
     "output_type": "stream",
     "text": [
      "Matplotlib version:  3.10.1\n"
     ]
    }
   ],
   "source": [
    "#Import primary modules.\n",
    "import numpy as np  # useful for many scientific computing in Python\n",
    "import pandas as pd # primary data structure library\n",
    "\n",
    "#Importing Matplotlib\n",
    "#%matplotlib inline\n",
    "\n",
    "import matplotlib as mpl\n",
    "import matplotlib.pyplot as plt\n",
    "\n",
    "mpl.style.use('ggplot') # optional: for ggplot-like style\n",
    "\n",
    "# check for latest version of Matplotlib\n",
    "print('Matplotlib version: ', mpl.__version__) # >= 2.0.0"
   ]
  },
  {
   "cell_type": "markdown",
   "id": "4ba0cf92-74d4-42b4-8c5e-1ea9f31e3901",
   "metadata": {},
   "source": [
    "## Importing Data <a id=\"2\"></a>\n",
    "Dataset: Immigration to Canada from 1980 to 2013 - [International migration flows to and from selected countries - The 2015 revision](https://www.un.org/development/desa/pd/data/international-migration-flows) from United Nation's website.<br>\n",
    "In this lab, we will focus on the Canadian Immigration data and use the *already cleaned dataset* and can be fetched from <a href=\"https://cf-courses-data.s3.us.cloud-object-storage.appdomain.cloud/IBMDeveloperSkillsNetwork-DV0101EN-SkillsNetwork/Data%20Files/Canada.csv\">here</a>.\n",
    "<br><br>\n",
    "You can refer to the lab on data pre-processing wherein this dataset is cleaned for a quick refresh your Panads skill [Data pre-processing with Pandas](https://cf-courses-data.s3.us.cloud-object-storage.appdomain.cloud/IBMDeveloperSkillsNetwork-DV0101EN-SkillsNetwork/labs/june2023_updates/Module%201/DV0101EN-Exercise-Dataset-Preprocessing-Exploring-with-Pandas.ipynb)\n"
   ]
  },
  {
   "cell_type": "code",
   "execution_count": 2,
   "id": "b7352060-b730-4227-a896-2bdc25c64352",
   "metadata": {},
   "outputs": [
    {
     "name": "stdout",
     "output_type": "stream",
     "text": [
      "Data read into a pandas dataframe!\n"
     ]
    }
   ],
   "source": [
    "df_can = pd.read_csv('https://cf-courses-data.s3.us.cloud-object-storage.appdomain.cloud/IBMDeveloperSkillsNetwork-DV0101EN-SkillsNetwork/Data%20Files/Canada.csv')\n",
    "\n",
    "print('Data read into a pandas dataframe!')"
   ]
  },
  {
   "cell_type": "code",
   "execution_count": 3,
   "id": "1c9eb8b1-f9b8-4ef3-81fa-97fb837b3853",
   "metadata": {},
   "outputs": [
    {
     "data": {
      "text/html": [
       "<div>\n",
       "<style scoped>\n",
       "    .dataframe tbody tr th:only-of-type {\n",
       "        vertical-align: middle;\n",
       "    }\n",
       "\n",
       "    .dataframe tbody tr th {\n",
       "        vertical-align: top;\n",
       "    }\n",
       "\n",
       "    .dataframe thead th {\n",
       "        text-align: right;\n",
       "    }\n",
       "</style>\n",
       "<table border=\"1\" class=\"dataframe\">\n",
       "  <thead>\n",
       "    <tr style=\"text-align: right;\">\n",
       "      <th></th>\n",
       "      <th>Country</th>\n",
       "      <th>Continent</th>\n",
       "      <th>Region</th>\n",
       "      <th>DevName</th>\n",
       "      <th>1980</th>\n",
       "      <th>1981</th>\n",
       "      <th>1982</th>\n",
       "      <th>1983</th>\n",
       "      <th>1984</th>\n",
       "      <th>1985</th>\n",
       "      <th>...</th>\n",
       "      <th>2005</th>\n",
       "      <th>2006</th>\n",
       "      <th>2007</th>\n",
       "      <th>2008</th>\n",
       "      <th>2009</th>\n",
       "      <th>2010</th>\n",
       "      <th>2011</th>\n",
       "      <th>2012</th>\n",
       "      <th>2013</th>\n",
       "      <th>Total</th>\n",
       "    </tr>\n",
       "  </thead>\n",
       "  <tbody>\n",
       "    <tr>\n",
       "      <th>0</th>\n",
       "      <td>Afghanistan</td>\n",
       "      <td>Asia</td>\n",
       "      <td>Southern Asia</td>\n",
       "      <td>Developing regions</td>\n",
       "      <td>16</td>\n",
       "      <td>39</td>\n",
       "      <td>39</td>\n",
       "      <td>47</td>\n",
       "      <td>71</td>\n",
       "      <td>340</td>\n",
       "      <td>...</td>\n",
       "      <td>3436</td>\n",
       "      <td>3009</td>\n",
       "      <td>2652</td>\n",
       "      <td>2111</td>\n",
       "      <td>1746</td>\n",
       "      <td>1758</td>\n",
       "      <td>2203</td>\n",
       "      <td>2635</td>\n",
       "      <td>2004</td>\n",
       "      <td>58639</td>\n",
       "    </tr>\n",
       "    <tr>\n",
       "      <th>1</th>\n",
       "      <td>Albania</td>\n",
       "      <td>Europe</td>\n",
       "      <td>Southern Europe</td>\n",
       "      <td>Developed regions</td>\n",
       "      <td>1</td>\n",
       "      <td>0</td>\n",
       "      <td>0</td>\n",
       "      <td>0</td>\n",
       "      <td>0</td>\n",
       "      <td>0</td>\n",
       "      <td>...</td>\n",
       "      <td>1223</td>\n",
       "      <td>856</td>\n",
       "      <td>702</td>\n",
       "      <td>560</td>\n",
       "      <td>716</td>\n",
       "      <td>561</td>\n",
       "      <td>539</td>\n",
       "      <td>620</td>\n",
       "      <td>603</td>\n",
       "      <td>15699</td>\n",
       "    </tr>\n",
       "    <tr>\n",
       "      <th>2</th>\n",
       "      <td>Algeria</td>\n",
       "      <td>Africa</td>\n",
       "      <td>Northern Africa</td>\n",
       "      <td>Developing regions</td>\n",
       "      <td>80</td>\n",
       "      <td>67</td>\n",
       "      <td>71</td>\n",
       "      <td>69</td>\n",
       "      <td>63</td>\n",
       "      <td>44</td>\n",
       "      <td>...</td>\n",
       "      <td>3626</td>\n",
       "      <td>4807</td>\n",
       "      <td>3623</td>\n",
       "      <td>4005</td>\n",
       "      <td>5393</td>\n",
       "      <td>4752</td>\n",
       "      <td>4325</td>\n",
       "      <td>3774</td>\n",
       "      <td>4331</td>\n",
       "      <td>69439</td>\n",
       "    </tr>\n",
       "    <tr>\n",
       "      <th>3</th>\n",
       "      <td>American Samoa</td>\n",
       "      <td>Oceania</td>\n",
       "      <td>Polynesia</td>\n",
       "      <td>Developing regions</td>\n",
       "      <td>0</td>\n",
       "      <td>1</td>\n",
       "      <td>0</td>\n",
       "      <td>0</td>\n",
       "      <td>0</td>\n",
       "      <td>0</td>\n",
       "      <td>...</td>\n",
       "      <td>0</td>\n",
       "      <td>1</td>\n",
       "      <td>0</td>\n",
       "      <td>0</td>\n",
       "      <td>0</td>\n",
       "      <td>0</td>\n",
       "      <td>0</td>\n",
       "      <td>0</td>\n",
       "      <td>0</td>\n",
       "      <td>6</td>\n",
       "    </tr>\n",
       "    <tr>\n",
       "      <th>4</th>\n",
       "      <td>Andorra</td>\n",
       "      <td>Europe</td>\n",
       "      <td>Southern Europe</td>\n",
       "      <td>Developed regions</td>\n",
       "      <td>0</td>\n",
       "      <td>0</td>\n",
       "      <td>0</td>\n",
       "      <td>0</td>\n",
       "      <td>0</td>\n",
       "      <td>0</td>\n",
       "      <td>...</td>\n",
       "      <td>0</td>\n",
       "      <td>1</td>\n",
       "      <td>1</td>\n",
       "      <td>0</td>\n",
       "      <td>0</td>\n",
       "      <td>0</td>\n",
       "      <td>0</td>\n",
       "      <td>1</td>\n",
       "      <td>1</td>\n",
       "      <td>15</td>\n",
       "    </tr>\n",
       "  </tbody>\n",
       "</table>\n",
       "<p>5 rows × 39 columns</p>\n",
       "</div>"
      ],
      "text/plain": [
       "          Country Continent           Region             DevName  1980  1981  \\\n",
       "0     Afghanistan      Asia    Southern Asia  Developing regions    16    39   \n",
       "1         Albania    Europe  Southern Europe   Developed regions     1     0   \n",
       "2         Algeria    Africa  Northern Africa  Developing regions    80    67   \n",
       "3  American Samoa   Oceania        Polynesia  Developing regions     0     1   \n",
       "4         Andorra    Europe  Southern Europe   Developed regions     0     0   \n",
       "\n",
       "   1982  1983  1984  1985  ...  2005  2006  2007  2008  2009  2010  2011  \\\n",
       "0    39    47    71   340  ...  3436  3009  2652  2111  1746  1758  2203   \n",
       "1     0     0     0     0  ...  1223   856   702   560   716   561   539   \n",
       "2    71    69    63    44  ...  3626  4807  3623  4005  5393  4752  4325   \n",
       "3     0     0     0     0  ...     0     1     0     0     0     0     0   \n",
       "4     0     0     0     0  ...     0     1     1     0     0     0     0   \n",
       "\n",
       "   2012  2013  Total  \n",
       "0  2635  2004  58639  \n",
       "1   620   603  15699  \n",
       "2  3774  4331  69439  \n",
       "3     0     0      6  \n",
       "4     1     1     15  \n",
       "\n",
       "[5 rows x 39 columns]"
      ]
     },
     "execution_count": 3,
     "metadata": {},
     "output_type": "execute_result"
    }
   ],
   "source": [
    "df_can.head()"
   ]
  },
  {
   "cell_type": "markdown",
   "id": "d4d55cb8-93ad-410f-82d9-34177d058517",
   "metadata": {},
   "source": [
    "Let's find out how many entries there are in our dataset.\n"
   ]
  },
  {
   "cell_type": "code",
   "execution_count": 4,
   "id": "d89b4b45-bb1f-45e0-a01a-9b61613b8982",
   "metadata": {},
   "outputs": [
    {
     "name": "stdout",
     "output_type": "stream",
     "text": [
      "(195, 39)\n"
     ]
    }
   ],
   "source": [
    "# print the dimensions of the dataframe\n",
    "print(df_can.shape)"
   ]
  },
  {
   "cell_type": "markdown",
   "id": "a43add8c-d427-439c-b60c-88b82584f75a",
   "metadata": {},
   "source": [
    "# Visualizing Data using Matplotlib<a id=\"4\"></a>\n"
   ]
  },
  {
   "cell_type": "markdown",
   "id": "a522d06f-bc71-4ef6-9b9c-0cd42ba1a631",
   "metadata": {},
   "source": [
    "For plotting the data easilty, let's first set the country name as index - useful for quickly looking up countries using .loc method.\n"
   ]
  },
  {
   "cell_type": "code",
   "execution_count": 5,
   "id": "9a62dfaf-ff5b-497e-85c3-e8eea2ac61da",
   "metadata": {},
   "outputs": [],
   "source": [
    "df_can.set_index('Country', inplace=True)"
   ]
  },
  {
   "cell_type": "code",
   "execution_count": 6,
   "id": "49414896-ad0d-4e42-b578-351182da6427",
   "metadata": {},
   "outputs": [
    {
     "data": {
      "text/html": [
       "<div>\n",
       "<style scoped>\n",
       "    .dataframe tbody tr th:only-of-type {\n",
       "        vertical-align: middle;\n",
       "    }\n",
       "\n",
       "    .dataframe tbody tr th {\n",
       "        vertical-align: top;\n",
       "    }\n",
       "\n",
       "    .dataframe thead th {\n",
       "        text-align: right;\n",
       "    }\n",
       "</style>\n",
       "<table border=\"1\" class=\"dataframe\">\n",
       "  <thead>\n",
       "    <tr style=\"text-align: right;\">\n",
       "      <th></th>\n",
       "      <th>Continent</th>\n",
       "      <th>Region</th>\n",
       "      <th>DevName</th>\n",
       "      <th>1980</th>\n",
       "      <th>1981</th>\n",
       "      <th>1982</th>\n",
       "      <th>1983</th>\n",
       "      <th>1984</th>\n",
       "      <th>1985</th>\n",
       "      <th>1986</th>\n",
       "      <th>...</th>\n",
       "      <th>2005</th>\n",
       "      <th>2006</th>\n",
       "      <th>2007</th>\n",
       "      <th>2008</th>\n",
       "      <th>2009</th>\n",
       "      <th>2010</th>\n",
       "      <th>2011</th>\n",
       "      <th>2012</th>\n",
       "      <th>2013</th>\n",
       "      <th>Total</th>\n",
       "    </tr>\n",
       "    <tr>\n",
       "      <th>Country</th>\n",
       "      <th></th>\n",
       "      <th></th>\n",
       "      <th></th>\n",
       "      <th></th>\n",
       "      <th></th>\n",
       "      <th></th>\n",
       "      <th></th>\n",
       "      <th></th>\n",
       "      <th></th>\n",
       "      <th></th>\n",
       "      <th></th>\n",
       "      <th></th>\n",
       "      <th></th>\n",
       "      <th></th>\n",
       "      <th></th>\n",
       "      <th></th>\n",
       "      <th></th>\n",
       "      <th></th>\n",
       "      <th></th>\n",
       "      <th></th>\n",
       "      <th></th>\n",
       "    </tr>\n",
       "  </thead>\n",
       "  <tbody>\n",
       "    <tr>\n",
       "      <th>Afghanistan</th>\n",
       "      <td>Asia</td>\n",
       "      <td>Southern Asia</td>\n",
       "      <td>Developing regions</td>\n",
       "      <td>16</td>\n",
       "      <td>39</td>\n",
       "      <td>39</td>\n",
       "      <td>47</td>\n",
       "      <td>71</td>\n",
       "      <td>340</td>\n",
       "      <td>496</td>\n",
       "      <td>...</td>\n",
       "      <td>3436</td>\n",
       "      <td>3009</td>\n",
       "      <td>2652</td>\n",
       "      <td>2111</td>\n",
       "      <td>1746</td>\n",
       "      <td>1758</td>\n",
       "      <td>2203</td>\n",
       "      <td>2635</td>\n",
       "      <td>2004</td>\n",
       "      <td>58639</td>\n",
       "    </tr>\n",
       "    <tr>\n",
       "      <th>Albania</th>\n",
       "      <td>Europe</td>\n",
       "      <td>Southern Europe</td>\n",
       "      <td>Developed regions</td>\n",
       "      <td>1</td>\n",
       "      <td>0</td>\n",
       "      <td>0</td>\n",
       "      <td>0</td>\n",
       "      <td>0</td>\n",
       "      <td>0</td>\n",
       "      <td>1</td>\n",
       "      <td>...</td>\n",
       "      <td>1223</td>\n",
       "      <td>856</td>\n",
       "      <td>702</td>\n",
       "      <td>560</td>\n",
       "      <td>716</td>\n",
       "      <td>561</td>\n",
       "      <td>539</td>\n",
       "      <td>620</td>\n",
       "      <td>603</td>\n",
       "      <td>15699</td>\n",
       "    </tr>\n",
       "    <tr>\n",
       "      <th>Algeria</th>\n",
       "      <td>Africa</td>\n",
       "      <td>Northern Africa</td>\n",
       "      <td>Developing regions</td>\n",
       "      <td>80</td>\n",
       "      <td>67</td>\n",
       "      <td>71</td>\n",
       "      <td>69</td>\n",
       "      <td>63</td>\n",
       "      <td>44</td>\n",
       "      <td>69</td>\n",
       "      <td>...</td>\n",
       "      <td>3626</td>\n",
       "      <td>4807</td>\n",
       "      <td>3623</td>\n",
       "      <td>4005</td>\n",
       "      <td>5393</td>\n",
       "      <td>4752</td>\n",
       "      <td>4325</td>\n",
       "      <td>3774</td>\n",
       "      <td>4331</td>\n",
       "      <td>69439</td>\n",
       "    </tr>\n",
       "    <tr>\n",
       "      <th>American Samoa</th>\n",
       "      <td>Oceania</td>\n",
       "      <td>Polynesia</td>\n",
       "      <td>Developing regions</td>\n",
       "      <td>0</td>\n",
       "      <td>1</td>\n",
       "      <td>0</td>\n",
       "      <td>0</td>\n",
       "      <td>0</td>\n",
       "      <td>0</td>\n",
       "      <td>0</td>\n",
       "      <td>...</td>\n",
       "      <td>0</td>\n",
       "      <td>1</td>\n",
       "      <td>0</td>\n",
       "      <td>0</td>\n",
       "      <td>0</td>\n",
       "      <td>0</td>\n",
       "      <td>0</td>\n",
       "      <td>0</td>\n",
       "      <td>0</td>\n",
       "      <td>6</td>\n",
       "    </tr>\n",
       "    <tr>\n",
       "      <th>Andorra</th>\n",
       "      <td>Europe</td>\n",
       "      <td>Southern Europe</td>\n",
       "      <td>Developed regions</td>\n",
       "      <td>0</td>\n",
       "      <td>0</td>\n",
       "      <td>0</td>\n",
       "      <td>0</td>\n",
       "      <td>0</td>\n",
       "      <td>0</td>\n",
       "      <td>2</td>\n",
       "      <td>...</td>\n",
       "      <td>0</td>\n",
       "      <td>1</td>\n",
       "      <td>1</td>\n",
       "      <td>0</td>\n",
       "      <td>0</td>\n",
       "      <td>0</td>\n",
       "      <td>0</td>\n",
       "      <td>1</td>\n",
       "      <td>1</td>\n",
       "      <td>15</td>\n",
       "    </tr>\n",
       "  </tbody>\n",
       "</table>\n",
       "<p>5 rows × 38 columns</p>\n",
       "</div>"
      ],
      "text/plain": [
       "               Continent           Region             DevName  1980  1981  \\\n",
       "Country                                                                     \n",
       "Afghanistan         Asia    Southern Asia  Developing regions    16    39   \n",
       "Albania           Europe  Southern Europe   Developed regions     1     0   \n",
       "Algeria           Africa  Northern Africa  Developing regions    80    67   \n",
       "American Samoa   Oceania        Polynesia  Developing regions     0     1   \n",
       "Andorra           Europe  Southern Europe   Developed regions     0     0   \n",
       "\n",
       "                1982  1983  1984  1985  1986  ...  2005  2006  2007  2008  \\\n",
       "Country                                       ...                           \n",
       "Afghanistan       39    47    71   340   496  ...  3436  3009  2652  2111   \n",
       "Albania            0     0     0     0     1  ...  1223   856   702   560   \n",
       "Algeria           71    69    63    44    69  ...  3626  4807  3623  4005   \n",
       "American Samoa     0     0     0     0     0  ...     0     1     0     0   \n",
       "Andorra            0     0     0     0     2  ...     0     1     1     0   \n",
       "\n",
       "                2009  2010  2011  2012  2013  Total  \n",
       "Country                                              \n",
       "Afghanistan     1746  1758  2203  2635  2004  58639  \n",
       "Albania          716   561   539   620   603  15699  \n",
       "Algeria         5393  4752  4325  3774  4331  69439  \n",
       "American Samoa     0     0     0     0     0      6  \n",
       "Andorra            0     0     0     1     1     15  \n",
       "\n",
       "[5 rows x 38 columns]"
      ]
     },
     "execution_count": 6,
     "metadata": {},
     "output_type": "execute_result"
    }
   ],
   "source": [
    "# Let's view the first five elements and see how the dataframe was changed\n",
    "df_can.head()"
   ]
  },
  {
   "cell_type": "markdown",
   "id": "d4b2410d-83cd-4f3c-b882-8fb013758fb5",
   "metadata": {},
   "source": [
    "Notice now the country names now serve as indices.\n"
   ]
  },
  {
   "cell_type": "code",
   "execution_count": 7,
   "id": "79a1a189-10b0-4b4f-bc57-0374eda2c701",
   "metadata": {},
   "outputs": [
    {
     "name": "stdout",
     "output_type": "stream",
     "text": [
      "data dimensions: (195, 38)\n"
     ]
    }
   ],
   "source": [
    "print('data dimensions:', df_can.shape)"
   ]
  },
  {
   "cell_type": "markdown",
   "id": "c257ac62-2a96-45b3-a707-248e3c8d6966",
   "metadata": {},
   "source": [
    "Finally, let's create a list of years from 1980 - 2013, this will come in handy when we start plotting the data\n"
   ]
  },
  {
   "cell_type": "code",
   "execution_count": 8,
   "id": "b6dcce05-1615-4cb7-9fb2-7387fcee1856",
   "metadata": {},
   "outputs": [],
   "source": [
    "years = list(map(str, range(1980, 2014)))"
   ]
  },
  {
   "cell_type": "markdown",
   "id": "bfaedf13-76bc-4348-a445-a152a0eee58e",
   "metadata": {},
   "source": [
    "# Pie Charts <a id=\"6\"></a>\n",
    "\n",
    "A `pie chart` is a circular graphic that displays numeric proportions by dividing a circle (or pie) into proportional slices. You are most likely already familiar with pie charts as it is widely used in business and media. We can create pie charts in Matplotlib by passing in the `kind=pie` keyword.\n",
    "\n",
    "Let's use a pie chart to explore the proportion (percentage) of new immigrants grouped by continents for the entire time period from 1980 to 2013.\n"
   ]
  },
  {
   "cell_type": "markdown",
   "id": "2d3c03b7-4306-431a-8b3b-021c4099c685",
   "metadata": {},
   "source": [
    "Step 1: Gather data.\n",
    "\n",
    "We will use *pandas* `groupby` method to summarize the immigration data by `Continent`. The general process of `groupby` involves the following steps:\n",
    "\n",
    "1.  **Split:** Splitting the data into groups based on some criteria.\n",
    "2.  **Apply:** Applying a function to each group independently:\n",
    "    .sum()\n",
    "    .count()\n",
    "    .mean()\n",
    "    .std()\n",
    "    .aggregate()\n",
    "    .apply()\n",
    "    .etc..\n",
    "3.  **Combine:** Combining the results into a data structure.\n"
   ]
  },
  {
   "cell_type": "markdown",
   "id": "303cde7b-1af3-460b-ba1c-ebd822d918dd",
   "metadata": {},
   "source": [
    "<img src=\"https://cf-courses-data.s3.us.cloud-object-storage.appdomain.cloud/IBMDeveloperSkillsNetwork-DV0101EN-SkillsNetwork/labs/Module%203/images/Mod3Fig4SplitApplyCombine.png\" height=\"400\" align=\"center\">\n"
   ]
  },
  {
   "cell_type": "code",
   "execution_count": 9,
   "id": "50d91f05-5d70-4b51-bf79-85b58ed1188a",
   "metadata": {},
   "outputs": [
    {
     "name": "stdout",
     "output_type": "stream",
     "text": [
      "<class 'pandas.core.groupby.generic.DataFrameGroupBy'>\n"
     ]
    },
    {
     "name": "stderr",
     "output_type": "stream",
     "text": [
      "C:\\Users\\Justin\\AppData\\Local\\Temp\\ipykernel_2104\\1749182422.py:2: FutureWarning: The 'axis' keyword in DataFrame.groupby is deprecated and will be removed in a future version.\n",
      "  df_continents = df_can.groupby('Continent', axis=0).sum()\n",
      "C:\\Users\\Justin\\AppData\\Local\\Temp\\ipykernel_2104\\1749182422.py:6: FutureWarning: The 'axis' keyword in DataFrame.groupby is deprecated and will be removed in a future version.\n",
      "  print(type(df_can.groupby('Continent', axis=0)))\n"
     ]
    },
    {
     "data": {
      "text/html": [
       "<div>\n",
       "<style scoped>\n",
       "    .dataframe tbody tr th:only-of-type {\n",
       "        vertical-align: middle;\n",
       "    }\n",
       "\n",
       "    .dataframe tbody tr th {\n",
       "        vertical-align: top;\n",
       "    }\n",
       "\n",
       "    .dataframe thead th {\n",
       "        text-align: right;\n",
       "    }\n",
       "</style>\n",
       "<table border=\"1\" class=\"dataframe\">\n",
       "  <thead>\n",
       "    <tr style=\"text-align: right;\">\n",
       "      <th></th>\n",
       "      <th>Region</th>\n",
       "      <th>DevName</th>\n",
       "      <th>1980</th>\n",
       "      <th>1981</th>\n",
       "      <th>1982</th>\n",
       "      <th>1983</th>\n",
       "      <th>1984</th>\n",
       "      <th>1985</th>\n",
       "      <th>1986</th>\n",
       "      <th>1987</th>\n",
       "      <th>...</th>\n",
       "      <th>2005</th>\n",
       "      <th>2006</th>\n",
       "      <th>2007</th>\n",
       "      <th>2008</th>\n",
       "      <th>2009</th>\n",
       "      <th>2010</th>\n",
       "      <th>2011</th>\n",
       "      <th>2012</th>\n",
       "      <th>2013</th>\n",
       "      <th>Total</th>\n",
       "    </tr>\n",
       "    <tr>\n",
       "      <th>Continent</th>\n",
       "      <th></th>\n",
       "      <th></th>\n",
       "      <th></th>\n",
       "      <th></th>\n",
       "      <th></th>\n",
       "      <th></th>\n",
       "      <th></th>\n",
       "      <th></th>\n",
       "      <th></th>\n",
       "      <th></th>\n",
       "      <th></th>\n",
       "      <th></th>\n",
       "      <th></th>\n",
       "      <th></th>\n",
       "      <th></th>\n",
       "      <th></th>\n",
       "      <th></th>\n",
       "      <th></th>\n",
       "      <th></th>\n",
       "      <th></th>\n",
       "      <th></th>\n",
       "    </tr>\n",
       "  </thead>\n",
       "  <tbody>\n",
       "    <tr>\n",
       "      <th>Africa</th>\n",
       "      <td>Northern AfricaMiddle AfricaWestern AfricaSout...</td>\n",
       "      <td>Developing regionsDeveloping regionsDeveloping...</td>\n",
       "      <td>3951</td>\n",
       "      <td>4363</td>\n",
       "      <td>3819</td>\n",
       "      <td>2671</td>\n",
       "      <td>2639</td>\n",
       "      <td>2650</td>\n",
       "      <td>3782</td>\n",
       "      <td>7494</td>\n",
       "      <td>...</td>\n",
       "      <td>27523</td>\n",
       "      <td>29188</td>\n",
       "      <td>28284</td>\n",
       "      <td>29890</td>\n",
       "      <td>34534</td>\n",
       "      <td>40892</td>\n",
       "      <td>35441</td>\n",
       "      <td>38083</td>\n",
       "      <td>38543</td>\n",
       "      <td>618948</td>\n",
       "    </tr>\n",
       "    <tr>\n",
       "      <th>Asia</th>\n",
       "      <td>Southern AsiaWestern AsiaWestern AsiaWestern A...</td>\n",
       "      <td>Developing regionsDeveloping regionsDeveloping...</td>\n",
       "      <td>31025</td>\n",
       "      <td>34314</td>\n",
       "      <td>30214</td>\n",
       "      <td>24696</td>\n",
       "      <td>27274</td>\n",
       "      <td>23850</td>\n",
       "      <td>28739</td>\n",
       "      <td>43203</td>\n",
       "      <td>...</td>\n",
       "      <td>159253</td>\n",
       "      <td>149054</td>\n",
       "      <td>133459</td>\n",
       "      <td>139894</td>\n",
       "      <td>141434</td>\n",
       "      <td>163845</td>\n",
       "      <td>146894</td>\n",
       "      <td>152218</td>\n",
       "      <td>155075</td>\n",
       "      <td>3317794</td>\n",
       "    </tr>\n",
       "    <tr>\n",
       "      <th>Europe</th>\n",
       "      <td>Southern EuropeSouthern EuropeWestern EuropeEa...</td>\n",
       "      <td>Developed regionsDeveloped regionsDeveloped re...</td>\n",
       "      <td>39760</td>\n",
       "      <td>44802</td>\n",
       "      <td>42720</td>\n",
       "      <td>24638</td>\n",
       "      <td>22287</td>\n",
       "      <td>20844</td>\n",
       "      <td>24370</td>\n",
       "      <td>46698</td>\n",
       "      <td>...</td>\n",
       "      <td>35955</td>\n",
       "      <td>33053</td>\n",
       "      <td>33495</td>\n",
       "      <td>34692</td>\n",
       "      <td>35078</td>\n",
       "      <td>33425</td>\n",
       "      <td>26778</td>\n",
       "      <td>29177</td>\n",
       "      <td>28691</td>\n",
       "      <td>1410947</td>\n",
       "    </tr>\n",
       "    <tr>\n",
       "      <th>Latin America and the Caribbean</th>\n",
       "      <td>CaribbeanSouth AmericaCaribbeanCaribbeanCentra...</td>\n",
       "      <td>Developing regionsDeveloping regionsDeveloping...</td>\n",
       "      <td>13081</td>\n",
       "      <td>15215</td>\n",
       "      <td>16769</td>\n",
       "      <td>15427</td>\n",
       "      <td>13678</td>\n",
       "      <td>15171</td>\n",
       "      <td>21179</td>\n",
       "      <td>28471</td>\n",
       "      <td>...</td>\n",
       "      <td>24747</td>\n",
       "      <td>24676</td>\n",
       "      <td>26011</td>\n",
       "      <td>26547</td>\n",
       "      <td>26867</td>\n",
       "      <td>28818</td>\n",
       "      <td>27856</td>\n",
       "      <td>27173</td>\n",
       "      <td>24950</td>\n",
       "      <td>765148</td>\n",
       "    </tr>\n",
       "    <tr>\n",
       "      <th>Northern America</th>\n",
       "      <td>Northern AmericaNorthern America</td>\n",
       "      <td>Developed regionsDeveloped regions</td>\n",
       "      <td>9378</td>\n",
       "      <td>10030</td>\n",
       "      <td>9074</td>\n",
       "      <td>7100</td>\n",
       "      <td>6661</td>\n",
       "      <td>6543</td>\n",
       "      <td>7074</td>\n",
       "      <td>7705</td>\n",
       "      <td>...</td>\n",
       "      <td>8394</td>\n",
       "      <td>9613</td>\n",
       "      <td>9463</td>\n",
       "      <td>10190</td>\n",
       "      <td>8995</td>\n",
       "      <td>8142</td>\n",
       "      <td>7677</td>\n",
       "      <td>7892</td>\n",
       "      <td>8503</td>\n",
       "      <td>241142</td>\n",
       "    </tr>\n",
       "  </tbody>\n",
       "</table>\n",
       "<p>5 rows × 37 columns</p>\n",
       "</div>"
      ],
      "text/plain": [
       "                                                                            Region  \\\n",
       "Continent                                                                            \n",
       "Africa                           Northern AfricaMiddle AfricaWestern AfricaSout...   \n",
       "Asia                             Southern AsiaWestern AsiaWestern AsiaWestern A...   \n",
       "Europe                           Southern EuropeSouthern EuropeWestern EuropeEa...   \n",
       "Latin America and the Caribbean  CaribbeanSouth AmericaCaribbeanCaribbeanCentra...   \n",
       "Northern America                                  Northern AmericaNorthern America   \n",
       "\n",
       "                                                                           DevName  \\\n",
       "Continent                                                                            \n",
       "Africa                           Developing regionsDeveloping regionsDeveloping...   \n",
       "Asia                             Developing regionsDeveloping regionsDeveloping...   \n",
       "Europe                           Developed regionsDeveloped regionsDeveloped re...   \n",
       "Latin America and the Caribbean  Developing regionsDeveloping regionsDeveloping...   \n",
       "Northern America                                Developed regionsDeveloped regions   \n",
       "\n",
       "                                  1980   1981   1982   1983   1984   1985  \\\n",
       "Continent                                                                   \n",
       "Africa                            3951   4363   3819   2671   2639   2650   \n",
       "Asia                             31025  34314  30214  24696  27274  23850   \n",
       "Europe                           39760  44802  42720  24638  22287  20844   \n",
       "Latin America and the Caribbean  13081  15215  16769  15427  13678  15171   \n",
       "Northern America                  9378  10030   9074   7100   6661   6543   \n",
       "\n",
       "                                  1986   1987  ...    2005    2006    2007  \\\n",
       "Continent                                      ...                           \n",
       "Africa                            3782   7494  ...   27523   29188   28284   \n",
       "Asia                             28739  43203  ...  159253  149054  133459   \n",
       "Europe                           24370  46698  ...   35955   33053   33495   \n",
       "Latin America and the Caribbean  21179  28471  ...   24747   24676   26011   \n",
       "Northern America                  7074   7705  ...    8394    9613    9463   \n",
       "\n",
       "                                   2008    2009    2010    2011    2012  \\\n",
       "Continent                                                                 \n",
       "Africa                            29890   34534   40892   35441   38083   \n",
       "Asia                             139894  141434  163845  146894  152218   \n",
       "Europe                            34692   35078   33425   26778   29177   \n",
       "Latin America and the Caribbean   26547   26867   28818   27856   27173   \n",
       "Northern America                  10190    8995    8142    7677    7892   \n",
       "\n",
       "                                   2013    Total  \n",
       "Continent                                         \n",
       "Africa                            38543   618948  \n",
       "Asia                             155075  3317794  \n",
       "Europe                            28691  1410947  \n",
       "Latin America and the Caribbean   24950   765148  \n",
       "Northern America                   8503   241142  \n",
       "\n",
       "[5 rows x 37 columns]"
      ]
     },
     "execution_count": 9,
     "metadata": {},
     "output_type": "execute_result"
    }
   ],
   "source": [
    "# group countries by continents and apply sum() function \n",
    "df_continents = df_can.groupby('Continent', axis=0).sum()\n",
    "\n",
    "# note: the output of the groupby method is a `groupby' object. \n",
    "# we can not use it further until we apply a function (eg .sum())\n",
    "print(type(df_can.groupby('Continent', axis=0)))\n",
    "\n",
    "df_continents.head()"
   ]
  },
  {
   "cell_type": "markdown",
   "id": "102b76e6-6ba0-4d16-a939-3625131df2a5",
   "metadata": {},
   "source": [
    "Step 2: Plot the data. We will pass in `kind = 'pie'` keyword, along with the following additional parameters:\n",
    "\n",
    "*   `autopct` -  is a string or function used to label the wedges with their numeric value. The label will be placed inside the wedge. If it is a format string, the label will be `fmt%pct`.\n",
    "*   `startangle` - rotates the start of the pie chart by angle degrees counterclockwise from the x-axis.\n",
    "*   `shadow` - Draws a shadow beneath the pie (to give a 3D feel).\n"
   ]
  },
  {
   "cell_type": "code",
   "execution_count": 10,
   "id": "c1171820-b0c2-45d7-adcb-3556f8788817",
   "metadata": {},
   "outputs": [
    {
     "data": {
      "image/png": "[encoded data removed]",
      "text/plain": [
       "<Figure size 500x600 with 1 Axes>"
      ]
     },
     "metadata": {},
     "output_type": "display_data"
    }
   ],
   "source": [
    "# autopct create %, start angle represent starting point\n",
    "df_continents['Total'].plot(kind='pie',\n",
    "                            figsize=(5, 6),\n",
    "                            autopct='%1.1f%%', # add in percentages\n",
    "                            startangle=90,     # start angle 90° (Africa)\n",
    "                            shadow=True,       # add shadow      \n",
    "                            )\n",
    "\n",
    "plt.title('Immigration to Canada by Continent [1980 - 2013]')\n",
    "plt.axis('equal') # Sets the pie chart to look like a circle.\n",
    "plt.legend(labels=df_continents.index, loc='upper left') \n",
    "\n",
    "\n",
    "plt.show()"
   ]
  },
  {
   "cell_type": "markdown",
   "id": "255c2f74-0ade-4234-b37c-c53a08212287",
   "metadata": {},
   "source": [
    "The above visual is not very clear, the numbers and text overlap in some instances. Let's make a few modifications to improve the visuals:\n",
    "\n",
    "*   Remove the text labels on the pie chart by passing in `legend` and add it as a seperate legend using `plt.legend()`.\n",
    "*   Push out the percentages to sit just outside the pie chart by passing in `pctdistance` parameter.\n",
    "*   Pass in a custom set of colors for continents by passing in `colors` parameter.\n",
    "*   **Explode** the pie chart to emphasize the lowest three continents (Africa, North America, and Latin America and Caribbean) by passing in `explode` parameter.\n"
   ]
  },
  {
   "cell_type": "code",
   "execution_count": 11,
   "id": "e4f1d16e-2918-4cf1-a81a-ff4872f55146",
   "metadata": {},
   "outputs": [
    {
     "data": {
      "image/png": "[encoded data removed]",
      "text/plain": [
       "<Figure size 1000x600 with 1 Axes>"
      ]
     },
     "metadata": {},
     "output_type": "display_data"
    }
   ],
   "source": [
    "colors_list = ['gold', 'yellowgreen', 'lightcoral', 'lightskyblue', 'lightgreen', 'pink']\n",
    "explode_list = [0.1, 0, 0, 0, 0.1, 0.1] # ratio for each continent with which to offset each wedge.\n",
    "\n",
    "df_continents['Total'].plot(kind='pie',\n",
    "                            figsize=(10, 6),\n",
    "                            autopct='%1.1f%%', \n",
    "                            startangle=90,    \n",
    "                            shadow=True,       \n",
    "                            labels=None,         # turn off labels on pie chart\n",
    "                            pctdistance=1.12,    # the ratio between the center of each pie slice and the start of the text generated by autopct \n",
    "                            #colors=colors_list,  # add custom colors\n",
    "                            #explode=explode_list # 'explode' lowest 3 continents\n",
    "                            )\n",
    "\n",
    "# scale the title up by 12% to match pctdistance\n",
    "plt.title('Immigration to Canada by Continent [1980 - 2013]', y=1.12, fontsize = 15) \n",
    "\n",
    "plt.axis('equal') \n",
    "\n",
    "# add legend\n",
    "plt.legend(labels=df_continents.index, loc='upper left', fontsize=7) \n",
    "\n",
    "plt.show()"
   ]
  },
  {
   "cell_type": "markdown",
   "id": "6a9c8740-3f5a-4c3d-86a4-997e1efe11a9",
   "metadata": {},
   "source": [
    "**Question:** Using a pie chart, explore the proportion (percentage) of new immigrants grouped by continents in the year 2013.\n",
    "\n",
    "**Note**: You might need to play with the explore values in order to fix any overlapping slice values.\n"
   ]
  },
  {
   "cell_type": "code",
   "execution_count": 19,
   "id": "2c54ed03-2cbe-4299-a4e9-b0dae1598a15",
   "metadata": {},
   "outputs": [
    {
     "data": {
      "image/png": "[encoded data removed]",
      "text/plain": [
       "<Figure size 1000x600 with 1 Axes>"
      ]
     },
     "metadata": {},
     "output_type": "display_data"
    }
   ],
   "source": [
    "### type your answer here\n",
    "colors_list = ['gold', 'yellowgreen', 'lightcoral', 'lightskyblue', 'lightgreen', 'pink']\n",
    "explode_list = [0.4, 0, 0, 0, 0.1, 0.2] # ratio for each continent with which to offset each wedge.\n",
    "\n",
    "df_continents['Total'].plot(kind='pie',\n",
    "                            figsize=(10, 6),\n",
    "                            autopct='%1.1f%%', \n",
    "                            startangle=90,    \n",
    "                            shadow=True,       \n",
    "                            labels=None,         # turn off labels on pie chart\n",
    "                            pctdistance=1.12,    # the ratio between the center of each pie slice and the start of the text generated by autopct \n",
    "                            colors=colors_list,  # add custom colors\n",
    "                            explode=explode_list # 'explode' lowest 3 continents\n",
    "                            )\n",
    "\n",
    "# scale the title up by 12% to match pctdistance\n",
    "plt.title('Immigration to Canada by Continent [1980 - 2013]', y=1.12, fontsize = 15) \n",
    "\n",
    "plt.axis('equal') \n",
    "\n",
    "# add legend\n",
    "plt.legend(labels=df_continents.index, loc='upper left', fontsize=7) \n",
    "\n",
    "plt.show()"
   ]
  },
  {
   "cell_type": "markdown",
   "id": "d562392a-807a-4363-a745-802c331d849a",
   "metadata": {},
   "source": [
    "<details><summary>Click here for a sample python solution</summary>\n",
    "\n",
    "```python\n",
    "    #The correct answer is:\n",
    "    explode_list = [0.0, 0, 0, 0.1, 0.1, 0.2] # ratio for each continent with which to offset each wedge.\n",
    "\n",
    "    df_continents['2013'].plot(kind='pie',\n",
    "                                figsize=(15, 6),\n",
    "                                autopct='%1.1f%%', \n",
    "                                startangle=90,    \n",
    "                                shadow=True,       \n",
    "                                labels=None,                 # turn off labels on pie chart\n",
    "                                pctdistance=1.12,            # the ratio between the pie center and start of text label\n",
    "                                explode=explode_list         # 'explode' lowest 3 continents\n",
    "                                )\n",
    "\n",
    "    # scale the title up by 12% to match pctdistance\n",
    "    plt.title('Immigration to Canada by Continent in 2013', y=1.12) \n",
    "    plt.axis('equal') \n",
    "\n",
    "    # add legend\n",
    "    plt.legend(labels=df_continents.index, loc='upper left') \n",
    "\n",
    "    # show plot\n",
    "    plt.show()\n",
    "\n",
    "```\n",
    "\n",
    "</details>\n"
   ]
  },
  {
   "cell_type": "markdown",
   "id": "9bf67563-a922-409a-b440-78d2273177f3",
   "metadata": {},
   "source": [
    "# Box Plots <a id=\"8\"></a>\n",
    "\n",
    "A `box plot` is a way of statistically representing the *distribution* of the data through five main dimensions:\n",
    "\n",
    "*   **Minimum:** The smallest number in the dataset excluding the outliers.\n",
    "*   **First quartile:** Middle number between the `minimum` and the `median`.\n",
    "*   **Second quartile (Median):** Middle number of the (sorted) dataset.\n",
    "*   **Third quartile:** Middle number between `median` and `maximum`.\n",
    "*   **Maximum:** The largest number in the dataset excluding the outliers.\n"
   ]
  },
  {
   "cell_type": "markdown",
   "id": "e7a35d34-045d-4917-b574-4fca8666d5e1",
   "metadata": {},
   "source": [
    "<img src=\"https://cf-courses-data.s3.us.cloud-object-storage.appdomain.cloud/IBMDeveloperSkillsNetwork-DV0101EN-SkillsNetwork/labs/Module%203/images/boxplot_complete.png\" width=\"440,\" align=\"center\">\n"
   ]
  },
  {
   "cell_type": "markdown",
   "id": "7f1deec0-7d74-4c62-ad65-7103d3ea1f7c",
   "metadata": {},
   "source": [
    "To make a `boxplot`, we can use `kind=box` in `plot` method invoked on a *pandas* series or dataframe.\n",
    "\n",
    "Let's plot the box plot for the Japanese immigrants between 1980 - 2013.\n"
   ]
  },
  {
   "cell_type": "markdown",
   "id": "b18f4eb0-bfc0-4af2-ac72-d41d87e90770",
   "metadata": {},
   "source": [
    "Step 1: Get the subset of the dataset. Even though we are extracting the data for just one country, we will obtain it as a dataframe. This will help us with calling the `dataframe.describe()` method to view the percentiles.\n"
   ]
  },
  {
   "cell_type": "code",
   "execution_count": 20,
   "id": "dddfddb3-c1c1-436b-888e-1a3abf6ddfe6",
   "metadata": {},
   "outputs": [
    {
     "data": {
      "text/html": [
       "<div>\n",
       "<style scoped>\n",
       "    .dataframe tbody tr th:only-of-type {\n",
       "        vertical-align: middle;\n",
       "    }\n",
       "\n",
       "    .dataframe tbody tr th {\n",
       "        vertical-align: top;\n",
       "    }\n",
       "\n",
       "    .dataframe thead th {\n",
       "        text-align: right;\n",
       "    }\n",
       "</style>\n",
       "<table border=\"1\" class=\"dataframe\">\n",
       "  <thead>\n",
       "    <tr style=\"text-align: right;\">\n",
       "      <th>Country</th>\n",
       "      <th>Japan</th>\n",
       "    </tr>\n",
       "  </thead>\n",
       "  <tbody>\n",
       "    <tr>\n",
       "      <th>1980</th>\n",
       "      <td>701</td>\n",
       "    </tr>\n",
       "    <tr>\n",
       "      <th>1981</th>\n",
       "      <td>756</td>\n",
       "    </tr>\n",
       "    <tr>\n",
       "      <th>1982</th>\n",
       "      <td>598</td>\n",
       "    </tr>\n",
       "    <tr>\n",
       "      <th>1983</th>\n",
       "      <td>309</td>\n",
       "    </tr>\n",
       "    <tr>\n",
       "      <th>1984</th>\n",
       "      <td>246</td>\n",
       "    </tr>\n",
       "  </tbody>\n",
       "</table>\n",
       "</div>"
      ],
      "text/plain": [
       "Country  Japan\n",
       "1980       701\n",
       "1981       756\n",
       "1982       598\n",
       "1983       309\n",
       "1984       246"
      ]
     },
     "execution_count": 20,
     "metadata": {},
     "output_type": "execute_result"
    }
   ],
   "source": [
    "# to get a dataframe, place extra square brackets around 'Japan'.\n",
    "df_japan = df_can.loc[['Japan'], years].transpose()\n",
    "df_japan.head()"
   ]
  },
  {
   "cell_type": "markdown",
   "id": "ba854d69-a6ec-4c87-bdb5-a5aa47c31e08",
   "metadata": {},
   "source": [
    "Step 2: Plot by passing in `kind='box'`.\n"
   ]
  },
  {
   "cell_type": "code",
   "execution_count": 21,
   "id": "8c1b3343-1786-4da1-b68a-abe9a8b6007e",
   "metadata": {},
   "outputs": [
    {
     "data": {
      "image/png": "[encoded data removed]",
      "text/plain": [
       "<Figure size 800x600 with 1 Axes>"
      ]
     },
     "metadata": {},
     "output_type": "display_data"
    }
   ],
   "source": [
    "df_japan.plot(kind='box', figsize=(8, 6))\n",
    "\n",
    "plt.title('Box plot of Japanese Immigrants from 1980 - 2013')\n",
    "plt.ylabel('Number of Immigrants')\n",
    "\n",
    "plt.show()"
   ]
  },
  {
   "cell_type": "markdown",
   "id": "e07d388e-0ce0-48f3-b6e2-ba5b56a7e960",
   "metadata": {},
   "source": [
    "We can immediately make a few key observations from the plot above:\n",
    "\n",
    "1.  The minimum number of immigrants is around 200 (min), maximum number is around 1300 (max), and  median number of immigrants is around 900 (median).\n",
    "2.  25% of the years for period 1980 - 2013 had an annual immigrant count of \\~500 or fewer (First quartile).\n",
    "3.  75% of the years for period 1980 - 2013 had an annual immigrant count of \\~1100 or fewer (Third quartile).\n",
    "\n",
    "We can view the actual numbers by calling the `describe()` method on the dataframe.\n"
   ]
  },
  {
   "cell_type": "code",
   "execution_count": 22,
   "id": "62e9e902-8eb8-451c-9f1a-2652821a4bb9",
   "metadata": {},
   "outputs": [
    {
     "data": {
      "text/html": [
       "<div>\n",
       "<style scoped>\n",
       "    .dataframe tbody tr th:only-of-type {\n",
       "        vertical-align: middle;\n",
       "    }\n",
       "\n",
       "    .dataframe tbody tr th {\n",
       "        vertical-align: top;\n",
       "    }\n",
       "\n",
       "    .dataframe thead th {\n",
       "        text-align: right;\n",
       "    }\n",
       "</style>\n",
       "<table border=\"1\" class=\"dataframe\">\n",
       "  <thead>\n",
       "    <tr style=\"text-align: right;\">\n",
       "      <th>Country</th>\n",
       "      <th>Japan</th>\n",
       "    </tr>\n",
       "  </thead>\n",
       "  <tbody>\n",
       "    <tr>\n",
       "      <th>count</th>\n",
       "      <td>34.000000</td>\n",
       "    </tr>\n",
       "    <tr>\n",
       "      <th>mean</th>\n",
       "      <td>814.911765</td>\n",
       "    </tr>\n",
       "    <tr>\n",
       "      <th>std</th>\n",
       "      <td>337.219771</td>\n",
       "    </tr>\n",
       "    <tr>\n",
       "      <th>min</th>\n",
       "      <td>198.000000</td>\n",
       "    </tr>\n",
       "    <tr>\n",
       "      <th>25%</th>\n",
       "      <td>529.000000</td>\n",
       "    </tr>\n",
       "    <tr>\n",
       "      <th>50%</th>\n",
       "      <td>902.000000</td>\n",
       "    </tr>\n",
       "    <tr>\n",
       "      <th>75%</th>\n",
       "      <td>1079.000000</td>\n",
       "    </tr>\n",
       "    <tr>\n",
       "      <th>max</th>\n",
       "      <td>1284.000000</td>\n",
       "    </tr>\n",
       "  </tbody>\n",
       "</table>\n",
       "</div>"
      ],
      "text/plain": [
       "Country        Japan\n",
       "count      34.000000\n",
       "mean      814.911765\n",
       "std       337.219771\n",
       "min       198.000000\n",
       "25%       529.000000\n",
       "50%       902.000000\n",
       "75%      1079.000000\n",
       "max      1284.000000"
      ]
     },
     "execution_count": 22,
     "metadata": {},
     "output_type": "execute_result"
    }
   ],
   "source": [
    "df_japan.describe()"
   ]
  },
  {
   "cell_type": "markdown",
   "id": "5e614d1a-339d-4c6a-a9ef-690c8e09022c",
   "metadata": {},
   "source": [
    "One of the key benefits of box plots is comparing the distribution of multiple datasets. In one of the previous labs, we observed that China and India had very similar immigration trends. Let's analyze these two countries further using box plots.\n",
    "\n",
    "**Question:** Compare the distribution of the number of new immigrants from India and China for the period 1980 - 2013.\n"
   ]
  },
  {
   "cell_type": "markdown",
   "id": "a2db5789-ea02-4d5d-92d2-983087a6091e",
   "metadata": {},
   "source": [
    "Step 1: Get the dataset for China and India and call the dataframe **df_CI**.\n"
   ]
  },
  {
   "cell_type": "code",
   "execution_count": 25,
   "id": "4c9f4bbd-3f84-4f50-b8fc-e73491ffddbe",
   "metadata": {},
   "outputs": [
    {
     "data": {
      "text/html": [
       "<div>\n",
       "<style scoped>\n",
       "    .dataframe tbody tr th:only-of-type {\n",
       "        vertical-align: middle;\n",
       "    }\n",
       "\n",
       "    .dataframe tbody tr th {\n",
       "        vertical-align: top;\n",
       "    }\n",
       "\n",
       "    .dataframe thead th {\n",
       "        text-align: right;\n",
       "    }\n",
       "</style>\n",
       "<table border=\"1\" class=\"dataframe\">\n",
       "  <thead>\n",
       "    <tr style=\"text-align: right;\">\n",
       "      <th>Country</th>\n",
       "      <th>China</th>\n",
       "      <th>India</th>\n",
       "    </tr>\n",
       "  </thead>\n",
       "  <tbody>\n",
       "    <tr>\n",
       "      <th>1980</th>\n",
       "      <td>5123</td>\n",
       "      <td>8880</td>\n",
       "    </tr>\n",
       "    <tr>\n",
       "      <th>1981</th>\n",
       "      <td>6682</td>\n",
       "      <td>8670</td>\n",
       "    </tr>\n",
       "    <tr>\n",
       "      <th>1982</th>\n",
       "      <td>3308</td>\n",
       "      <td>8147</td>\n",
       "    </tr>\n",
       "    <tr>\n",
       "      <th>1983</th>\n",
       "      <td>1863</td>\n",
       "      <td>7338</td>\n",
       "    </tr>\n",
       "    <tr>\n",
       "      <th>1984</th>\n",
       "      <td>1527</td>\n",
       "      <td>5704</td>\n",
       "    </tr>\n",
       "    <tr>\n",
       "      <th>1985</th>\n",
       "      <td>1816</td>\n",
       "      <td>4211</td>\n",
       "    </tr>\n",
       "    <tr>\n",
       "      <th>1986</th>\n",
       "      <td>1960</td>\n",
       "      <td>7150</td>\n",
       "    </tr>\n",
       "    <tr>\n",
       "      <th>1987</th>\n",
       "      <td>2643</td>\n",
       "      <td>10189</td>\n",
       "    </tr>\n",
       "    <tr>\n",
       "      <th>1988</th>\n",
       "      <td>2758</td>\n",
       "      <td>11522</td>\n",
       "    </tr>\n",
       "    <tr>\n",
       "      <th>1989</th>\n",
       "      <td>4323</td>\n",
       "      <td>10343</td>\n",
       "    </tr>\n",
       "    <tr>\n",
       "      <th>1990</th>\n",
       "      <td>8076</td>\n",
       "      <td>12041</td>\n",
       "    </tr>\n",
       "    <tr>\n",
       "      <th>1991</th>\n",
       "      <td>14255</td>\n",
       "      <td>13734</td>\n",
       "    </tr>\n",
       "    <tr>\n",
       "      <th>1992</th>\n",
       "      <td>10846</td>\n",
       "      <td>13673</td>\n",
       "    </tr>\n",
       "    <tr>\n",
       "      <th>1993</th>\n",
       "      <td>9817</td>\n",
       "      <td>21496</td>\n",
       "    </tr>\n",
       "    <tr>\n",
       "      <th>1994</th>\n",
       "      <td>13128</td>\n",
       "      <td>18620</td>\n",
       "    </tr>\n",
       "    <tr>\n",
       "      <th>1995</th>\n",
       "      <td>14398</td>\n",
       "      <td>18489</td>\n",
       "    </tr>\n",
       "    <tr>\n",
       "      <th>1996</th>\n",
       "      <td>19415</td>\n",
       "      <td>23859</td>\n",
       "    </tr>\n",
       "    <tr>\n",
       "      <th>1997</th>\n",
       "      <td>20475</td>\n",
       "      <td>22268</td>\n",
       "    </tr>\n",
       "    <tr>\n",
       "      <th>1998</th>\n",
       "      <td>21049</td>\n",
       "      <td>17241</td>\n",
       "    </tr>\n",
       "    <tr>\n",
       "      <th>1999</th>\n",
       "      <td>30069</td>\n",
       "      <td>18974</td>\n",
       "    </tr>\n",
       "    <tr>\n",
       "      <th>2000</th>\n",
       "      <td>35529</td>\n",
       "      <td>28572</td>\n",
       "    </tr>\n",
       "    <tr>\n",
       "      <th>2001</th>\n",
       "      <td>36434</td>\n",
       "      <td>31223</td>\n",
       "    </tr>\n",
       "    <tr>\n",
       "      <th>2002</th>\n",
       "      <td>31961</td>\n",
       "      <td>31889</td>\n",
       "    </tr>\n",
       "    <tr>\n",
       "      <th>2003</th>\n",
       "      <td>36439</td>\n",
       "      <td>27155</td>\n",
       "    </tr>\n",
       "    <tr>\n",
       "      <th>2004</th>\n",
       "      <td>36619</td>\n",
       "      <td>28235</td>\n",
       "    </tr>\n",
       "    <tr>\n",
       "      <th>2005</th>\n",
       "      <td>42584</td>\n",
       "      <td>36210</td>\n",
       "    </tr>\n",
       "    <tr>\n",
       "      <th>2006</th>\n",
       "      <td>33518</td>\n",
       "      <td>33848</td>\n",
       "    </tr>\n",
       "    <tr>\n",
       "      <th>2007</th>\n",
       "      <td>27642</td>\n",
       "      <td>28742</td>\n",
       "    </tr>\n",
       "    <tr>\n",
       "      <th>2008</th>\n",
       "      <td>30037</td>\n",
       "      <td>28261</td>\n",
       "    </tr>\n",
       "    <tr>\n",
       "      <th>2009</th>\n",
       "      <td>29622</td>\n",
       "      <td>29456</td>\n",
       "    </tr>\n",
       "    <tr>\n",
       "      <th>2010</th>\n",
       "      <td>30391</td>\n",
       "      <td>34235</td>\n",
       "    </tr>\n",
       "    <tr>\n",
       "      <th>2011</th>\n",
       "      <td>28502</td>\n",
       "      <td>27509</td>\n",
       "    </tr>\n",
       "    <tr>\n",
       "      <th>2012</th>\n",
       "      <td>33024</td>\n",
       "      <td>30933</td>\n",
       "    </tr>\n",
       "    <tr>\n",
       "      <th>2013</th>\n",
       "      <td>34129</td>\n",
       "      <td>33087</td>\n",
       "    </tr>\n",
       "  </tbody>\n",
       "</table>\n",
       "</div>"
      ],
      "text/plain": [
       "Country  China  India\n",
       "1980      5123   8880\n",
       "1981      6682   8670\n",
       "1982      3308   8147\n",
       "1983      1863   7338\n",
       "1984      1527   5704\n",
       "1985      1816   4211\n",
       "1986      1960   7150\n",
       "1987      2643  10189\n",
       "1988      2758  11522\n",
       "1989      4323  10343\n",
       "1990      8076  12041\n",
       "1991     14255  13734\n",
       "1992     10846  13673\n",
       "1993      9817  21496\n",
       "1994     13128  18620\n",
       "1995     14398  18489\n",
       "1996     19415  23859\n",
       "1997     20475  22268\n",
       "1998     21049  17241\n",
       "1999     30069  18974\n",
       "2000     35529  28572\n",
       "2001     36434  31223\n",
       "2002     31961  31889\n",
       "2003     36439  27155\n",
       "2004     36619  28235\n",
       "2005     42584  36210\n",
       "2006     33518  33848\n",
       "2007     27642  28742\n",
       "2008     30037  28261\n",
       "2009     29622  29456\n",
       "2010     30391  34235\n",
       "2011     28502  27509\n",
       "2012     33024  30933\n",
       "2013     34129  33087"
      ]
     },
     "execution_count": 25,
     "metadata": {},
     "output_type": "execute_result"
    }
   ],
   "source": [
    "### type your answer here\n",
    "df_CI = df_can.loc[[\"China\", \"India\"], years].transpose()\n",
    "df_CI"
   ]
  },
  {
   "cell_type": "markdown",
   "id": "1a24a150-0be7-414d-9861-1b624ea183af",
   "metadata": {},
   "source": [
    "<details><summary>Click here for a sample python solution</summary>\n",
    "\n",
    "```python\n",
    "    #The correct answer is:\n",
    "    df_CI= df_can.loc[['China', 'India'], years].transpose()\n",
    "    df_CI.head()\n",
    "```\n",
    "\n",
    "</details>\n"
   ]
  },
  {
   "cell_type": "markdown",
   "id": "fbab430d-ac51-4ff4-9bc3-a4f2741cde9f",
   "metadata": {},
   "source": [
    "Let's view the percentiles associated with both countries using the `describe()` method.\n"
   ]
  },
  {
   "cell_type": "code",
   "execution_count": 26,
   "id": "11779594-478c-472b-8705-e4c10da15ef7",
   "metadata": {},
   "outputs": [
    {
     "data": {
      "text/html": [
       "<div>\n",
       "<style scoped>\n",
       "    .dataframe tbody tr th:only-of-type {\n",
       "        vertical-align: middle;\n",
       "    }\n",
       "\n",
       "    .dataframe tbody tr th {\n",
       "        vertical-align: top;\n",
       "    }\n",
       "\n",
       "    .dataframe thead th {\n",
       "        text-align: right;\n",
       "    }\n",
       "</style>\n",
       "<table border=\"1\" class=\"dataframe\">\n",
       "  <thead>\n",
       "    <tr style=\"text-align: right;\">\n",
       "      <th>Country</th>\n",
       "      <th>China</th>\n",
       "      <th>India</th>\n",
       "    </tr>\n",
       "  </thead>\n",
       "  <tbody>\n",
       "    <tr>\n",
       "      <th>count</th>\n",
       "      <td>34.000000</td>\n",
       "      <td>34.000000</td>\n",
       "    </tr>\n",
       "    <tr>\n",
       "      <th>mean</th>\n",
       "      <td>19410.647059</td>\n",
       "      <td>20350.117647</td>\n",
       "    </tr>\n",
       "    <tr>\n",
       "      <th>std</th>\n",
       "      <td>13568.230790</td>\n",
       "      <td>10007.342579</td>\n",
       "    </tr>\n",
       "    <tr>\n",
       "      <th>min</th>\n",
       "      <td>1527.000000</td>\n",
       "      <td>4211.000000</td>\n",
       "    </tr>\n",
       "    <tr>\n",
       "      <th>25%</th>\n",
       "      <td>5512.750000</td>\n",
       "      <td>10637.750000</td>\n",
       "    </tr>\n",
       "    <tr>\n",
       "      <th>50%</th>\n",
       "      <td>19945.000000</td>\n",
       "      <td>20235.000000</td>\n",
       "    </tr>\n",
       "    <tr>\n",
       "      <th>75%</th>\n",
       "      <td>31568.500000</td>\n",
       "      <td>28699.500000</td>\n",
       "    </tr>\n",
       "    <tr>\n",
       "      <th>max</th>\n",
       "      <td>42584.000000</td>\n",
       "      <td>36210.000000</td>\n",
       "    </tr>\n",
       "  </tbody>\n",
       "</table>\n",
       "</div>"
      ],
      "text/plain": [
       "Country         China         India\n",
       "count       34.000000     34.000000\n",
       "mean     19410.647059  20350.117647\n",
       "std      13568.230790  10007.342579\n",
       "min       1527.000000   4211.000000\n",
       "25%       5512.750000  10637.750000\n",
       "50%      19945.000000  20235.000000\n",
       "75%      31568.500000  28699.500000\n",
       "max      42584.000000  36210.000000"
      ]
     },
     "execution_count": 26,
     "metadata": {},
     "output_type": "execute_result"
    }
   ],
   "source": [
    "### type your answer here\n",
    "\n",
    "df_CI.describe()"
   ]
  },
  {
   "cell_type": "markdown",
   "id": "05dd968c-f79f-403c-ab3f-ece06af72e9c",
   "metadata": {},
   "source": [
    "<details><summary>Click here for a sample python solution</summary>\n",
    "\n",
    "```python\n",
    "    #The correct answer is:\n",
    "    df_CI.describe()\n",
    "```\n",
    "\n",
    "</details>\n"
   ]
  },
  {
   "cell_type": "markdown",
   "id": "cc5e4ec1-eb97-4e6d-bdce-8fc393304631",
   "metadata": {},
   "source": [
    "Step 2: Plot data.\n"
   ]
  },
  {
   "cell_type": "code",
   "execution_count": 28,
   "id": "6fb2e052-18f6-42ae-af2c-0954baf9f825",
   "metadata": {},
   "outputs": [
    {
     "data": {
      "text/plain": [
       "Text(0, 0.5, 'Num. of Immigrants')"
      ]
     },
     "execution_count": 28,
     "metadata": {},
     "output_type": "execute_result"
    },
    {
     "data": {
      "image/png": "[encoded data removed]",
      "text/plain": [
       "<Figure size 640x480 with 1 Axes>"
      ]
     },
     "metadata": {},
     "output_type": "display_data"
    }
   ],
   "source": [
    "### type your answer here\n",
    "\n",
    "df_CI.plot(kind=\"box\")\n",
    "plt.ylabel(\"Num. of Immigrants\")"
   ]
  },
  {
   "cell_type": "markdown",
   "id": "cccf2087-94f2-4f1c-a71c-b5f5b37aa4c8",
   "metadata": {},
   "source": [
    "<details><summary>Click here for a sample python solution</summary>\n",
    "\n",
    "```python\n",
    "    #The correct answer is:\n",
    "    df_CI.plot(kind='box', figsize=(10, 7))\n",
    "\n",
    "    plt.title('Box plots of Immigrants from China and India (1980 - 2013)')\n",
    "    plt.ylabel('Number of Immigrants')\n",
    "\n",
    "    plt.show()\n",
    "\n",
    "```\n",
    "\n",
    "</details>\n"
   ]
  },
  {
   "cell_type": "markdown",
   "id": "616c4e2a-5b92-4588-9403-1acf227c2b77",
   "metadata": {},
   "source": [
    "We can observe that, while both countries have around the same median immigrant population (\\~20,000),  China's immigrant population range is more spread out than India's. The maximum population from India for any year (36,210) is around 15% lower than the maximum population from China (42,584).\n"
   ]
  },
  {
   "cell_type": "markdown",
   "id": "7343e124-5602-4676-9086-74d89334ff55",
   "metadata": {},
   "source": [
    "If you prefer to create horizontal box plots, you can pass the `vert` parameter in the **plot** function and assign it to *False*. You can also specify a different color in case you are not a big fan of the default red color.\n"
   ]
  },
  {
   "cell_type": "code",
   "execution_count": 29,
   "id": "f30f6f4c-3c92-4581-9d88-76c3662f09c2",
   "metadata": {},
   "outputs": [
    {
     "data": {
      "image/png": "[encoded data removed]",
      "text/plain": [
       "<Figure size 1000x700 with 1 Axes>"
      ]
     },
     "metadata": {},
     "output_type": "display_data"
    }
   ],
   "source": [
    "# horizontal box plots\n",
    "df_CI.plot(kind='box', figsize=(10, 7), color='blue', vert=False)\n",
    "\n",
    "plt.title('Box plots of Immigrants from China and India (1980 - 2013)')\n",
    "plt.xlabel('Number of Immigrants')\n",
    "\n",
    "plt.show()"
   ]
  },
  {
   "cell_type": "markdown",
   "id": "bd2bdb2a-6448-44f4-bb05-ec715f59efba",
   "metadata": {},
   "source": [
    "**Subplots**\n",
    "\n",
    "Often times we might want to plot multiple plots within the same figure. For example, we might want to perform a side by side comparison of the box plot with the line plot of China and India's immigration.\n",
    "\n",
    "To visualize multiple plots together, we can create a **`figure`** (overall canvas) and divide it into **`subplots`**, each containing a plot. With **subplots**, we usually work with the **artist layer** instead of the **scripting layer**.\n",
    "\n",
    "Typical syntax is : <br>\n",
    "\n",
    "```python\n",
    "    fig = plt.figure() # create figure\n",
    "    ax = fig.add_subplot(nrows, ncols, plot_number) # create subplots\n",
    "```\n",
    "\n",
    "Where\n",
    "\n",
    "*   `nrows` and `ncols` are used to notionally split the figure into (`nrows` \\* `ncols`) sub-axes,\n",
    "*   `plot_number` is used to identify the particular subplot that this function is to create within the notional grid. `plot_number` starts at 1, increments across rows first and has a maximum of `nrows` \\* `ncols` as shown below.\n",
    "\n",
    "<img src=\"https://cf-courses-data.s3.us.cloud-object-storage.appdomain.cloud/IBMDeveloperSkillsNetwork-DV0101EN-SkillsNetwork/labs/Module%203/images/Mod3Fig5Subplots_V2.png\" width=\"500\" align=\"center\">\n"
   ]
  },
  {
   "cell_type": "markdown",
   "id": "6b1783e9-6e35-4851-a452-121ec5b8471c",
   "metadata": {},
   "source": [
    "We can then specify which subplot to place each plot by passing in the `ax` paramemter in `plot()` method as follows:\n"
   ]
  },
  {
   "cell_type": "code",
   "execution_count": 30,
   "id": "90269f00-ce53-490b-ac9c-003d961a2865",
   "metadata": {},
   "outputs": [
    {
     "data": {
      "image/png": "[encoded data removed]",
      "text/plain": [
       "<Figure size 2000x600 with 2 Axes>"
      ]
     },
     "metadata": {},
     "output_type": "display_data"
    }
   ],
   "source": [
    "fig = plt.figure() # create figure\n",
    "\n",
    "ax0 = fig.add_subplot(1, 2, 1) # add subplot 1 (1 row, 2 columns, first plot)\n",
    "ax1 = fig.add_subplot(1, 2, 2) # add subplot 2 (1 row, 2 columns, second plot). See tip below**\n",
    "\n",
    "# Subplot 1: Box plot\n",
    "df_CI.plot(kind='box', color='blue', vert=False, figsize=(20, 6), ax=ax0) # add to subplot 1\n",
    "ax0.set_title('Box Plots of Immigrants from China and India (1980 - 2013)')\n",
    "ax0.set_xlabel('Number of Immigrants')\n",
    "ax0.set_ylabel('Countries')\n",
    "\n",
    "# Subplot 2: Line plot\n",
    "df_CI.plot(kind='line', figsize=(20, 6), ax=ax1) # add to subplot 2\n",
    "ax1.set_title ('Line Plots of Immigrants from China and India (1980 - 2013)')\n",
    "ax1.set_ylabel('Number of Immigrants')\n",
    "ax1.set_xlabel('Years')\n",
    "\n",
    "plt.show()"
   ]
  },
  {
   "cell_type": "markdown",
   "id": "bbb2cacc-9200-488c-8e6f-d62713be19c8",
   "metadata": {},
   "source": [
    "**Tip regarding subplot convention**\n",
    "\n",
    "In the case when `nrows`, `ncols`, and `plot_number` are all less than 10, a convenience exists such that a 3-digit number can be given instead, where the hundreds represent `nrows`, the tens represent `ncols` and the units represent `plot_number`. For instance,\n",
    "\n",
    "```python\n",
    "   subplot(211) == subplot(2, 1, 1) \n",
    "```\n",
    "\n",
    "produces a subaxes in a figure which represents the top plot (i.e. the first) in a 2 rows by 1 column notional grid (no grid actually exists, but conceptually this is how the returned subplot has been positioned).\n"
   ]
  },
  {
   "cell_type": "markdown",
   "id": "fff6677c-ec17-4529-9f90-d9bc3de6cf92",
   "metadata": {},
   "source": [
    "Let's try something a little more advanced.\n",
    "\n",
    "Previously we identified the top 15 countries based on total immigration from 1980 - 2013.\n",
    "\n",
    "**Question:** Create a box plot to visualize the distribution of the top 15 countries (based on total immigration) grouped by the *decades* `1980s`, `1990s`, and `2000s`.\n"
   ]
  },
  {
   "cell_type": "markdown",
   "id": "ec6ffa06-a6d2-4dc3-a110-7f6e6dc85173",
   "metadata": {},
   "source": [
    "Step 1: Get the dataset. Get the top 15 countries based on Total immigrant population. Name the dataframe **df_top15**.\n"
   ]
  },
  {
   "cell_type": "code",
   "execution_count": 50,
   "id": "7f2bc9d2-7d9c-401c-a40e-d5782c8e2a28",
   "metadata": {},
   "outputs": [],
   "source": [
    "### type your answer here\n",
    "\n",
    "df_can.sort_values(by=\"Total\", ascending=False, axis=0, inplace=True)\n",
    "df_top15 = df_can.head()[years]\n"
   ]
  },
  {
   "cell_type": "markdown",
   "id": "64131ff7-3784-49ef-9752-d9c911def4a7",
   "metadata": {},
   "source": [
    "<details><summary>Click here for a sample python solution</summary>\n",
    "\n",
    "```python\n",
    "    #The correct answer is:\n",
    "    df_top15 = df_can.sort_values(['Total'], ascending=False, axis=0).head(15)\n",
    "    df_top15\n",
    "\n",
    "```\n",
    "\n",
    "</details>\n"
   ]
  },
  {
   "cell_type": "markdown",
   "id": "157d8023-387d-4dde-98fc-89f73ceb7126",
   "metadata": {},
   "source": [
    "Step 2: Create a new dataframe which contains the aggregate for each decade. One way to do that:\n",
    "\n",
    "1.  Create a list of all years in decades 80's, 90's, and 00's.\n",
    "2.  Slice the original dataframe df_can to create a series for each decade and sum across all years for each country.\n",
    "3.  Merge the three series into a new data frame. Call your dataframe **new_df**.\n"
   ]
  },
  {
   "cell_type": "code",
   "execution_count": 51,
   "id": "b8d07747-ff92-412a-bcd2-b93fb872b82e",
   "metadata": {},
   "outputs": [
    {
     "name": "stderr",
     "output_type": "stream",
     "text": [
      "C:\\Users\\Justin\\AppData\\Local\\Temp\\ipykernel_2104\\879977142.py:4: FutureWarning: DataFrame.groupby with axis=1 is deprecated. Do `frame.T.groupby(...)` without axis instead.\n",
      "  df_grouped = df_top15.groupby(by=df_top15.columns // 10 * 10, axis=1).sum()\n"
     ]
    },
    {
     "data": {
      "text/html": [
       "<div>\n",
       "<style scoped>\n",
       "    .dataframe tbody tr th:only-of-type {\n",
       "        vertical-align: middle;\n",
       "    }\n",
       "\n",
       "    .dataframe tbody tr th {\n",
       "        vertical-align: top;\n",
       "    }\n",
       "\n",
       "    .dataframe thead th {\n",
       "        text-align: right;\n",
       "    }\n",
       "</style>\n",
       "<table border=\"1\" class=\"dataframe\">\n",
       "  <thead>\n",
       "    <tr style=\"text-align: right;\">\n",
       "      <th></th>\n",
       "      <th>1980</th>\n",
       "      <th>1990</th>\n",
       "      <th>2000</th>\n",
       "      <th>2010</th>\n",
       "    </tr>\n",
       "    <tr>\n",
       "      <th>Country</th>\n",
       "      <th></th>\n",
       "      <th></th>\n",
       "      <th></th>\n",
       "      <th></th>\n",
       "    </tr>\n",
       "  </thead>\n",
       "  <tbody>\n",
       "    <tr>\n",
       "      <th>India</th>\n",
       "      <td>82154</td>\n",
       "      <td>180395</td>\n",
       "      <td>303591</td>\n",
       "      <td>125764</td>\n",
       "    </tr>\n",
       "    <tr>\n",
       "      <th>China</th>\n",
       "      <td>32003</td>\n",
       "      <td>161528</td>\n",
       "      <td>340385</td>\n",
       "      <td>126046</td>\n",
       "    </tr>\n",
       "    <tr>\n",
       "      <th>United Kingdom of Great Britain and Northern Ireland</th>\n",
       "      <td>179171</td>\n",
       "      <td>261966</td>\n",
       "      <td>83413</td>\n",
       "      <td>26950</td>\n",
       "    </tr>\n",
       "    <tr>\n",
       "      <th>Philippines</th>\n",
       "      <td>60764</td>\n",
       "      <td>138482</td>\n",
       "      <td>172904</td>\n",
       "      <td>139241</td>\n",
       "    </tr>\n",
       "    <tr>\n",
       "      <th>Pakistan</th>\n",
       "      <td>10591</td>\n",
       "      <td>65302</td>\n",
       "      <td>127598</td>\n",
       "      <td>38109</td>\n",
       "    </tr>\n",
       "  </tbody>\n",
       "</table>\n",
       "</div>"
      ],
      "text/plain": [
       "                                                      1980    1990    2000  \\\n",
       "Country                                                                      \n",
       "India                                                82154  180395  303591   \n",
       "China                                                32003  161528  340385   \n",
       "United Kingdom of Great Britain and Northern Ir...  179171  261966   83413   \n",
       "Philippines                                          60764  138482  172904   \n",
       "Pakistan                                             10591   65302  127598   \n",
       "\n",
       "                                                      2010  \n",
       "Country                                                     \n",
       "India                                               125764  \n",
       "China                                               126046  \n",
       "United Kingdom of Great Britain and Northern Ir...   26950  \n",
       "Philippines                                         139241  \n",
       "Pakistan                                             38109  "
      ]
     },
     "execution_count": 51,
     "metadata": {},
     "output_type": "execute_result"
    }
   ],
   "source": [
    "### type your answer here\n",
    "# create a decade column \n",
    "df_top15.columns = df_top15.columns.astype(int)\n",
    "df_grouped = df_top15.groupby(by=df_top15.columns // 10 * 10, axis=1).sum()\n",
    "# df_top15 = ...\n",
    "df_grouped"
   ]
  },
  {
   "cell_type": "markdown",
   "id": "2d8948a1-cd75-43f0-9069-6e67c34b466d",
   "metadata": {},
   "source": [
    "<details><summary>Click here for a sample python solution</summary>\n",
    "\n",
    "```python\n",
    "    #The correct answer is:\n",
    "    \n",
    "    # create a list of all years in decades 80's, 90's, and 00's\n",
    "    years_80s = list(map(str, range(1980, 1990))) \n",
    "    years_90s = list(map(str, range(1990, 2000))) \n",
    "    years_00s = list(map(str, range(2000, 2010))) \n",
    "\n",
    "    # slice the original dataframe df_can to create a series for each decade\n",
    "    df_80s = df_top15.loc[:, years_80s].sum(axis=1) \n",
    "    df_90s = df_top15.loc[:, years_90s].sum(axis=1) \n",
    "    df_00s = df_top15.loc[:, years_00s].sum(axis=1)\n",
    "\n",
    "    # merge the three series into a new data frame\n",
    "    new_df = pd.DataFrame({'1980s': df_80s, '1990s': df_90s, '2000s':df_00s}) \n",
    "\n",
    "    # display dataframe\n",
    "    new_df.head()\n",
    "\n",
    "\n",
    "```\n",
    "\n",
    "</details>\n"
   ]
  },
  {
   "cell_type": "markdown",
   "id": "35229c45-0aad-4365-9a92-3dc4ce3ebd48",
   "metadata": {},
   "source": [
    "Let's learn more about the statistics associated with the dataframe using the `describe()` method.\n"
   ]
  },
  {
   "cell_type": "code",
   "execution_count": 52,
   "id": "fbbeb0a9-c702-4025-8b31-60b48f106f1c",
   "metadata": {},
   "outputs": [
    {
     "data": {
      "text/html": [
       "<div>\n",
       "<style scoped>\n",
       "    .dataframe tbody tr th:only-of-type {\n",
       "        vertical-align: middle;\n",
       "    }\n",
       "\n",
       "    .dataframe tbody tr th {\n",
       "        vertical-align: top;\n",
       "    }\n",
       "\n",
       "    .dataframe thead th {\n",
       "        text-align: right;\n",
       "    }\n",
       "</style>\n",
       "<table border=\"1\" class=\"dataframe\">\n",
       "  <thead>\n",
       "    <tr style=\"text-align: right;\">\n",
       "      <th></th>\n",
       "      <th>1980</th>\n",
       "      <th>1990</th>\n",
       "      <th>2000</th>\n",
       "      <th>2010</th>\n",
       "    </tr>\n",
       "  </thead>\n",
       "  <tbody>\n",
       "    <tr>\n",
       "      <th>count</th>\n",
       "      <td>5.000000</td>\n",
       "      <td>5.000000</td>\n",
       "      <td>5.000000</td>\n",
       "      <td>5.000000</td>\n",
       "    </tr>\n",
       "    <tr>\n",
       "      <th>mean</th>\n",
       "      <td>72936.600000</td>\n",
       "      <td>161534.600000</td>\n",
       "      <td>205578.200000</td>\n",
       "      <td>91222.000000</td>\n",
       "    </tr>\n",
       "    <tr>\n",
       "      <th>std</th>\n",
       "      <td>65347.941523</td>\n",
       "      <td>71123.688929</td>\n",
       "      <td>111638.068461</td>\n",
       "      <td>53998.995023</td>\n",
       "    </tr>\n",
       "    <tr>\n",
       "      <th>min</th>\n",
       "      <td>10591.000000</td>\n",
       "      <td>65302.000000</td>\n",
       "      <td>83413.000000</td>\n",
       "      <td>26950.000000</td>\n",
       "    </tr>\n",
       "    <tr>\n",
       "      <th>25%</th>\n",
       "      <td>32003.000000</td>\n",
       "      <td>138482.000000</td>\n",
       "      <td>127598.000000</td>\n",
       "      <td>38109.000000</td>\n",
       "    </tr>\n",
       "    <tr>\n",
       "      <th>50%</th>\n",
       "      <td>60764.000000</td>\n",
       "      <td>161528.000000</td>\n",
       "      <td>172904.000000</td>\n",
       "      <td>125764.000000</td>\n",
       "    </tr>\n",
       "    <tr>\n",
       "      <th>75%</th>\n",
       "      <td>82154.000000</td>\n",
       "      <td>180395.000000</td>\n",
       "      <td>303591.000000</td>\n",
       "      <td>126046.000000</td>\n",
       "    </tr>\n",
       "    <tr>\n",
       "      <th>max</th>\n",
       "      <td>179171.000000</td>\n",
       "      <td>261966.000000</td>\n",
       "      <td>340385.000000</td>\n",
       "      <td>139241.000000</td>\n",
       "    </tr>\n",
       "  </tbody>\n",
       "</table>\n",
       "</div>"
      ],
      "text/plain": [
       "                1980           1990           2000           2010\n",
       "count       5.000000       5.000000       5.000000       5.000000\n",
       "mean    72936.600000  161534.600000  205578.200000   91222.000000\n",
       "std     65347.941523   71123.688929  111638.068461   53998.995023\n",
       "min     10591.000000   65302.000000   83413.000000   26950.000000\n",
       "25%     32003.000000  138482.000000  127598.000000   38109.000000\n",
       "50%     60764.000000  161528.000000  172904.000000  125764.000000\n",
       "75%     82154.000000  180395.000000  303591.000000  126046.000000\n",
       "max    179171.000000  261966.000000  340385.000000  139241.000000"
      ]
     },
     "execution_count": 52,
     "metadata": {},
     "output_type": "execute_result"
    }
   ],
   "source": [
    "### type your answer here\n",
    "df_grouped.describe()"
   ]
  },
  {
   "cell_type": "markdown",
   "id": "98e273e8-452c-4ce3-b6e0-b427a4c7f030",
   "metadata": {},
   "source": [
    "<details><summary>Click here for a sample python solution</summary>\n",
    "\n",
    "```python\n",
    "    #The correct answer is:    \n",
    "    new_df.describe()\n",
    "```\n",
    "\n",
    "</details>\n"
   ]
  },
  {
   "cell_type": "markdown",
   "id": "0c29ad20-9421-456d-8fa0-4ba2a15f0840",
   "metadata": {},
   "source": [
    "Step 3: Plot the box plots.\n"
   ]
  },
  {
   "cell_type": "code",
   "execution_count": 53,
   "id": "8d09df81-645c-4bab-8e90-8ed1b5f03459",
   "metadata": {},
   "outputs": [
    {
     "data": {
      "text/plain": [
       "<Axes: >"
      ]
     },
     "execution_count": 53,
     "metadata": {},
     "output_type": "execute_result"
    },
    {
     "data": {
      "image/png": "[encoded data removed]",
      "text/plain": [
       "<Figure size 640x480 with 1 Axes>"
      ]
     },
     "metadata": {},
     "output_type": "display_data"
    }
   ],
   "source": [
    "### type your answer here\n",
    "df_grouped.plot(kind='box', color='blue')\n",
    "\n"
   ]
  },
  {
   "cell_type": "markdown",
   "id": "56bab383-8c7d-4550-b298-7a070dd1a58b",
   "metadata": {},
   "source": [
    "<details><summary>Click here for a sample python solution</summary>\n",
    "\n",
    "```python\n",
    "    #The correct answer is:    \n",
    "    new_df.plot(kind='box', figsize=(10, 6))\n",
    "\n",
    "    plt.title('Immigration from top 15 countries for decades 80s, 90s and 2000s')\n",
    "\n",
    "    plt.show()\n",
    "\n",
    "```\n",
    "\n",
    "</details>\n"
   ]
  },
  {
   "cell_type": "markdown",
   "id": "8fa9bc93-cc4f-4ca9-ae70-5b581dda9b37",
   "metadata": {},
   "source": [
    "Note how the box plot differs from the summary table created. The box plot scans the data and identifies the outliers. In order to be an outlier, the data value must be:<br>\n",
    "\n",
    "*   larger than Q3 by at least 1.5 times the interquartile range (IQR), or,\n",
    "*   smaller than Q1 by at least 1.5 times the IQR.\n",
    "\n",
    "Let's look at decade 2000s as an example: <br>\n",
    "\n",
    "*   Q1 (25%) = 36,101.5 <br>\n",
    "*   Q3 (75%) = 105,505.5 <br>\n",
    "*   IQR = Q3 - Q1 = 69,404 <br>\n",
    "\n",
    "Using the definition of outlier, any value that is greater than Q3 by 1.5 times IQR will be flagged as outlier.\n",
    "\n",
    "Outlier > 105,505.5 + (1.5 \\* 69,404) <br>\n",
    "Outlier > 209,611.5\n"
   ]
  },
  {
   "cell_type": "code",
   "execution_count": 59,
   "id": "34fb7a97-4389-4ffd-8d9c-bd6159690c6d",
   "metadata": {},
   "outputs": [
    {
     "data": {
      "text/html": [
       "<div>\n",
       "<style scoped>\n",
       "    .dataframe tbody tr th:only-of-type {\n",
       "        vertical-align: middle;\n",
       "    }\n",
       "\n",
       "    .dataframe tbody tr th {\n",
       "        vertical-align: top;\n",
       "    }\n",
       "\n",
       "    .dataframe thead th {\n",
       "        text-align: right;\n",
       "    }\n",
       "</style>\n",
       "<table border=\"1\" class=\"dataframe\">\n",
       "  <thead>\n",
       "    <tr style=\"text-align: right;\">\n",
       "      <th></th>\n",
       "      <th>Country</th>\n",
       "      <th>1980</th>\n",
       "      <th>1990</th>\n",
       "      <th>2000</th>\n",
       "      <th>2010</th>\n",
       "    </tr>\n",
       "  </thead>\n",
       "  <tbody>\n",
       "    <tr>\n",
       "      <th>0</th>\n",
       "      <td>India</td>\n",
       "      <td>82154</td>\n",
       "      <td>180395</td>\n",
       "      <td>303591</td>\n",
       "      <td>125764</td>\n",
       "    </tr>\n",
       "    <tr>\n",
       "      <th>1</th>\n",
       "      <td>China</td>\n",
       "      <td>32003</td>\n",
       "      <td>161528</td>\n",
       "      <td>340385</td>\n",
       "      <td>126046</td>\n",
       "    </tr>\n",
       "  </tbody>\n",
       "</table>\n",
       "</div>"
      ],
      "text/plain": [
       "  Country   1980    1990    2000    2010\n",
       "0   India  82154  180395  303591  125764\n",
       "1   China  32003  161528  340385  126046"
      ]
     },
     "execution_count": 59,
     "metadata": {},
     "output_type": "execute_result"
    }
   ],
   "source": [
    "# let's check how many entries fall above the outlier threshold \n",
    "#df_grouped=df_grouped.reset_index()\n",
    "#df_grouped\n",
    "df_grouped[df_grouped[2000] > 209611.5]\n"
   ]
  },
  {
   "cell_type": "markdown",
   "id": "13cb9a19-247f-4f29-bf03-37449f684463",
   "metadata": {},
   "source": [
    "<details><summary>Click here for a sample python solution</summary>\n",
    "\n",
    "```python\n",
    "    #The correct answer is:    \n",
    "    new_df=new_df.reset_index()\n",
    "    new_df[new_df['2000s']> 209611.5]\n",
    "\n",
    "```\n",
    "\n",
    "</details>\n"
   ]
  },
  {
   "cell_type": "markdown",
   "id": "b0856939-fa6d-444c-a55b-cd4e6702de30",
   "metadata": {},
   "source": [
    "<!-- The correct answer is:\n",
    "new_df[new_df['2000s']> 209611.5]\n",
    "-->\n"
   ]
  },
  {
   "cell_type": "markdown",
   "id": "cee107b5-8b9d-4aa7-9060-ce2b87b8998c",
   "metadata": {},
   "source": [
    "China and India are both considered as outliers since their population for the decade exceeds 209,611.5.\n",
    "\n",
    "The box plot is an advanced visualizaiton tool, and there are many options and customizations that exceed the scope of this lab. Please refer to [Matplotlib documentation](https://matplotlib.org/3.1.1/api/_as_gen/matplotlib.pyplot.boxplot.html) on box plots for more information.\n"
   ]
  },
  {
   "cell_type": "markdown",
   "id": "3f221fb8-679f-4f51-bbe2-0d9cfbfaa358",
   "metadata": {},
   "source": [
    "# Scatter Plots <a id=\"10\"></a>\n",
    "\n",
    "A `scatter plot` (2D) is a useful method of comparing variables against each other. `Scatter` plots look similar to `line plots` in that they both map independent and dependent variables on a 2D graph. While the data points are connected together by a line in a line plot, they are not connected in a scatter plot. The data in a scatter plot is considered to express a trend. With further analysis using tools like regression, we can mathematically calculate this relationship and use it to predict trends outside the dataset.\n",
    "\n",
    "Let's start by exploring the following:\n",
    "\n",
    "Using a `scatter plot`, let's visualize the trend of total immigrantion to Canada (all countries combined) for the years 1980 - 2013.\n"
   ]
  },
  {
   "cell_type": "markdown",
   "id": "c3d246ee-068c-4090-b82b-8584a58edde0",
   "metadata": {},
   "source": [
    "Step 1: Get the dataset. Since we are expecting to use the relationship betewen `years` and `total population`, we will convert `years` to `int` type.\n"
   ]
  },
  {
   "cell_type": "code",
   "execution_count": 60,
   "id": "80159896-19f6-4470-925d-e2de4d45e504",
   "metadata": {},
   "outputs": [
    {
     "data": {
      "text/html": [
       "<div>\n",
       "<style scoped>\n",
       "    .dataframe tbody tr th:only-of-type {\n",
       "        vertical-align: middle;\n",
       "    }\n",
       "\n",
       "    .dataframe tbody tr th {\n",
       "        vertical-align: top;\n",
       "    }\n",
       "\n",
       "    .dataframe thead th {\n",
       "        text-align: right;\n",
       "    }\n",
       "</style>\n",
       "<table border=\"1\" class=\"dataframe\">\n",
       "  <thead>\n",
       "    <tr style=\"text-align: right;\">\n",
       "      <th></th>\n",
       "      <th>year</th>\n",
       "      <th>total</th>\n",
       "    </tr>\n",
       "  </thead>\n",
       "  <tbody>\n",
       "    <tr>\n",
       "      <th>0</th>\n",
       "      <td>1980</td>\n",
       "      <td>99137</td>\n",
       "    </tr>\n",
       "    <tr>\n",
       "      <th>1</th>\n",
       "      <td>1981</td>\n",
       "      <td>110563</td>\n",
       "    </tr>\n",
       "    <tr>\n",
       "      <th>2</th>\n",
       "      <td>1982</td>\n",
       "      <td>104271</td>\n",
       "    </tr>\n",
       "    <tr>\n",
       "      <th>3</th>\n",
       "      <td>1983</td>\n",
       "      <td>75550</td>\n",
       "    </tr>\n",
       "    <tr>\n",
       "      <th>4</th>\n",
       "      <td>1984</td>\n",
       "      <td>73417</td>\n",
       "    </tr>\n",
       "  </tbody>\n",
       "</table>\n",
       "</div>"
      ],
      "text/plain": [
       "   year   total\n",
       "0  1980   99137\n",
       "1  1981  110563\n",
       "2  1982  104271\n",
       "3  1983   75550\n",
       "4  1984   73417"
      ]
     },
     "execution_count": 60,
     "metadata": {},
     "output_type": "execute_result"
    }
   ],
   "source": [
    "# we can use the sum() method to get the total population per year\n",
    "df_tot = pd.DataFrame(df_can[years].sum(axis=0))\n",
    "\n",
    "# change the years to type int (useful for regression later on)\n",
    "df_tot.index = map(int, df_tot.index)\n",
    "\n",
    "# reset the index to put in back in as a column in the df_tot dataframe\n",
    "df_tot.reset_index(inplace = True)\n",
    "\n",
    "# rename columns\n",
    "df_tot.columns = ['year', 'total']\n",
    "\n",
    "# view the final dataframe\n",
    "df_tot.head()"
   ]
  },
  {
   "cell_type": "markdown",
   "id": "1b420a89-6c7a-44b4-9175-844313c9ba26",
   "metadata": {},
   "source": [
    "Step 2: Plot the data. In `Matplotlib`, we can create a `scatter` plot set by passing in `kind='scatter'` as plot argument. We will also need to pass in `x` and `y` keywords to specify the columns that go on the x- and the y-axis.\n"
   ]
  },
  {
   "cell_type": "code",
   "execution_count": null,
   "id": "d7f0a327-ac99-410f-8100-4d55580c1780",
   "metadata": {},
   "outputs": [],
   "source": [
    "df_tot.plot(kind='scatter', x='year', y='total', figsize=(10, 6), color='darkblue')\n",
    "\n",
    "plt.title('Total Immigration to Canada from 1980 - 2013')\n",
    "plt.xlabel('Year')\n",
    "plt.ylabel('Number of Immigrants')\n",
    "\n",
    "plt.show()"
   ]
  },
  {
   "cell_type": "markdown",
   "id": "41542a9b-ff4e-4776-8e6d-ee6d7c013a56",
   "metadata": {},
   "source": [
    "Notice how the scatter plot does not connect the data  points together. We can clearly observe an upward trend in the data: as the years go by, the total number of immigrants increases. We can mathematically analyze this upward trend using a regression line (line of best fit).\n"
   ]
  },
  {
   "cell_type": "markdown",
   "id": "0d253610-223e-48df-becf-d1af1160e4e4",
   "metadata": {},
   "source": [
    "So let's try to plot a linear line of best fit, and use it to  predict the number of immigrants in 2015.\n",
    "\n",
    "Step 1: Get the equation of line of best fit. We will use **Numpy**'s `polyfit()` method by passing in the following:\n",
    "\n",
    "*   `x`: x-coordinates of the data.\n",
    "*   `y`: y-coordinates of the data.\n",
    "*   `deg`: Degree of fitting polynomial. 1 = linear, 2 = quadratic, and so on.\n"
   ]
  },
  {
   "cell_type": "code",
   "execution_count": null,
   "id": "329c683d-d36a-4f55-8af7-425bc747a561",
   "metadata": {},
   "outputs": [],
   "source": [
    "x = df_tot['year']      # year on x-axis\n",
    "y = df_tot['total']     # total on y-axis\n",
    "fit = np.polyfit(x, y, deg=1)\n",
    "\n",
    "fit"
   ]
  },
  {
   "cell_type": "markdown",
   "id": "5c5cb3ec-16c3-4000-ace1-cdfe9f948a14",
   "metadata": {},
   "source": [
    "The output is an array with the polynomial coefficients, highest powers first. Since we are plotting a linear regression `y= a * x + b`, our output has 2 elements `[5.56709228e+03, -1.09261952e+07]` with the the slope in position 0 and intercept in position 1.\n",
    "\n",
    "Step 2: Plot the regression line on the `scatter plot`.\n"
   ]
  },
  {
   "cell_type": "code",
   "execution_count": null,
   "id": "cfb675b1-a5d1-4f82-acdd-310fd92c821f",
   "metadata": {},
   "outputs": [],
   "source": [
    "df_tot.plot(kind='scatter', x='year', y='total', figsize=(10, 6), color='darkblue')\n",
    "\n",
    "plt.title('Total Immigration to Canada from 1980 - 2013')\n",
    "plt.xlabel('Year')\n",
    "plt.ylabel('Number of Immigrants')\n",
    "\n",
    "# plot line of best fit\n",
    "plt.plot(x, fit[0] * x + fit[1], color='red') # recall that x is the Years\n",
    "plt.annotate('y={0:.0f} x + {1:.0f}'.format(fit[0], fit[1]), xy=(2000, 150000))\n",
    "\n",
    "plt.show()\n",
    "\n",
    "# print out the line of best fit\n",
    "'No. Immigrants = {0:.0f} * Year + {1:.0f}'.format(fit[0], fit[1]) "
   ]
  },
  {
   "cell_type": "markdown",
   "id": "a9f16f6e-a20c-41ba-9eed-ec0d4fbe8605",
   "metadata": {},
   "source": [
    "Using the equation of line of best fit, we can estimate the number of immigrants in 2015:\n",
    "\n",
    "```python\n",
    "No. Immigrants = 5567 * Year - 10926195\n",
    "No. Immigrants = 5567 * 2015 - 10926195\n",
    "No. Immigrants = 291,310\n",
    "```\n",
    "\n",
    "When compared to the actual from Citizenship and Immigration Canada's (CIC) [2016 Annual Report](http://www.cic.gc.ca/english/resources/publications/annual-report-2016/index.asp?utm_medium=Exinfluencer&utm_source=Exinfluencer&utm_content=000026UJ&utm_term=10006555&utm_id=NA-SkillsNetwork-Channel-SkillsNetworkCoursesIBMDeveloperSkillsNetworkDV0101ENSkillsNetwork20297740-2021-01-01), we see that Canada accepted 271,845 immigrants in 2015. Our estimated value of 291,310 is within 7% of the actual number, which is pretty good considering our original data came from United Nations (and might differ slightly from CIC data).\n",
    "\n",
    "As a side note, we can observe that immigration took a dip around 1993 - 1997. Further analysis into the topic revealed that in 1993 Canada introcuded Bill C-86 which introduced revisions to the refugee determination system, mostly restrictive. Further amendments to the Immigration Regulations cancelled the sponsorship required for \"assisted relatives\" and reduced the points awarded to them, making it more difficult for family members (other than nuclear family) to immigrate to Canada. These restrictive measures had a direct impact on the immigration numbers for the next several years.\n"
   ]
  },
  {
   "cell_type": "markdown",
   "id": "8827188a-33aa-45ad-a1e4-30188d9490b6",
   "metadata": {},
   "source": [
    "**Question**: Create a scatter plot of the total immigration from Denmark, Norway, and Sweden to Canada from 1980 to 2013?\n"
   ]
  },
  {
   "cell_type": "markdown",
   "id": "f588b3ed-eba6-4237-aa88-93a20da1eb51",
   "metadata": {},
   "source": [
    "**Step 1**: Get the data:\n",
    "\n",
    "1.  Create a dataframe the consists of the numbers associated with Denmark, Norway, and Sweden only. Name it **df_countries**.\n",
    "2.  Sum the immigration numbers across all three countries for each year and turn the result into a dataframe. Name this new dataframe **df_total**.\n",
    "3.  Reset the index in place.\n",
    "4.  Rename the columns to **year** and **total**.\n",
    "5.  Display the resulting dataframe.\n"
   ]
  },
  {
   "cell_type": "code",
   "execution_count": null,
   "id": "b830b834-db41-47c3-8049-e2f2e2ae75a7",
   "metadata": {},
   "outputs": [],
   "source": [
    "### type your answer here\n",
    "\n",
    "\n",
    "\n"
   ]
  },
  {
   "cell_type": "markdown",
   "id": "ee01b743-743d-44a0-86ca-23bee9f1731d",
   "metadata": {},
   "source": [
    "<details><summary>Click here for a sample python solution</summary>\n",
    "\n",
    "```python\n",
    "    #The correct answer is:  \n",
    "    \n",
    "    # create df_countries dataframe\n",
    "    df_countries = df_can.loc[['Denmark', 'Norway', 'Sweden'], years].transpose()\n",
    "\n",
    "    # create df_total by summing across three countries for each year\n",
    "    df_total = pd.DataFrame(df_countries.sum(axis=1))\n",
    "\n",
    "    # reset index in place\n",
    "    df_total.reset_index(inplace=True)\n",
    "\n",
    "    # rename columns\n",
    "    df_total.columns = ['year', 'total']\n",
    "\n",
    "    # change column year from string to int to create scatter plot\n",
    "    df_total['year'] = df_total['year'].astype(int)\n",
    "\n",
    "    # show resulting dataframe\n",
    "    df_total.head()\n",
    "\n",
    "\n",
    "```\n",
    "\n",
    "</details>\n"
   ]
  },
  {
   "cell_type": "markdown",
   "id": "7fb43206-a8c9-47f5-9039-042753ccd80d",
   "metadata": {},
   "source": [
    "**Step 2**: Generate the scatter plot by plotting the total versus year in **df_total**.\n"
   ]
  },
  {
   "cell_type": "code",
   "execution_count": null,
   "id": "54e249b9-a68e-4ce8-a7ec-4403be0d9791",
   "metadata": {},
   "outputs": [],
   "source": [
    "### type your answer here\n",
    "\n",
    "\n",
    "\n"
   ]
  },
  {
   "cell_type": "markdown",
   "id": "274adb27-db55-460d-aad1-ac9ef0ba94b2",
   "metadata": {},
   "source": [
    "<details><summary>Click here for a sample python solution</summary>\n",
    "\n",
    "```python\n",
    "    #The correct answer is:  \n",
    "    \n",
    "    # generate scatter plot\n",
    "    df_total.plot(kind='scatter', x='year', y='total', figsize=(10, 6), color='darkblue')\n",
    "\n",
    "    # add title and label to axes\n",
    "    plt.title('Immigration from Denmark, Norway, and Sweden to Canada from 1980 - 2013')\n",
    "    plt.xlabel('Year')\n",
    "    plt.ylabel('Number of Immigrants')\n",
    "\n",
    "    # show plot\n",
    "    plt.show()\n",
    "\n",
    "\n",
    "```\n",
    "\n",
    "</details>\n"
   ]
  },
  {
   "cell_type": "markdown",
   "id": "35a417cb-826a-4e4e-8a7d-95cb4e7d6e7e",
   "metadata": {},
   "source": [
    "# Bubble Plots <a id=\"12\"></a>\n",
    "\n",
    "A `bubble plot` is a variation of the `scatter plot` that displays three dimensions of data (x, y, z). The data points are replaced with bubbles, and the size of the bubble is determined by the third variable `z`, also known as the weight. In `maplotlib`, we can pass in an array or scalar to the parameter `s` to `plot()`, that contains the weight of each point.\n",
    "\n",
    "**Let's start by analyzing the effect of Argentina's great depression**.\n",
    "\n",
    "Argentina suffered a great depression from 1998 to 2002, which caused widespread unemployment, riots, the fall of the government, and a default on the country's foreign debt. In terms of income, over 50% of Argentines were poor, and seven out of ten Argentine children were poor at the depth of the crisis in 2002.\n",
    "\n",
    "Let's analyze the effect of this crisis, and compare Argentina's immigration to that of it's neighbour Brazil. Let's do that using a `bubble plot` of immigration from Brazil and Argentina for the years 1980 - 2013. We will set the weights for the bubble as the *normalized* value of the population for each year.\n"
   ]
  },
  {
   "cell_type": "markdown",
   "id": "eaa2cfad-2cc8-4973-af74-d73360750b7c",
   "metadata": {},
   "source": [
    "**Step 1**: Get the data for Brazil and Argentina. Like in the previous example, we will convert the `Years` to type int and include it in the dataframe.\n"
   ]
  },
  {
   "cell_type": "code",
   "execution_count": null,
   "id": "b0f64114-4255-4475-8618-fb3293cb13e7",
   "metadata": {},
   "outputs": [],
   "source": [
    "# transposed dataframe\n",
    "df_can_t = df_can[years].transpose()\n",
    "\n",
    "# cast the Years (the index) to type int\n",
    "df_can_t.index = map(int, df_can_t.index)\n",
    "\n",
    "# let's label the index. This will automatically be the column name when we reset the index\n",
    "df_can_t.index.name = 'Year'\n",
    "\n",
    "# reset index to bring the Year in as a column\n",
    "df_can_t.reset_index(inplace=True)\n",
    "\n",
    "# view the changes\n",
    "df_can_t.head()"
   ]
  },
  {
   "cell_type": "markdown",
   "id": "f234ed7c-3351-416b-9eea-28979ea4f99f",
   "metadata": {},
   "source": [
    "**Step 2**: Create the normalized weights.\n",
    "\n",
    "There are several methods of normalizations in statistics, each with its own use. In this case, we will use [feature scaling](https://en.wikipedia.org/wiki/Feature_scaling?utm_medium=Exinfluencer&utm_source=Exinfluencer&utm_content=000026UJ&utm_term=10006555&utm_id=NA-SkillsNetwork-Channel-SkillsNetworkCoursesIBMDeveloperSkillsNetworkDV0101ENSkillsNetwork20297740-2021-01-01) to bring all values into the range \\[0, 1]. The general formula is:\n",
    "\n",
    "<img src=\"https://cf-courses-data.s3.us.cloud-object-storage.appdomain.cloud/IBMDeveloperSkillsNetwork-DV0101EN-SkillsNetwork/labs/Module%203/images/Mod3Fig3FeatureScaling.png\" align=\"center\">\n",
    "\n",
    "where $X$ is the original value, $X'$ is the corresponding normalized value. The formula sets the max value in the dataset to 1, and sets the min value to 0. The rest of the data points are scaled to a value between 0-1 accordingly.\n"
   ]
  },
  {
   "cell_type": "code",
   "execution_count": null,
   "id": "a28b2b02-b75e-4f8c-b905-fd6e458fab05",
   "metadata": {},
   "outputs": [],
   "source": [
    "# normalize Brazil data\n",
    "norm_brazil = (df_can_t['Brazil'] - df_can_t['Brazil'].min()) / (df_can_t['Brazil'].max() - df_can_t['Brazil'].min())\n",
    "\n",
    "# normalize Argentina data\n",
    "norm_argentina = (df_can_t['Argentina'] - df_can_t['Argentina'].min()) / (df_can_t['Argentina'].max() - df_can_t['Argentina'].min())"
   ]
  },
  {
   "cell_type": "markdown",
   "id": "5d0e4faa-d147-4013-a765-e5c6752c274b",
   "metadata": {},
   "source": [
    "**Step 3**: Plot the data.\n",
    "\n",
    "*   To plot two different scatter plots in one plot, we can include the axes one plot into the other by passing it via the `ax` parameter.\n",
    "*   We will also pass in the weights using the `s` parameter. Given that the normalized weights are between 0-1, they won't be visible on the plot. Therefore, we will:\n",
    "    *   multiply weights by 2000 to scale it up on the graph, and,\n",
    "    *   add 10 to compensate for the min value (which has a 0 weight and therefore scale with $\\times 2000$).\n"
   ]
  },
  {
   "cell_type": "code",
   "execution_count": null,
   "id": "48e571a2-2356-414b-b1a7-ff01ca640adf",
   "metadata": {},
   "outputs": [],
   "source": [
    "# Brazil\n",
    "ax0 = df_can_t.plot(kind='scatter',\n",
    "                    x='Year',\n",
    "                    y='Brazil',\n",
    "                    figsize=(14, 8),\n",
    "                    alpha=0.5,  # transparency\n",
    "                    color='green',\n",
    "                    s=norm_brazil * 2000 + 10,  # pass in weights \n",
    "                    xlim=(1975, 2015)\n",
    "                    )\n",
    "\n",
    "# Argentina\n",
    "ax1 = df_can_t.plot(kind='scatter',\n",
    "                    x='Year',\n",
    "                    y='Argentina',\n",
    "                    alpha=0.5,\n",
    "                    color=\"blue\",\n",
    "                    s=norm_argentina * 2000 + 10,\n",
    "                    ax=ax0\n",
    "                    )\n",
    "\n",
    "ax0.set_ylabel('Number of Immigrants')\n",
    "ax0.set_title('Immigration from Brazil and Argentina from 1980 to 2013')\n",
    "ax0.legend(['Brazil', 'Argentina'], loc='upper left', fontsize='x-large')"
   ]
  },
  {
   "cell_type": "markdown",
   "id": "1f02bb77-809e-493a-88ef-ca469f4c3194",
   "metadata": {},
   "source": [
    "The size of the bubble corresponds to the magnitude of immigrating population for that year, compared to the 1980 - 2013 data. The larger the bubble is, the more immigrants are in that year.\n",
    "\n",
    "From the plot above, we can see a corresponding increase in immigration from Argentina during the 1998 - 2002 great depression. We can also observe a similar spike around 1985 to 1993. In fact, Argentina had suffered a great depression from 1974 to 1990, just before the onset of 1998 - 2002 great depression.\n",
    "\n",
    "On a similar note, Brazil suffered the *Samba Effect* where the Brazilian real (currency) dropped nearly 35% in 1999. There was a fear of a South American financial crisis as many South American countries were heavily dependent on industrial exports from Brazil. The Brazilian government subsequently adopted an austerity program, and the economy slowly recovered over the years, culminating in a surge in 2010. The immigration data reflect these events.\n"
   ]
  },
  {
   "cell_type": "markdown",
   "id": "920c061a-b47e-4b3f-9653-090ee0543ecb",
   "metadata": {},
   "source": [
    "**Question**: Previously in this lab, we created box plots to compare immigration from China and India to Canada. Create bubble plots of immigration from China and India to visualize any differences with time from 1980 to 2013. You can use **df_can_t** that we defined and used in the previous example.\n"
   ]
  },
  {
   "cell_type": "markdown",
   "id": "4f998b42-5984-4644-8727-3fd7b6a2852e",
   "metadata": {},
   "source": [
    "Step 1: Normalize the data pertaining to China and India.\n"
   ]
  },
  {
   "cell_type": "code",
   "execution_count": null,
   "id": "b57fda78-3e21-421a-bc16-849181f459c4",
   "metadata": {},
   "outputs": [],
   "source": [
    "### type your answer here\n",
    "\n",
    "# normalized Chinese data\n",
    "# norm_china = ...\n",
    "# normalized Indian data\n",
    "# norm_india = ...\n",
    "\n"
   ]
  },
  {
   "cell_type": "markdown",
   "id": "544e2019-77ac-45ba-84f2-102a8ce2f620",
   "metadata": {},
   "source": [
    "<details><summary>Click here for a sample python solution</summary>\n",
    "\n",
    "```python\n",
    "    #The correct answer is:  \n",
    "    \n",
    "    # normalized Chinese data\n",
    "    norm_china = (df_can_t['China'] - df_can_t['China'].min()) / (df_can_t['China'].max() - df_can_t['China'].min())\n",
    "    # normalized Indian data\n",
    "    norm_india = (df_can_t['India'] - df_can_t['India'].min()) / (df_can_t['India'].max() - df_can_t['India'].min())\n",
    "\n",
    "\n",
    "```\n",
    "\n",
    "</details>\n"
   ]
  },
  {
   "cell_type": "markdown",
   "id": "d3a7df41-781f-43e8-87b9-0c78237c7f68",
   "metadata": {},
   "source": [
    "Step 2: Generate the bubble plots.\n"
   ]
  },
  {
   "cell_type": "code",
   "execution_count": null,
   "id": "a897a6a0-69a1-4689-b61f-d09108799fa9",
   "metadata": {},
   "outputs": [],
   "source": [
    "### type your answer here\n",
    "\n",
    "\n",
    "\n"
   ]
  },
  {
   "cell_type": "markdown",
   "id": "9541bb64-de9e-48c5-87dc-e416516e61e3",
   "metadata": {},
   "source": [
    "<details><summary>Click here for a sample python solution</summary>\n",
    "\n",
    "```python\n",
    "    #The correct answer is:  \n",
    "    \n",
    "    # China\n",
    "    ax0 = df_can_t.plot(kind='scatter',\n",
    "                        x='Year',\n",
    "                        y='China',\n",
    "                        figsize=(14, 8),\n",
    "                        alpha=0.5,                  # transparency\n",
    "                        color='green',\n",
    "                        s=norm_china * 2000 + 10,  # pass in weights \n",
    "                        xlim=(1975, 2015)\n",
    "                       )\n",
    "\n",
    "    # India\n",
    "    ax1 = df_can_t.plot(kind='scatter',\n",
    "                        x='Year',\n",
    "                        y='India',\n",
    "                        alpha=0.5,\n",
    "                        color=\"blue\",\n",
    "                        s=norm_india * 2000 + 10,\n",
    "                        ax = ax0\n",
    "                       )\n",
    "\n",
    "    ax0.set_ylabel('Number of Immigrants')\n",
    "    ax0.set_title('Immigration from China and India from 1980 - 2013')\n",
    "    ax0.legend(['China', 'India'], loc='upper left', fontsize='x-large')\n",
    "\n",
    "\n",
    "```\n",
    "\n",
    "</details>\n"
   ]
  },
  {
   "cell_type": "markdown",
   "id": "598f4944-d3d5-48bb-b953-bbae064511fe",
   "metadata": {},
   "source": [
    "### Thank you for completing this lab!\n",
    "\n",
    "## Author\n",
    "\n",
    "<a href=\"https://www.linkedin.com/in/aklson/?utm_medium=Exinfluencer&utm_source=Exinfluencer&utm_content=000026UJ&utm_term=10006555&utm_id=NA-SkillsNetwork-Channel-SkillsNetworkCoursesIBMDeveloperSkillsNetworkDV0101ENSkillsNetwork20297740-2021-01-01\">Alex Aklson</a>\n",
    "\n",
    "### Other Contributors\n",
    "\n",
    "[Jay Rajasekharan](https://www.linkedin.com/in/jayrajasekharan?utm_medium=Exinfluencer&utm_source=Exinfluencer&utm_content=000026UJ&utm_term=10006555&utm_id=NA-SkillsNetwork-Channel-SkillsNetworkCoursesIBMDeveloperSkillsNetworkDV0101ENSkillsNetwork20297740-2021-01-01),\n",
    "[Ehsan M. Kermani](https://www.linkedin.com/in/ehsanmkermani?utm_medium=Exinfluencer&utm_source=Exinfluencer&utm_content=000026UJ&utm_term=10006555&utm_id=NA-SkillsNetwork-Channel-SkillsNetworkCoursesIBMDeveloperSkillsNetworkDV0101ENSkillsNetwork20297740-2021-01-01),\n",
    "[Slobodan Markovic](https://www.linkedin.com/in/slobodan-markovic?utm_medium=Exinfluencer&utm_source=Exinfluencer&utm_content=000026UJ&utm_term=10006555&utm_id=NA-SkillsNetwork-Channel-SkillsNetworkCoursesIBMDeveloperSkillsNetworkDV0101ENSkillsNetwork20297740-2021-01-01),\n",
    "[Weiqing Wang](https://www.linkedin.com/in/weiqing-wang-641640133?utm_medium=Exinfluencer&utm_source=Exinfluencer&utm_content=000026UJ&utm_term=10006555&utm_id=NA-SkillsNetwork-Channel-SkillsNetworkCoursesIBMDeveloperSkillsNetworkDV0101ENSkillsNetwork20297740-2021-01-01),\n",
    "[Pooja]().\n",
    "\n",
    "## <h3 align=\"center\"> © IBM Corporation 2020. All rights reserved. <h3/>\n",
    "\n",
    "``` toggle ## Change Log\n",
    "```\n",
    "\n",
    "``` toggle| Date (YYYY-MM-DD) | Version | Changed By   | Change Description                 |\n",
    "```\n",
    "``` toggle| ----------------- | ------- | ------------ | ---------------------------------- |\n",
    "```\n",
    "``` toggle| 2023-06-11        | 2.7     | Pooja        | Updated the file to work with clean data       |\n",
    "```\n",
    "``` toggle| 2021-05-29        | 2.6     | Weiqing Wang | Fixed typos and code spells.       |\n",
    "```\n",
    "``` toggle| 2021-01-20        | 2.5     | LakshmiHolla | Changed TOC markdown section       |\n",
    "```\n",
    "``` toggle| 2021-01-05        | 2.4     | LakshmiHolla | Changed markdown for outliers      |\n",
    "```\n",
    "``` toggle| 2020-11-12        | 2.3     | LakshmiHolla | Added example code for outliers    |\n",
    "```\n",
    "``` toggle| 2020-11-03        | 2.2     | LakshmiHolla | Changed URL of excel file          |\n",
    "```\n",
    "``` toggle| 2020-09-29        | 2.1     | LakshmiHolla | Made fix to a boxplot label        |\n",
    "```\n",
    "``` toggle| 2020-08-27        | 2.0     | Lavanya      | Moved lab to course repo in GitLab |\n",
    "```\n",
    "\n",
    "\n"
   ]
  },
  {
   "cell_type": "code",
   "execution_count": null,
   "id": "f89e4031-9476-46be-a90e-e3262c2832cb",
   "metadata": {},
   "outputs": [],
   "source": []
  }
 ],
 "metadata": {
  "kernelspec": {
   "display_name": "venv",
   "language": "python",
   "name": "python3"
  },
  "language_info": {
   "codemirror_mode": {
    "name": "ipython",
    "version": 3
   },
   "file_extension": ".py",
   "mimetype": "text/x-python",
   "name": "python",
   "nbconvert_exporter": "python",
   "pygments_lexer": "ipython3",
   "version": "3.12.2"
  },
  "prev_pub_hash": "71f2bd7aa7909089f1e4dfd5f58dbf731f8bcefd6059a011f44ee88305b5b8d4"
 },
 "nbformat": 4,
 "nbformat_minor": 4
}
