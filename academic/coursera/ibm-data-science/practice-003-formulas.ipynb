{
 "cells": [
  {
   "cell_type": "markdown",
   "metadata": {},
   "source": [
    "# PRACTICE WORKSHEET 003\n",
    "\n",
    "\n",
    "\n",
    "| Formula | Sample | Population |\n",
    "| ----- | ----- | ----- |\n",
    "| Standard Deviation | = sqrt ( Sum ( xi - x bar ) ^ 2 / n - 1 ) | = sqrt ( Sum ( xi - u ) ^ 2 / N ) |\n",
    "| Variance |  Sum ( xi - x bar ) ^ 2 / n - 1  | Sum ( xi - u ) ^ 2 / N |\n",
    "| Coefficient Variation | ( s / x bar ) X 100% | ( o / m ) x 100% |\n",
    "| Mean Absolute Deviation | Sum ( Absolute ( xi - x bar ) ) / n\n",
    "| Quantile | = k ( n + 1 / 4 )\n",
    "| Percentile | = k ( n + 1 / 100 )\n",
    "\n",
    "`Variance` -> The spread of prices <br>\n",
    "`Standard Deviation` -> How far prices deviate from the mean <br>\n",
    "`Coefficient Variation (CV)` -> To compare relative  <br>\n",
    "`Mean Absolute Deviation (MAD)` -> As an alternative spread measure <br>\n"
   ]
  },
  {
   "cell_type": "markdown",
   "metadata": {},
   "source": []
  },
  {
   "cell_type": "code",
   "execution_count": 2,
   "metadata": {},
   "outputs": [],
   "source": [
    "import pandas as pd\n",
    "import numpy as np"
   ]
  },
  {
   "cell_type": "code",
   "execution_count": 6,
   "metadata": {},
   "outputs": [],
   "source": [
    "def compute(items: np.array):\n",
    "    #df = pd.DataFrame(items)\n",
    "    print(\"Mean: \", items.mean())\n",
    "    print(\"Variance: \", np.var(items, ddof=1))\n",
    "    print(\"Standard Deviation: \", np.std(items, ddof=1))\n",
    "    print(\"Coefficient Variation: \", (np.std(items, ddof=1) / items.mean()) * 100)\n",
    "    print(\"Mean Absolute Deviation: \", np.mean(np.abs(items - items.mean())))"
   ]
  },
  {
   "cell_type": "code",
   "execution_count": 7,
   "metadata": {},
   "outputs": [
    {
     "name": "stdout",
     "output_type": "stream",
     "text": [
      "Mean:  890.0\n",
      "Variance:  680.0\n",
      "Standard Deviation:  26.076809620810597\n",
      "Coefficient Variation:  2.9299786090798423\n",
      "Mean Absolute Deviation:  20.0\n",
      "Mean:  873.3333333333334\n",
      "Variance:  7226.666666666666\n",
      "Standard Deviation:  85.00980335624043\n",
      "Coefficient Variation:  9.733946949187834\n",
      "Mean Absolute Deviation:  66.66666666666667\n"
     ]
    }
   ],
   "source": [
    "# Practice Problem : Comparing the Variability of Two Products' Prices\n",
    "\n",
    "brand_a = np.array([850, 900, 890, 870, 920, 910])\n",
    "brand_b = np.array([750, 850, 950, 890, 820, 980])\n",
    "\n",
    "# Compute the following (Mean, Variance, Standard Deviation, Coefficient of Variation, Mean Absolute Deviation)\n",
    "compute(brand_a)\n",
    "compute(brand_b)\n",
    "\n"
   ]
  },
  {
   "cell_type": "code",
   "execution_count": null,
   "metadata": {},
   "outputs": [],
   "source": [
    "# Questions:\n",
    "# Which brand has more consistent pricing?\n",
    "# Which brand has greater price variability? \n",
    "# If you were looking for a stable price range, which brand would you prefer? "
   ]
  }
 ],
 "metadata": {
  "kernelspec": {
   "display_name": "venv",
   "language": "python",
   "name": "python3"
  },
  "language_info": {
   "codemirror_mode": {
    "name": "ipython",
    "version": 3
   },
   "file_extension": ".py",
   "mimetype": "text/x-python",
   "name": "python",
   "nbconvert_exporter": "python",
   "pygments_lexer": "ipython3",
   "version": "3.13.2"
  }
 },
 "nbformat": 4,
 "nbformat_minor": 2
}
