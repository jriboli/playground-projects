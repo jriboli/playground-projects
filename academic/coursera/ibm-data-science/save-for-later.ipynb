{
 "cells": [
  {
   "cell_type": "code",
   "execution_count": null,
   "metadata": {},
   "outputs": [],
   "source": [
    "import pandas as pd\n",
    "import seaborn as sns\n",
    "import matplotlib.pyplot as plt\n",
    "\n",
    "# Load your dataset (replace 'your_dataset.csv' with your actual file)\n",
    "df = pd.read_csv(\"your_dataset.csv\")\n",
    "\n",
    "# 1️⃣ Basic Information\n",
    "print(\"\\n🔹 Basic Info:\")\n",
    "print(df.info())\n",
    "print(\"\\n🔹 First 5 rows:\")\n",
    "print(df.head())\n",
    "print(\"\\n🔹 Summary Statistics:\")\n",
    "print(df.describe())\n",
    "\n",
    "# 2️⃣ Missing Values\n",
    "print(\"\\n🔹 Missing Values:\")\n",
    "print(df.isnull().sum())\n",
    "\n",
    "# 3️⃣ Visualizing Data Distributions\n",
    "for col in df.select_dtypes(include=['number']).columns:\n",
    "    plt.figure(figsize=(6, 4))\n",
    "    sns.histplot(df[col], kde=True, bins=30)\n",
    "    plt.title(f'Distribution of {col}')\n",
    "    plt.show()\n",
    "\n",
    "# 4️⃣ Categorical Data Analysis\n",
    "for col in df.select_dtypes(include=['object']).columns:\n",
    "    plt.figure(figsize=(6, 4))\n",
    "    sns.countplot(y=df[col], order=df[col].value_counts().index)\n",
    "    plt.title(f'Count of {col}')\n",
    "    plt.show()\n",
    "\n",
    "# 5️⃣ Correlation Heatmap\n",
    "plt.figure(figsize=(10, 6))\n",
    "sns.heatmap(df.corr(), annot=True, cmap=\"coolwarm\", fmt=\".2f\")\n",
    "plt.title(\"Feature Correlation Heatmap\")\n",
    "plt.show()\n",
    "\n",
    "# 6️⃣ Boxplots for Outliers\n",
    "for col in df.select_dtypes(include=['number']).columns:\n",
    "    plt.figure(figsize=(6, 4))\n",
    "    sns.boxplot(x=df[col])\n",
    "    plt.title(f'Boxplot of {col}')\n",
    "    plt.show()\n",
    "\n",
    "# 7️⃣ Pairplot (for relationships)\n",
    "sns.pairplot(df.select_dtypes(include=['number']))\n",
    "plt.show()\n"
   ]
  }
 ],
 "metadata": {
  "language_info": {
   "name": "python"
  }
 },
 "nbformat": 4,
 "nbformat_minor": 2
}
