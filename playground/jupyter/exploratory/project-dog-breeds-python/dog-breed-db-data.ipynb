{
 "cells": [
  {
   "cell_type": "code",
   "execution_count": null,
   "metadata": {},
   "outputs": [],
   "source": [
    "import pandas as pd\n",
    "import pymysql\n",
    "from sqlalchemy import create_engine\n",
    "from dotenv import load_dotenv\n",
    "\n",
    "load_dotenv()\n",
    "\n",
    "db_user = os.getenv(\"DB_USER\")\n",
    "db_password = os.getenv(\"DB_PASSWORD\")\n",
    "db_host = \"127.0.0.1\"\n",
    "db_name = \"data_science\"\n",
    "\n",
    "engine = create_engine(\"mysql+pymysql://\" + db_user + \":\" + db_password + \"@\" + db_host + \"/\" + db_name)"
   ]
  },
  {
   "cell_type": "code",
   "execution_count": 28,
   "metadata": {},
   "outputs": [
    {
     "name": "stdout",
     "output_type": "stream",
     "text": [
      "                                      LicenseType         Breed  \\\n",
      "0                    Dog Individual Spayed Female  BICHON FRISE   \n",
      "1  Dog Senior Citizen or Disability Spayed Female     CHIHUAHUA   \n",
      "2                    Dog Individual Spayed Female       LAB MIX   \n",
      "3                             Dog Individual Male     DACHSHUND   \n",
      "4                    Dog Individual Spayed Female     DACHSHUND   \n",
      "\n",
      "               Color  DogName  OwnerZip  ExpYear        ValidDate  \n",
      "0              WHITE    CHLOE     15090     2017  12/15/2016 9:58  \n",
      "1  WHITE/BLACK/BROWN  CHALUPA     15120     2017  3/23/2017 14:32  \n",
      "2             YELLOW      MIA     15133     2017  2/28/2017 10:59  \n",
      "3   BLACK/BROWN/GREY     CODY     15108     2017   2/9/2017 13:40  \n",
      "4              BLACK   SOPHIE     15108     2017   2/9/2017 13:40  \n"
     ]
    }
   ],
   "source": [
    "query = \"SELECT * FROM dog_license_2017_data;\"\n",
    "df_licenses = pd.read_sql(query, engine)\n",
    "print(df_licenses.head())"
   ]
  },
  {
   "cell_type": "code",
   "execution_count": 29,
   "metadata": {},
   "outputs": [
    {
     "data": {
      "text/html": [
       "<div>\n",
       "<style scoped>\n",
       "    .dataframe tbody tr th:only-of-type {\n",
       "        vertical-align: middle;\n",
       "    }\n",
       "\n",
       "    .dataframe tbody tr th {\n",
       "        vertical-align: top;\n",
       "    }\n",
       "\n",
       "    .dataframe thead th {\n",
       "        text-align: right;\n",
       "    }\n",
       "</style>\n",
       "<table border=\"1\" class=\"dataframe\">\n",
       "  <thead>\n",
       "    <tr style=\"text-align: right;\">\n",
       "      <th></th>\n",
       "      <th>OwnerZip</th>\n",
       "      <th>ExpYear</th>\n",
       "    </tr>\n",
       "  </thead>\n",
       "  <tbody>\n",
       "    <tr>\n",
       "      <th>count</th>\n",
       "      <td>21727.000000</td>\n",
       "      <td>21727.0</td>\n",
       "    </tr>\n",
       "    <tr>\n",
       "      <th>mean</th>\n",
       "      <td>15152.795968</td>\n",
       "      <td>2017.0</td>\n",
       "    </tr>\n",
       "    <tr>\n",
       "      <th>std</th>\n",
       "      <td>85.874782</td>\n",
       "      <td>0.0</td>\n",
       "    </tr>\n",
       "    <tr>\n",
       "      <th>min</th>\n",
       "      <td>15003.000000</td>\n",
       "      <td>2017.0</td>\n",
       "    </tr>\n",
       "    <tr>\n",
       "      <th>25%</th>\n",
       "      <td>15102.000000</td>\n",
       "      <td>2017.0</td>\n",
       "    </tr>\n",
       "    <tr>\n",
       "      <th>50%</th>\n",
       "      <td>15137.000000</td>\n",
       "      <td>2017.0</td>\n",
       "    </tr>\n",
       "    <tr>\n",
       "      <th>75%</th>\n",
       "      <td>15227.000000</td>\n",
       "      <td>2017.0</td>\n",
       "    </tr>\n",
       "    <tr>\n",
       "      <th>max</th>\n",
       "      <td>16229.000000</td>\n",
       "      <td>2017.0</td>\n",
       "    </tr>\n",
       "  </tbody>\n",
       "</table>\n",
       "</div>"
      ],
      "text/plain": [
       "           OwnerZip  ExpYear\n",
       "count  21727.000000  21727.0\n",
       "mean   15152.795968   2017.0\n",
       "std       85.874782      0.0\n",
       "min    15003.000000   2017.0\n",
       "25%    15102.000000   2017.0\n",
       "50%    15137.000000   2017.0\n",
       "75%    15227.000000   2017.0\n",
       "max    16229.000000   2017.0"
      ]
     },
     "execution_count": 29,
     "metadata": {},
     "output_type": "execute_result"
    }
   ],
   "source": [
    "df_licenses.describe()"
   ]
  },
  {
   "cell_type": "code",
   "execution_count": 30,
   "metadata": {},
   "outputs": [
    {
     "data": {
      "text/html": [
       "<div>\n",
       "<style scoped>\n",
       "    .dataframe tbody tr th:only-of-type {\n",
       "        vertical-align: middle;\n",
       "    }\n",
       "\n",
       "    .dataframe tbody tr th {\n",
       "        vertical-align: top;\n",
       "    }\n",
       "\n",
       "    .dataframe thead th {\n",
       "        text-align: right;\n",
       "    }\n",
       "</style>\n",
       "<table border=\"1\" class=\"dataframe\">\n",
       "  <thead>\n",
       "    <tr style=\"text-align: right;\">\n",
       "      <th></th>\n",
       "      <th>OwnerZip</th>\n",
       "      <th>ExpYear</th>\n",
       "    </tr>\n",
       "  </thead>\n",
       "  <tbody>\n",
       "    <tr>\n",
       "      <th>count</th>\n",
       "      <td>21527.000000</td>\n",
       "      <td>21527.0</td>\n",
       "    </tr>\n",
       "    <tr>\n",
       "      <th>mean</th>\n",
       "      <td>15152.746597</td>\n",
       "      <td>2017.0</td>\n",
       "    </tr>\n",
       "    <tr>\n",
       "      <th>std</th>\n",
       "      <td>85.975201</td>\n",
       "      <td>0.0</td>\n",
       "    </tr>\n",
       "    <tr>\n",
       "      <th>min</th>\n",
       "      <td>15003.000000</td>\n",
       "      <td>2017.0</td>\n",
       "    </tr>\n",
       "    <tr>\n",
       "      <th>25%</th>\n",
       "      <td>15102.000000</td>\n",
       "      <td>2017.0</td>\n",
       "    </tr>\n",
       "    <tr>\n",
       "      <th>50%</th>\n",
       "      <td>15137.000000</td>\n",
       "      <td>2017.0</td>\n",
       "    </tr>\n",
       "    <tr>\n",
       "      <th>75%</th>\n",
       "      <td>15227.000000</td>\n",
       "      <td>2017.0</td>\n",
       "    </tr>\n",
       "    <tr>\n",
       "      <th>max</th>\n",
       "      <td>16229.000000</td>\n",
       "      <td>2017.0</td>\n",
       "    </tr>\n",
       "  </tbody>\n",
       "</table>\n",
       "</div>"
      ],
      "text/plain": [
       "           OwnerZip  ExpYear\n",
       "count  21527.000000  21527.0\n",
       "mean   15152.746597   2017.0\n",
       "std       85.975201      0.0\n",
       "min    15003.000000   2017.0\n",
       "25%    15102.000000   2017.0\n",
       "50%    15137.000000   2017.0\n",
       "75%    15227.000000   2017.0\n",
       "max    16229.000000   2017.0"
      ]
     },
     "execution_count": 30,
     "metadata": {},
     "output_type": "execute_result"
    }
   ],
   "source": [
    "df_licenses.dropna(inplace=True)\n",
    "df_licenses.describe()"
   ]
  },
  {
   "cell_type": "code",
   "execution_count": 31,
   "metadata": {},
   "outputs": [
    {
     "data": {
      "text/plain": [
       "0              BICHON FRISE\n",
       "1                 CHIHUAHUA\n",
       "2                   LAB MIX\n",
       "3                 DACHSHUND\n",
       "4                 DACHSHUND\n",
       "                ...        \n",
       "21722                 BOXER\n",
       "21723                 MIXED\n",
       "21724    LABRADOR RETRIEVER\n",
       "21725          GER SHEPHERD\n",
       "21726             CHIHUAHUA\n",
       "Name: Breed, Length: 21527, dtype: object"
      ]
     },
     "execution_count": 31,
     "metadata": {},
     "output_type": "execute_result"
    }
   ],
   "source": [
    "df_licenses[\"Breed\"]"
   ]
  },
  {
   "cell_type": "code",
   "execution_count": 45,
   "metadata": {},
   "outputs": [
    {
     "data": {
      "text/plain": [
       "265"
      ]
     },
     "execution_count": 45,
     "metadata": {},
     "output_type": "execute_result"
    }
   ],
   "source": [
    "breeds = df_licenses[\"Breed\"].unique()\n",
    "breeds.size"
   ]
  },
  {
   "cell_type": "code",
   "execution_count": 47,
   "metadata": {},
   "outputs": [
    {
     "name": "stdout",
     "output_type": "stream",
     "text": [
      "Breed\n",
      "MIXED                 2287\n",
      "LABRADOR RETRIEVER    1366\n",
      "LAB MIX               1181\n",
      "GER SHEPHERD           742\n",
      "GOLDEN RETRIEVER       689\n",
      "                      ... \n",
      "PYRENEAN MASTIFF         1\n",
      "BERGAMASCO               1\n",
      "PUMI                     1\n",
      "CAROLINA DOG             1\n",
      "JINDO                    1\n",
      "Name: count, Length: 265, dtype: int64\n"
     ]
    }
   ],
   "source": [
    "breed_counts = df_licenses[\"Breed\"].value_counts()\n",
    "print(breed_counts)"
   ]
  },
  {
   "cell_type": "code",
   "execution_count": 52,
   "metadata": {},
   "outputs": [
    {
     "data": {
      "image/png": "[encoded data removed]",
      "text/plain": [
       "<Figure size 800x500 with 1 Axes>"
      ]
     },
     "metadata": {},
     "output_type": "display_data"
    }
   ],
   "source": [
    "import matplotlib.pyplot as plt\n",
    "\n",
    "plt.figure(figsize=(8,5))\n",
    "top_ten = breed_counts.head(10)\n",
    "top_ten.plot(kind=\"bar\", color=\"skyblue\")\n",
    "\n",
    "plt.title(\"Breed Count\")\n",
    "plt.xlabel(\"Breed\")\n",
    "plt.ylabel(\"Count\")\n",
    "plt.xticks(rotation=90)\n",
    "plt.grid(axis=\"y\", linestyle=\"--\", alpha=0.7)\n",
    "\n",
    "plt.show()"
   ]
  },
  {
   "cell_type": "code",
   "execution_count": 53,
   "metadata": {},
   "outputs": [
    {
     "data": {
      "text/plain": [
       "Breed\n",
       "MIXED                  2287\n",
       "LABRADOR RETRIEVER     1366\n",
       "LAB MIX                1181\n",
       "GER SHEPHERD            742\n",
       "GOLDEN RETRIEVER        689\n",
       "SHIH TZU                632\n",
       "CHIHUAHUA               624\n",
       "AM PIT BULL TERRIER     586\n",
       "BEAGLE                  578\n",
       "TAG                     544\n",
       "Name: count, dtype: int64"
      ]
     },
     "execution_count": 53,
     "metadata": {},
     "output_type": "execute_result"
    }
   ],
   "source": [
    "top_ten"
   ]
  },
  {
   "cell_type": "code",
   "execution_count": 55,
   "metadata": {},
   "outputs": [
    {
     "data": {
      "text/html": [
       "<div>\n",
       "<style scoped>\n",
       "    .dataframe tbody tr th:only-of-type {\n",
       "        vertical-align: middle;\n",
       "    }\n",
       "\n",
       "    .dataframe tbody tr th {\n",
       "        vertical-align: top;\n",
       "    }\n",
       "\n",
       "    .dataframe thead th {\n",
       "        text-align: right;\n",
       "    }\n",
       "</style>\n",
       "<table border=\"1\" class=\"dataframe\">\n",
       "  <thead>\n",
       "    <tr style=\"text-align: right;\">\n",
       "      <th></th>\n",
       "      <th>LicenseType</th>\n",
       "      <th>Breed</th>\n",
       "      <th>Color</th>\n",
       "      <th>DogName</th>\n",
       "      <th>OwnerZip</th>\n",
       "      <th>ExpYear</th>\n",
       "      <th>ValidDate</th>\n",
       "      <th>Sex</th>\n",
       "    </tr>\n",
       "  </thead>\n",
       "  <tbody>\n",
       "    <tr>\n",
       "      <th>0</th>\n",
       "      <td>Dog Individual Spayed Female</td>\n",
       "      <td>BICHON FRISE</td>\n",
       "      <td>WHITE</td>\n",
       "      <td>CHLOE</td>\n",
       "      <td>15090</td>\n",
       "      <td>2017</td>\n",
       "      <td>12/15/2016 9:58</td>\n",
       "      <td>F</td>\n",
       "    </tr>\n",
       "    <tr>\n",
       "      <th>1</th>\n",
       "      <td>Dog Senior Citizen or Disability Spayed Female</td>\n",
       "      <td>CHIHUAHUA</td>\n",
       "      <td>WHITE/BLACK/BROWN</td>\n",
       "      <td>CHALUPA</td>\n",
       "      <td>15120</td>\n",
       "      <td>2017</td>\n",
       "      <td>3/23/2017 14:32</td>\n",
       "      <td>F</td>\n",
       "    </tr>\n",
       "    <tr>\n",
       "      <th>2</th>\n",
       "      <td>Dog Individual Spayed Female</td>\n",
       "      <td>LAB MIX</td>\n",
       "      <td>YELLOW</td>\n",
       "      <td>MIA</td>\n",
       "      <td>15133</td>\n",
       "      <td>2017</td>\n",
       "      <td>2/28/2017 10:59</td>\n",
       "      <td>F</td>\n",
       "    </tr>\n",
       "    <tr>\n",
       "      <th>3</th>\n",
       "      <td>Dog Individual Male</td>\n",
       "      <td>DACHSHUND</td>\n",
       "      <td>BLACK/BROWN/GREY</td>\n",
       "      <td>CODY</td>\n",
       "      <td>15108</td>\n",
       "      <td>2017</td>\n",
       "      <td>2/9/2017 13:40</td>\n",
       "      <td>M</td>\n",
       "    </tr>\n",
       "    <tr>\n",
       "      <th>4</th>\n",
       "      <td>Dog Individual Spayed Female</td>\n",
       "      <td>DACHSHUND</td>\n",
       "      <td>BLACK</td>\n",
       "      <td>SOPHIE</td>\n",
       "      <td>15108</td>\n",
       "      <td>2017</td>\n",
       "      <td>2/9/2017 13:40</td>\n",
       "      <td>F</td>\n",
       "    </tr>\n",
       "  </tbody>\n",
       "</table>\n",
       "</div>"
      ],
      "text/plain": [
       "                                      LicenseType         Breed  \\\n",
       "0                    Dog Individual Spayed Female  BICHON FRISE   \n",
       "1  Dog Senior Citizen or Disability Spayed Female     CHIHUAHUA   \n",
       "2                    Dog Individual Spayed Female       LAB MIX   \n",
       "3                             Dog Individual Male     DACHSHUND   \n",
       "4                    Dog Individual Spayed Female     DACHSHUND   \n",
       "\n",
       "               Color  DogName  OwnerZip  ExpYear        ValidDate Sex  \n",
       "0              WHITE    CHLOE     15090     2017  12/15/2016 9:58   F  \n",
       "1  WHITE/BLACK/BROWN  CHALUPA     15120     2017  3/23/2017 14:32   F  \n",
       "2             YELLOW      MIA     15133     2017  2/28/2017 10:59   F  \n",
       "3   BLACK/BROWN/GREY     CODY     15108     2017   2/9/2017 13:40   M  \n",
       "4              BLACK   SOPHIE     15108     2017   2/9/2017 13:40   F  "
      ]
     },
     "execution_count": 55,
     "metadata": {},
     "output_type": "execute_result"
    }
   ],
   "source": [
    "df_licenses[\"Sex\"] = df_licenses[\"LicenseType\"].apply(lambda x: \"M\" if \"Male\" in x else \"F\")\n",
    "df_licenses.head()"
   ]
  },
  {
   "cell_type": "code",
   "execution_count": 81,
   "metadata": {},
   "outputs": [
    {
     "name": "stdout",
     "output_type": "stream",
     "text": [
      "Sex                    F     M   Sum\n",
      "Breed                               \n",
      "MIXED               1197  1090  2287\n",
      "LABRADOR RETRIEVER   695   671  1366\n",
      "LAB MIX              598   583  1181\n",
      "GER SHEPHERD         365   377   742\n",
      "GOLDEN RETRIEVER     331   358   689\n",
      "...                  ...   ...   ...\n",
      "BLACK FOREST HOUND     1     0     1\n",
      "BERGAMASCO             0     1     1\n",
      "BELG SHEPHERD          0     1     1\n",
      "BEAGLE HARRIER         0     1     1\n",
      "SUSSEX SPANIEL         0     1     1\n",
      "\n",
      "[265 rows x 3 columns]\n"
     ]
    },
    {
     "data": {
      "text/html": [
       "<div>\n",
       "<style scoped>\n",
       "    .dataframe tbody tr th:only-of-type {\n",
       "        vertical-align: middle;\n",
       "    }\n",
       "\n",
       "    .dataframe tbody tr th {\n",
       "        vertical-align: top;\n",
       "    }\n",
       "\n",
       "    .dataframe thead th {\n",
       "        text-align: right;\n",
       "    }\n",
       "</style>\n",
       "<table border=\"1\" class=\"dataframe\">\n",
       "  <thead>\n",
       "    <tr style=\"text-align: right;\">\n",
       "      <th>Sex</th>\n",
       "      <th>F</th>\n",
       "      <th>M</th>\n",
       "      <th>Sum</th>\n",
       "    </tr>\n",
       "    <tr>\n",
       "      <th>Breed</th>\n",
       "      <th></th>\n",
       "      <th></th>\n",
       "      <th></th>\n",
       "    </tr>\n",
       "  </thead>\n",
       "  <tbody>\n",
       "    <tr>\n",
       "      <th>.</th>\n",
       "      <td>9</td>\n",
       "      <td>9</td>\n",
       "      <td>18</td>\n",
       "    </tr>\n",
       "    <tr>\n",
       "      <th>AFFENPINSCHER</th>\n",
       "      <td>2</td>\n",
       "      <td>2</td>\n",
       "      <td>4</td>\n",
       "    </tr>\n",
       "    <tr>\n",
       "      <th>AIREDALE TERRIER</th>\n",
       "      <td>17</td>\n",
       "      <td>19</td>\n",
       "      <td>36</td>\n",
       "    </tr>\n",
       "    <tr>\n",
       "      <th>AKITA</th>\n",
       "      <td>19</td>\n",
       "      <td>13</td>\n",
       "      <td>32</td>\n",
       "    </tr>\n",
       "    <tr>\n",
       "      <th>AKITA MIX</th>\n",
       "      <td>5</td>\n",
       "      <td>4</td>\n",
       "      <td>9</td>\n",
       "    </tr>\n",
       "  </tbody>\n",
       "</table>\n",
       "</div>"
      ],
      "text/plain": [
       "Sex                F   M  Sum\n",
       "Breed                        \n",
       ".                  9   9   18\n",
       "AFFENPINSCHER      2   2    4\n",
       "AIREDALE TERRIER  17  19   36\n",
       "AKITA             19  13   32\n",
       "AKITA MIX          5   4    9"
      ]
     },
     "execution_count": 81,
     "metadata": {},
     "output_type": "execute_result"
    }
   ],
   "source": [
    "breed_sex_counts = df_licenses.groupby([\"Breed\", \"Sex\"]).size().unstack(fill_value=0)\n",
    "breed_sex_counts[\"Sum\"] = breed_sex_counts[\"M\"] + breed_sex_counts[\"F\"]\n",
    "print(breed_sex_counts.sort_values(\"Sum\", ascending=False))\n",
    "\n",
    "breed_sex_counts.head()"
   ]
  },
  {
   "cell_type": "code",
   "execution_count": 83,
   "metadata": {},
   "outputs": [
    {
     "data": {
      "text/html": [
       "<div>\n",
       "<style scoped>\n",
       "    .dataframe tbody tr th:only-of-type {\n",
       "        vertical-align: middle;\n",
       "    }\n",
       "\n",
       "    .dataframe tbody tr th {\n",
       "        vertical-align: top;\n",
       "    }\n",
       "\n",
       "    .dataframe thead th {\n",
       "        text-align: right;\n",
       "    }\n",
       "</style>\n",
       "<table border=\"1\" class=\"dataframe\">\n",
       "  <thead>\n",
       "    <tr style=\"text-align: right;\">\n",
       "      <th>Sex</th>\n",
       "      <th>F</th>\n",
       "      <th>M</th>\n",
       "    </tr>\n",
       "    <tr>\n",
       "      <th>Breed</th>\n",
       "      <th></th>\n",
       "      <th></th>\n",
       "    </tr>\n",
       "  </thead>\n",
       "  <tbody>\n",
       "    <tr>\n",
       "      <th>MIXED</th>\n",
       "      <td>1197</td>\n",
       "      <td>1090</td>\n",
       "    </tr>\n",
       "    <tr>\n",
       "      <th>LABRADOR RETRIEVER</th>\n",
       "      <td>695</td>\n",
       "      <td>671</td>\n",
       "    </tr>\n",
       "    <tr>\n",
       "      <th>LAB MIX</th>\n",
       "      <td>598</td>\n",
       "      <td>583</td>\n",
       "    </tr>\n",
       "    <tr>\n",
       "      <th>GER SHEPHERD</th>\n",
       "      <td>365</td>\n",
       "      <td>377</td>\n",
       "    </tr>\n",
       "    <tr>\n",
       "      <th>GOLDEN RETRIEVER</th>\n",
       "      <td>331</td>\n",
       "      <td>358</td>\n",
       "    </tr>\n",
       "  </tbody>\n",
       "</table>\n",
       "</div>"
      ],
      "text/plain": [
       "Sex                    F     M\n",
       "Breed                         \n",
       "MIXED               1197  1090\n",
       "LABRADOR RETRIEVER   695   671\n",
       "LAB MIX              598   583\n",
       "GER SHEPHERD         365   377\n",
       "GOLDEN RETRIEVER     331   358"
      ]
     },
     "execution_count": 83,
     "metadata": {},
     "output_type": "execute_result"
    }
   ],
   "source": [
    "breed_sex_sorted = breed_sex_counts.sort_values(\"Sum\", ascending=False)\n",
    "#breed_sex_sorted.head()\n",
    "breed_sex_sorted = breed_sex_sorted.drop(columns=[\"Sum\"])\n",
    "breed_sex_sorted.head()"
   ]
  },
  {
   "cell_type": "code",
   "execution_count": 84,
   "metadata": {},
   "outputs": [
    {
     "data": {
      "image/png": "[encoded data removed]",
      "text/plain": [
       "<Figure size 800x500 with 1 Axes>"
      ]
     },
     "metadata": {},
     "output_type": "display_data"
    }
   ],
   "source": [
    "\n",
    "breed_sex_sorted.head(10).plot(kind=\"bar\", figsize=(8,5), color=[\"blue\", \"orange\"])\n",
    "\n",
    "plt.title(\"Breed Count by Sex\")\n",
    "plt.xlabel(\"Breed\")\n",
    "plt.ylabel(\"Count\")\n",
    "plt.xticks(rotation=90)\n",
    "plt.legend(title=\"Sex\", labels=[\"Female\", \"Male\"])\n",
    "plt.grid(axis=\"y\", linestyle=\"--\", alpha=0.7)\n",
    "\n",
    "plt.show()"
   ]
  },
  {
   "cell_type": "code",
   "execution_count": 87,
   "metadata": {},
   "outputs": [
    {
     "data": {
      "text/plain": [
       "LicenseType\n",
       "Dog Individual Spayed Female                      6378\n",
       "Dog Individual Neutered Male                      6197\n",
       "Dog Senior Citizen or Disability Spayed Female    2515\n",
       "Dog Senior Citizen or Disability Neutered Male    2130\n",
       "Dog Individual Male                               1915\n",
       "Dog Individual Female                             1272\n",
       "Dog Senior Citizen or Disability Male              564\n",
       "Dog Senior Citizen or Disability Female            450\n",
       "Dog Individual License Duplicate                    34\n",
       "Dog Individual License - FREE                       33\n",
       "Dog Senior Citizen or Disability Duplicate          21\n",
       "Dog Senior Citizen or Disability - FREE              8\n",
       "Dog Inter County Transfer - Senior                   4\n",
       "Dog Inter County Transfer                            4\n",
       "Dog Lifetime Female                                  1\n",
       "Dog Lifetime Spayed Female                           1\n",
       "Name: count, dtype: int64"
      ]
     },
     "execution_count": 87,
     "metadata": {},
     "output_type": "execute_result"
    }
   ],
   "source": [
    "df_licenses[\"LicenseType\"].value_counts()"
   ]
  },
  {
   "cell_type": "code",
   "execution_count": null,
   "metadata": {},
   "outputs": [],
   "source": []
  }
 ],
 "metadata": {
  "kernelspec": {
   "display_name": "venv",
   "language": "python",
   "name": "python3"
  },
  "language_info": {
   "codemirror_mode": {
    "name": "ipython",
    "version": 3
   },
   "file_extension": ".py",
   "mimetype": "text/x-python",
   "name": "python",
   "nbconvert_exporter": "python",
   "pygments_lexer": "ipython3",
   "version": "3.12.2"
  }
 },
 "nbformat": 4,
 "nbformat_minor": 2
}
