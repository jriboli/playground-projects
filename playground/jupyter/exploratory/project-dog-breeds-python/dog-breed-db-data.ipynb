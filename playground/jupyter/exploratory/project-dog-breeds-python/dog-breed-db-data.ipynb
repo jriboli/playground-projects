{
 "cells": [
  {
   "cell_type": "markdown",
   "metadata": {},
   "source": [
    "# IMPORTS\n",
    "\n",
    "- pandas -> data manipulation\n",
    "- sqlalchemy -> database connection\n",
    "- pymysql -> mysql connector\n",
    "- openpyxl -> handling excel files\n",
    "\n",
    "Welp, looks like there were several issues we had to deal with: \n",
    "- First the lib <mark>mysql-connector</mark> does not work nicely with the version of MySQL (v9.2) I am running. Anything over 8.0 starting using a new authentication type (caching_sha2_password). Had to uninstall my-connector, and install <mark>my-connector-python</mark>. \n",
    "- Even after installing the new lib the issues persisted. I eventually closed everything, deleted my venv and recreated it. That seems to fix the issue. "
   ]
  },
  {
   "cell_type": "code",
   "execution_count": 12,
   "metadata": {},
   "outputs": [],
   "source": [
    "import pandas as pd\n",
    "#import sqlalchemy\n",
    "#import pymysql\n",
    "import openpyxl"
   ]
  },
  {
   "cell_type": "markdown",
   "metadata": {},
   "source": [
    "# Connect to local DB\n",
    "\n",
    "Using the dotenv lib to keep my user/password secret and not accidently commit to github. Even though we are working with a Docker image locally. "
   ]
  },
  {
   "cell_type": "code",
   "execution_count": 17,
   "metadata": {},
   "outputs": [],
   "source": [
    "import os\n",
    "from dotenv import load_dotenv\n",
    "import mysql.connector\n",
    "\n",
    "load_dotenv()\n",
    "\n",
    "db_user = os.getenv(\"DB_USER\")\n",
    "db_password = os.getenv(\"DB_PASSWORD\")\n",
    "db_host = \"127.0.0.1\"\n",
    "db_name = \"data_science\"\n",
    "engine = mysql.connector.connect(user=db_user, password=db_password, host=db_host, database=db_name)\n",
    "\n",
    "#cur = engine.cursor()\n",
    "\n",
    "#cur.execute(\"SELECT CURDATE()\")\n",
    "#row = cur.fetchone()\n",
    "\n",
    "#print(\"Current Date is: {0}\".format(row[0]))"
   ]
  },
  {
   "cell_type": "code",
   "execution_count": 24,
   "metadata": {},
   "outputs": [
    {
     "name": "stderr",
     "output_type": "stream",
     "text": [
      "<>:1: SyntaxWarning: invalid escape sequence '\\d'\n",
      "<>:1: SyntaxWarning: invalid escape sequence '\\d'\n",
      "C:\\Users\\Justin\\AppData\\Local\\Temp\\ipykernel_32480\\77534793.py:1: SyntaxWarning: invalid escape sequence '\\d'\n",
      "  df_csv = pd.read_csv(\"data\\dog_license_2017_data.csv\")\n"
     ]
    },
    {
     "name": "stdout",
     "output_type": "stream",
     "text": [
      "                                      LicenseType         Breed  \\\n",
      "0                    Dog Individual Spayed Female  BICHON FRISE   \n",
      "1  Dog Senior Citizen or Disability Spayed Female     CHIHUAHUA   \n",
      "2                    Dog Individual Spayed Female       LAB MIX   \n",
      "3                             Dog Individual Male     DACHSHUND   \n",
      "4                    Dog Individual Spayed Female     DACHSHUND   \n",
      "\n",
      "               Color  DogName  OwnerZip  ExpYear        ValidDate  \n",
      "0              WHITE    CHLOE     15090     2017  12/15/2016 9:58  \n",
      "1  WHITE/BLACK/BROWN  CHALUPA     15120     2017  3/23/2017 14:32  \n",
      "2             YELLOW      MIA     15133     2017  2/28/2017 10:59  \n",
      "3   BLACK/BROWN/GREY     CODY     15108     2017   2/9/2017 13:40  \n",
      "4              BLACK   SOPHIE     15108     2017   2/9/2017 13:40  \n"
     ]
    },
    {
     "data": {
      "text/plain": [
       "21727"
      ]
     },
     "execution_count": 24,
     "metadata": {},
     "output_type": "execute_result"
    }
   ],
   "source": [
    "df_csv = pd.read_csv(\"data\\dog_license_2017_data.csv\")\n",
    "print(df.head())\n",
    "\n",
    "df_csv.to_sql(name=\"dog_license_2017_data\", con=engine, if_exists=\"replace\", index=False)\n",
    "#print(\"Data migrated successfully!\")"
   ]
  },
  {
   "cell_type": "markdown",
   "metadata": {},
   "source": [
    "Welp looks like more issues. Seems Pandas DF only likes to work with certain lib. Trying again with sqlalchemy and pymysql"
   ]
  },
  {
   "cell_type": "code",
   "execution_count": 25,
   "metadata": {},
   "outputs": [
    {
     "data": {
      "text/plain": [
       "21727"
      ]
     },
     "execution_count": 25,
     "metadata": {},
     "output_type": "execute_result"
    }
   ],
   "source": [
    "import pandas as pd\n",
    "import pymysql\n",
    "from sqlalchemy import create_engine\n",
    "\n",
    "engine = create_engine(\"mysql+pymysql://\" + db_user + \":\" + db_password + \"@\" + db_host + \"/\" + db_name)\n",
    "df_csv.to_sql('dog_license_2017_data', con = engine, if_exists = 'replace',index = False)"
   ]
  },
  {
   "cell_type": "code",
   "execution_count": 28,
   "metadata": {},
   "outputs": [
    {
     "name": "stdout",
     "output_type": "stream",
     "text": [
      "                                      LicenseType         Breed  \\\n",
      "0                    Dog Individual Spayed Female  BICHON FRISE   \n",
      "1  Dog Senior Citizen or Disability Spayed Female     CHIHUAHUA   \n",
      "2                    Dog Individual Spayed Female       LAB MIX   \n",
      "3                             Dog Individual Male     DACHSHUND   \n",
      "4                    Dog Individual Spayed Female     DACHSHUND   \n",
      "\n",
      "               Color  DogName  OwnerZip  ExpYear        ValidDate  \n",
      "0              WHITE    CHLOE     15090     2017  12/15/2016 9:58  \n",
      "1  WHITE/BLACK/BROWN  CHALUPA     15120     2017  3/23/2017 14:32  \n",
      "2             YELLOW      MIA     15133     2017  2/28/2017 10:59  \n",
      "3   BLACK/BROWN/GREY     CODY     15108     2017   2/9/2017 13:40  \n",
      "4              BLACK   SOPHIE     15108     2017   2/9/2017 13:40  \n"
     ]
    }
   ],
   "source": [
    "query = \"SELECT * FROM dog_license_2017_data;\"\n",
    "df_licenses = pd.read_sql(query, engine)\n",
    "print(df_licenses.head())"
   ]
  },
  {
   "cell_type": "code",
   "execution_count": 29,
   "metadata": {},
   "outputs": [
    {
     "data": {
      "text/html": [
       "<div>\n",
       "<style scoped>\n",
       "    .dataframe tbody tr th:only-of-type {\n",
       "        vertical-align: middle;\n",
       "    }\n",
       "\n",
       "    .dataframe tbody tr th {\n",
       "        vertical-align: top;\n",
       "    }\n",
       "\n",
       "    .dataframe thead th {\n",
       "        text-align: right;\n",
       "    }\n",
       "</style>\n",
       "<table border=\"1\" class=\"dataframe\">\n",
       "  <thead>\n",
       "    <tr style=\"text-align: right;\">\n",
       "      <th></th>\n",
       "      <th>OwnerZip</th>\n",
       "      <th>ExpYear</th>\n",
       "    </tr>\n",
       "  </thead>\n",
       "  <tbody>\n",
       "    <tr>\n",
       "      <th>count</th>\n",
       "      <td>21727.000000</td>\n",
       "      <td>21727.0</td>\n",
       "    </tr>\n",
       "    <tr>\n",
       "      <th>mean</th>\n",
       "      <td>15152.795968</td>\n",
       "      <td>2017.0</td>\n",
       "    </tr>\n",
       "    <tr>\n",
       "      <th>std</th>\n",
       "      <td>85.874782</td>\n",
       "      <td>0.0</td>\n",
       "    </tr>\n",
       "    <tr>\n",
       "      <th>min</th>\n",
       "      <td>15003.000000</td>\n",
       "      <td>2017.0</td>\n",
       "    </tr>\n",
       "    <tr>\n",
       "      <th>25%</th>\n",
       "      <td>15102.000000</td>\n",
       "      <td>2017.0</td>\n",
       "    </tr>\n",
       "    <tr>\n",
       "      <th>50%</th>\n",
       "      <td>15137.000000</td>\n",
       "      <td>2017.0</td>\n",
       "    </tr>\n",
       "    <tr>\n",
       "      <th>75%</th>\n",
       "      <td>15227.000000</td>\n",
       "      <td>2017.0</td>\n",
       "    </tr>\n",
       "    <tr>\n",
       "      <th>max</th>\n",
       "      <td>16229.000000</td>\n",
       "      <td>2017.0</td>\n",
       "    </tr>\n",
       "  </tbody>\n",
       "</table>\n",
       "</div>"
      ],
      "text/plain": [
       "           OwnerZip  ExpYear\n",
       "count  21727.000000  21727.0\n",
       "mean   15152.795968   2017.0\n",
       "std       85.874782      0.0\n",
       "min    15003.000000   2017.0\n",
       "25%    15102.000000   2017.0\n",
       "50%    15137.000000   2017.0\n",
       "75%    15227.000000   2017.0\n",
       "max    16229.000000   2017.0"
      ]
     },
     "execution_count": 29,
     "metadata": {},
     "output_type": "execute_result"
    }
   ],
   "source": [
    "df_licenses.describe()"
   ]
  },
  {
   "cell_type": "code",
   "execution_count": 30,
   "metadata": {},
   "outputs": [
    {
     "data": {
      "text/html": [
       "<div>\n",
       "<style scoped>\n",
       "    .dataframe tbody tr th:only-of-type {\n",
       "        vertical-align: middle;\n",
       "    }\n",
       "\n",
       "    .dataframe tbody tr th {\n",
       "        vertical-align: top;\n",
       "    }\n",
       "\n",
       "    .dataframe thead th {\n",
       "        text-align: right;\n",
       "    }\n",
       "</style>\n",
       "<table border=\"1\" class=\"dataframe\">\n",
       "  <thead>\n",
       "    <tr style=\"text-align: right;\">\n",
       "      <th></th>\n",
       "      <th>OwnerZip</th>\n",
       "      <th>ExpYear</th>\n",
       "    </tr>\n",
       "  </thead>\n",
       "  <tbody>\n",
       "    <tr>\n",
       "      <th>count</th>\n",
       "      <td>21527.000000</td>\n",
       "      <td>21527.0</td>\n",
       "    </tr>\n",
       "    <tr>\n",
       "      <th>mean</th>\n",
       "      <td>15152.746597</td>\n",
       "      <td>2017.0</td>\n",
       "    </tr>\n",
       "    <tr>\n",
       "      <th>std</th>\n",
       "      <td>85.975201</td>\n",
       "      <td>0.0</td>\n",
       "    </tr>\n",
       "    <tr>\n",
       "      <th>min</th>\n",
       "      <td>15003.000000</td>\n",
       "      <td>2017.0</td>\n",
       "    </tr>\n",
       "    <tr>\n",
       "      <th>25%</th>\n",
       "      <td>15102.000000</td>\n",
       "      <td>2017.0</td>\n",
       "    </tr>\n",
       "    <tr>\n",
       "      <th>50%</th>\n",
       "      <td>15137.000000</td>\n",
       "      <td>2017.0</td>\n",
       "    </tr>\n",
       "    <tr>\n",
       "      <th>75%</th>\n",
       "      <td>15227.000000</td>\n",
       "      <td>2017.0</td>\n",
       "    </tr>\n",
       "    <tr>\n",
       "      <th>max</th>\n",
       "      <td>16229.000000</td>\n",
       "      <td>2017.0</td>\n",
       "    </tr>\n",
       "  </tbody>\n",
       "</table>\n",
       "</div>"
      ],
      "text/plain": [
       "           OwnerZip  ExpYear\n",
       "count  21527.000000  21527.0\n",
       "mean   15152.746597   2017.0\n",
       "std       85.975201      0.0\n",
       "min    15003.000000   2017.0\n",
       "25%    15102.000000   2017.0\n",
       "50%    15137.000000   2017.0\n",
       "75%    15227.000000   2017.0\n",
       "max    16229.000000   2017.0"
      ]
     },
     "execution_count": 30,
     "metadata": {},
     "output_type": "execute_result"
    }
   ],
   "source": [
    "df_licenses.dropna(inplace=True)\n",
    "df_licenses.describe()"
   ]
  },
  {
   "cell_type": "code",
   "execution_count": 31,
   "metadata": {},
   "outputs": [
    {
     "data": {
      "text/plain": [
       "0              BICHON FRISE\n",
       "1                 CHIHUAHUA\n",
       "2                   LAB MIX\n",
       "3                 DACHSHUND\n",
       "4                 DACHSHUND\n",
       "                ...        \n",
       "21722                 BOXER\n",
       "21723                 MIXED\n",
       "21724    LABRADOR RETRIEVER\n",
       "21725          GER SHEPHERD\n",
       "21726             CHIHUAHUA\n",
       "Name: Breed, Length: 21527, dtype: object"
      ]
     },
     "execution_count": 31,
     "metadata": {},
     "output_type": "execute_result"
    }
   ],
   "source": [
    "df_licenses[\"Breed\"]"
   ]
  },
  {
   "cell_type": "code",
   "execution_count": 45,
   "metadata": {},
   "outputs": [
    {
     "data": {
      "text/plain": [
       "265"
      ]
     },
     "execution_count": 45,
     "metadata": {},
     "output_type": "execute_result"
    }
   ],
   "source": [
    "breeds = df_licenses[\"Breed\"].unique()\n",
    "breeds.size"
   ]
  },
  {
   "cell_type": "code",
   "execution_count": 47,
   "metadata": {},
   "outputs": [
    {
     "name": "stdout",
     "output_type": "stream",
     "text": [
      "Breed\n",
      "MIXED                 2287\n",
      "LABRADOR RETRIEVER    1366\n",
      "LAB MIX               1181\n",
      "GER SHEPHERD           742\n",
      "GOLDEN RETRIEVER       689\n",
      "                      ... \n",
      "PYRENEAN MASTIFF         1\n",
      "BERGAMASCO               1\n",
      "PUMI                     1\n",
      "CAROLINA DOG             1\n",
      "JINDO                    1\n",
      "Name: count, Length: 265, dtype: int64\n"
     ]
    }
   ],
   "source": [
    "breed_counts = df_licenses[\"Breed\"].value_counts()\n",
    "print(breed_counts)"
   ]
  },
  {
   "cell_type": "code",
   "execution_count": 52,
   "metadata": {},
   "outputs": [
    {
     "data": {
      "image/png": "[encoded data removed]",
      "text/plain": [
       "<Figure size 800x500 with 1 Axes>"
      ]
     },
     "metadata": {},
     "output_type": "display_data"
    }
   ],
   "source": [
    "import matplotlib.pyplot as plt\n",
    "\n",
    "plt.figure(figsize=(8,5))\n",
    "top_ten = breed_counts.head(10)\n",
    "top_ten.plot(kind=\"bar\", color=\"skyblue\")\n",
    "\n",
    "plt.title(\"Breed Count\")\n",
    "plt.xlabel(\"Breed\")\n",
    "plt.ylabel(\"Count\")\n",
    "plt.xticks(rotation=90)\n",
    "plt.grid(axis=\"y\", linestyle=\"--\", alpha=0.7)\n",
    "\n",
    "plt.show()"
   ]
  },
  {
   "cell_type": "code",
   "execution_count": 53,
   "metadata": {},
   "outputs": [
    {
     "data": {
      "text/plain": [
       "Breed\n",
       "MIXED                  2287\n",
       "LABRADOR RETRIEVER     1366\n",
       "LAB MIX                1181\n",
       "GER SHEPHERD            742\n",
       "GOLDEN RETRIEVER        689\n",
       "SHIH TZU                632\n",
       "CHIHUAHUA               624\n",
       "AM PIT BULL TERRIER     586\n",
       "BEAGLE                  578\n",
       "TAG                     544\n",
       "Name: count, dtype: int64"
      ]
     },
     "execution_count": 53,
     "metadata": {},
     "output_type": "execute_result"
    }
   ],
   "source": [
    "top_ten"
   ]
  },
  {
   "cell_type": "code",
   "execution_count": null,
   "metadata": {},
   "outputs": [],
   "source": []
  }
 ],
 "metadata": {
  "kernelspec": {
   "display_name": "venv",
   "language": "python",
   "name": "python3"
  },
  "language_info": {
   "codemirror_mode": {
    "name": "ipython",
    "version": 3
   },
   "file_extension": ".py",
   "mimetype": "text/x-python",
   "name": "python",
   "nbconvert_exporter": "python",
   "pygments_lexer": "ipython3",
   "version": "3.12.2"
  }
 },
 "nbformat": 4,
 "nbformat_minor": 2
}
