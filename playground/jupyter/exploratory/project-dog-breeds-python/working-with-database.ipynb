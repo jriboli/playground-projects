{
 "cells": [
  {
   "cell_type": "markdown",
   "metadata": {},
   "source": [
    "# IMPORTS\n",
    "\n",
    "- pandas -> data manipulation\n",
    "- sqlalchemy -> database connection\n",
    "- pymysql -> mysql connector\n",
    "- openpyxl -> handling excel files\n",
    "- os -> to access os variables\n",
    "- dotenv -> to keep secret values in .env"
   ]
  },
  {
   "cell_type": "code",
   "execution_count": 1,
   "metadata": {},
   "outputs": [],
   "source": [
    "import pandas as pd\n",
    "from sqlalchemy import create_engine\n",
    "import pymysql\n",
    "import openpyxl\n",
    "import os\n",
    "from dotenv import load_dotenv\n",
    "\n",
    "import mysql.connector"
   ]
  },
  {
   "cell_type": "markdown",
   "metadata": {},
   "source": [
    "# Connect to local DB\n",
    "\n",
    "Using the dotenv lib to keep my user/password secret and not accidently commit to github. Even though we are working with a Docker image locally. \n",
    "\n",
    "## [First Attempt]\n",
    "Welp, looks like there were several issues we had to deal with: \n",
    "- First the lib `mysql-connector` does not work nicely with the version of MySQL (v9.2) I am running. Anything over 8.0 starting using a new authentication type (caching_sha2_password). Had to uninstall my-connector, and install `my-connector-python`. \n",
    "- Even after installing the new lib the issues persisted. I eventually closed everything, deleted my venv and recreated it. That seems to fix the issue. "
   ]
  },
  {
   "cell_type": "code",
   "execution_count": 9,
   "metadata": {},
   "outputs": [
    {
     "name": "stdout",
     "output_type": "stream",
     "text": [
      "Current Date is: 2025-03-18\n"
     ]
    }
   ],
   "source": [
    "load_dotenv()\n",
    "\n",
    "db_user = os.getenv(\"DB_USER\")\n",
    "db_password = os.getenv(\"DB_PASSWORD\")\n",
    "db_host = \"127.0.0.1\"\n",
    "db_name = \"data_science\"\n",
    "engine = mysql.connector.connect(user=db_user, password=db_password, host=db_host, database=db_name)\n",
    "\n",
    "# Run simple command to test connection\n",
    "cur = engine.cursor()\n",
    "cur.execute(\"SELECT CURDATE()\")\n",
    "row = cur.fetchone()\n",
    "print(\"Current Date is: {0}\".format(row[0]))"
   ]
  },
  {
   "cell_type": "code",
   "execution_count": null,
   "metadata": {},
   "outputs": [],
   "source": [
    "# Read csv file in dataframe\n",
    "df_csv = pd.read_csv(\"data\\dog_license_2017_data.csv\")\n",
    "print(df_csv.head())\n",
    "\n",
    "# Attempt to load dataframe into DB table\n",
    "df_csv.to_sql(name=\"dog_license_2017_data\", con=engine, if_exists=\"replace\", index=False)"
   ]
  },
  {
   "cell_type": "markdown",
   "metadata": {},
   "source": [
    "Lets try doing some simple `SELECT` statements"
   ]
  },
  {
   "cell_type": "code",
   "execution_count": null,
   "metadata": {},
   "outputs": [],
   "source": [
    "cur.execute(\"SELECT * FROM dog_license_2017_data\")\n",
    "rows = cur.fetchall()\n",
    "\n",
    "for row in rows:\n",
    "    print(row)"
   ]
  },
  {
   "cell_type": "code",
   "execution_count": 11,
   "metadata": {},
   "outputs": [
    {
     "name": "stdout",
     "output_type": "stream",
     "text": [
      "('Dog Individual Spayed Female', 'LABRADOR RETRIEVER', 'BLACK', 'MARTICIA', 15101, 2017, None)\n"
     ]
    }
   ],
   "source": [
    "cur.execute(\"SELECT * FROM dog_license_2017_data ORDER BY ValidDate\")\n",
    "row = cur.fetchone()\n",
    "\n",
    "print(row)"
   ]
  },
  {
   "cell_type": "markdown",
   "metadata": {},
   "source": [
    "Welp looks like more issues. Seems Pandas DF only likes to work with certain lib. Trying again with `sqlalchemy` and `pymysql`\n",
    "\n",
    "## [Second Attempt]"
   ]
  },
  {
   "cell_type": "code",
   "execution_count": null,
   "metadata": {},
   "outputs": [],
   "source": [
    "import pandas as pd\n",
    "import pymysql\n",
    "from sqlalchemy import create_engine\n",
    "\n",
    "load_dotenv()\n",
    "\n",
    "db_user = os.getenv(\"DB_USER\")\n",
    "db_password = os.getenv(\"DB_PASSWORD\")\n",
    "db_host = \"127.0.0.1\"\n",
    "db_name = \"data_science\"\n",
    "\n",
    "engine = create_engine(\"mysql+pymysql://\" + db_user + \":\" + db_password + \"@\" + db_host + \"/\" + db_name)\n",
    "df_csv.to_sql('dog_license_2017_data', con = engine, if_exists = 'replace',index = False)"
   ]
  }
 ],
 "metadata": {
  "kernelspec": {
   "display_name": "venv",
   "language": "python",
   "name": "python3"
  },
  "language_info": {
   "codemirror_mode": {
    "name": "ipython",
    "version": 3
   },
   "file_extension": ".py",
   "mimetype": "text/x-python",
   "name": "python",
   "nbconvert_exporter": "python",
   "pygments_lexer": "ipython3",
   "version": "3.12.2"
  }
 },
 "nbformat": 4,
 "nbformat_minor": 2
}
