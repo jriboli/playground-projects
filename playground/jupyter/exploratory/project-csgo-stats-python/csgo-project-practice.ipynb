{
 "cells": [
  {
   "cell_type": "markdown",
   "metadata": {},
   "source": [
    "# < CounterStrike GO Team & Player stats >"
   ]
  },
  {
   "cell_type": "code",
   "execution_count": null,
   "metadata": {},
   "outputs": [],
   "source": [
    "# Importing the datasets\n",
    "import pandas as pd\n",
    "import numpy\n",
    "import matplotlib as plt\n",
    "\n",
    "df_players = pd.read_csv(\"data/player_stats.csv\")\n",
    "df_teams = pd.read_csv(\"data/team_stats.csv\")"
   ]
  },
  {
   "cell_type": "code",
   "execution_count": null,
   "metadata": {},
   "outputs": [],
   "source": [
    "df_players.rename(columns={'Unnamed: 0': 'rank'}, inplace=True)"
   ]
  },
  {
   "cell_type": "code",
   "execution_count": null,
   "metadata": {},
   "outputs": [],
   "source": [
    "print(\"SHAPE: \", df_players)\n",
    "print(\"DESCRIBE: \", df_players.describe())\n",
    "df_players.head()"
   ]
  },
  {
   "cell_type": "markdown",
   "metadata": {},
   "source": [
    "### Data Cleaning & Preprocessing\n",
    "- Identify and handle missing values (imputation, removal, or flagging)\n",
    "- Detect and fix inconsistencies (duplicate rows, incorrect data types, formatting issues)\n",
    "- Normalize or standardize numerical data for better analysis\n",
    "- Handle categorical variables (one-hot encoding, label encoding)\n",
    "- Identify and remove outliers using statistical methods or visualization"
   ]
  },
  {
   "cell_type": "code",
   "execution_count": 38,
   "metadata": {},
   "outputs": [
    {
     "ename": "ZeroDivisionError",
     "evalue": "division by zero",
     "output_type": "error",
     "traceback": [
      "\u001b[31m---------------------------------------------------------------------------\u001b[39m",
      "\u001b[31mZeroDivisionError\u001b[39m                         Traceback (most recent call last)",
      "\u001b[36mCell\u001b[39m\u001b[36m \u001b[39m\u001b[32mIn[38]\u001b[39m\u001b[32m, line 1\u001b[39m\n\u001b[32m----> \u001b[39m\u001b[32m1\u001b[39m \u001b[38;5;28mprint\u001b[39m(\u001b[43m-\u001b[49m\u001b[32;43m4\u001b[39;49m\u001b[43m \u001b[49m\u001b[43m/\u001b[49m\u001b[43m \u001b[49m\u001b[32;43m0\u001b[39;49m)\n",
      "\u001b[31mZeroDivisionError\u001b[39m: division by zero"
     ]
    }
   ],
   "source": [
    "print(-4 / 0)"
   ]
  },
  {
   "cell_type": "code",
   "execution_count": null,
   "metadata": {},
   "outputs": [
    {
     "ename": "ValueError",
     "evalue": "The truth value of a Series is ambiguous. Use a.empty, a.bool(), a.item(), a.any() or a.all().",
     "output_type": "error",
     "traceback": [
      "\u001b[31m---------------------------------------------------------------------------\u001b[39m",
      "\u001b[31mValueError\u001b[39m                                Traceback (most recent call last)",
      "\u001b[32m/var/folders/9z/hv6x5gnn0fg229rhtcx4sxdh0000gn/T/ipykernel_7023/388675934.py\u001b[39m in \u001b[36m?\u001b[39m\u001b[34m()\u001b[39m\n\u001b[32m      1\u001b[39m \u001b[38;5;66;03m# Adding Kills and Deaths based on death spread, and k/d ratio.\u001b[39;00m\n\u001b[32m      2\u001b[39m \u001b[38;5;66;03m# account for scenarios kd = 1.0 kd_diff in (-4, 8)\u001b[39;00m\n\u001b[32m      3\u001b[39m \n\u001b[32m      4\u001b[39m \u001b[38;5;66;03m# df_players[\"deaths\"] = round(df_players[\"kd_diff\"] / (df_players[\"kd\"] - 1))\u001b[39;00m\n\u001b[32m----> \u001b[39m\u001b[32m5\u001b[39m df_players[\u001b[33m'deaths'\u001b[39m] = df_players[\u001b[33m'kd_diff'\u001b[39m].apply(\u001b[38;5;28;01mlambda\u001b[39;00m x: x / (df_players[\u001b[33m'kd'\u001b[39m] - \u001b[32m1\u001b[39m) \u001b[38;5;28;01mif\u001b[39;00m df_players[\u001b[33m'kd'\u001b[39m] == \u001b[32m1.0\u001b[39m \u001b[38;5;28;01melse\u001b[39;00m abs(df_players[\u001b[33m'kd_diff'\u001b[39m]))\n\u001b[32m      6\u001b[39m df_players[\u001b[33m\"kills\"\u001b[39m] = round(df_players[\u001b[33m\"kd\"\u001b[39m] * df_players[\u001b[33m\"deaths\"\u001b[39m])\n",
      "\u001b[32m~/Documents/GitHub/projects-for-learning/playground/jupyter/venv/lib/python3.13/site-packages/pandas/core/series.py\u001b[39m in \u001b[36m?\u001b[39m\u001b[34m(self, func, convert_dtype, args, by_row, **kwargs)\u001b[39m\n\u001b[32m   4920\u001b[39m             convert_dtype=convert_dtype,\n\u001b[32m   4921\u001b[39m             by_row=by_row,\n\u001b[32m   4922\u001b[39m             args=args,\n\u001b[32m   4923\u001b[39m             kwargs=kwargs,\n\u001b[32m-> \u001b[39m\u001b[32m4924\u001b[39m         ).apply()\n",
      "\u001b[32m~/Documents/GitHub/projects-for-learning/playground/jupyter/venv/lib/python3.13/site-packages/pandas/core/apply.py\u001b[39m in \u001b[36m?\u001b[39m\u001b[34m(self)\u001b[39m\n\u001b[32m   1423\u001b[39m         \u001b[38;5;28;01mif\u001b[39;00m self.by_row == \u001b[33m\"_compat\"\u001b[39m:\n\u001b[32m   1424\u001b[39m             \u001b[38;5;28;01mreturn\u001b[39;00m self.apply_compat()\n\u001b[32m   1425\u001b[39m \n\u001b[32m   1426\u001b[39m         \u001b[38;5;66;03m# self.func is Callable\u001b[39;00m\n\u001b[32m-> \u001b[39m\u001b[32m1427\u001b[39m         \u001b[38;5;28;01mreturn\u001b[39;00m self.apply_standard()\n",
      "\u001b[32m~/Documents/GitHub/projects-for-learning/playground/jupyter/venv/lib/python3.13/site-packages/pandas/core/apply.py\u001b[39m in \u001b[36m?\u001b[39m\u001b[34m(self)\u001b[39m\n\u001b[32m   1503\u001b[39m         \u001b[38;5;66;03m# we need to give `na_action=\"ignore\"` for categorical data.\u001b[39;00m\n\u001b[32m   1504\u001b[39m         \u001b[38;5;66;03m# TODO: remove the `na_action=\"ignore\"` when that default has been changed in\u001b[39;00m\n\u001b[32m   1505\u001b[39m         \u001b[38;5;66;03m#  Categorical (GH51645).\u001b[39;00m\n\u001b[32m   1506\u001b[39m         action = \u001b[33m\"ignore\"\u001b[39m \u001b[38;5;28;01mif\u001b[39;00m isinstance(obj.dtype, CategoricalDtype) \u001b[38;5;28;01melse\u001b[39;00m \u001b[38;5;28;01mNone\u001b[39;00m\n\u001b[32m-> \u001b[39m\u001b[32m1507\u001b[39m         mapped = obj._map_values(\n\u001b[32m   1508\u001b[39m             mapper=curried, na_action=action, convert=self.convert_dtype\n\u001b[32m   1509\u001b[39m         )\n\u001b[32m   1510\u001b[39m \n",
      "\u001b[32m~/Documents/GitHub/projects-for-learning/playground/jupyter/venv/lib/python3.13/site-packages/pandas/core/base.py\u001b[39m in \u001b[36m?\u001b[39m\u001b[34m(self, mapper, na_action, convert)\u001b[39m\n\u001b[32m    917\u001b[39m \n\u001b[32m    918\u001b[39m         \u001b[38;5;28;01mif\u001b[39;00m isinstance(arr, ExtensionArray):\n\u001b[32m    919\u001b[39m             \u001b[38;5;28;01mreturn\u001b[39;00m arr.map(mapper, na_action=na_action)\n\u001b[32m    920\u001b[39m \n\u001b[32m--> \u001b[39m\u001b[32m921\u001b[39m         \u001b[38;5;28;01mreturn\u001b[39;00m algorithms.map_array(arr, mapper, na_action=na_action, convert=convert)\n",
      "\u001b[32m~/Documents/GitHub/projects-for-learning/playground/jupyter/venv/lib/python3.13/site-packages/pandas/core/algorithms.py\u001b[39m in \u001b[36m?\u001b[39m\u001b[34m(arr, mapper, na_action, convert)\u001b[39m\n\u001b[32m   1739\u001b[39m \n\u001b[32m   1740\u001b[39m     \u001b[38;5;66;03m# we must convert to python types\u001b[39;00m\n\u001b[32m   1741\u001b[39m     values = arr.astype(object, copy=\u001b[38;5;28;01mFalse\u001b[39;00m)\n\u001b[32m   1742\u001b[39m     \u001b[38;5;28;01mif\u001b[39;00m na_action \u001b[38;5;28;01mis\u001b[39;00m \u001b[38;5;28;01mNone\u001b[39;00m:\n\u001b[32m-> \u001b[39m\u001b[32m1743\u001b[39m         \u001b[38;5;28;01mreturn\u001b[39;00m lib.map_infer(values, mapper, convert=convert)\n\u001b[32m   1744\u001b[39m     \u001b[38;5;28;01melse\u001b[39;00m:\n\u001b[32m   1745\u001b[39m         return lib.map_infer_mask(\n\u001b[32m   1746\u001b[39m             values, mapper, mask=isna(values).view(np.uint8), convert=convert\n",
      "\u001b[32mlib.pyx\u001b[39m in \u001b[36m?\u001b[39m\u001b[34m()\u001b[39m\n\u001b[32m-> \u001b[39m\u001b[32m2972\u001b[39m \u001b[33m'Could not get source, probably due dynamically evaluated source code.'\u001b[39m\n",
      "\u001b[32m/var/folders/9z/hv6x5gnn0fg229rhtcx4sxdh0000gn/T/ipykernel_7023/388675934.py\u001b[39m in \u001b[36m?\u001b[39m\u001b[34m(x)\u001b[39m\n\u001b[32m----> \u001b[39m\u001b[32m5\u001b[39m df_players[\u001b[33m'deaths'\u001b[39m] = df_players[\u001b[33m'kd_diff'\u001b[39m].apply(\u001b[38;5;28;01mlambda\u001b[39;00m x: x / (df_players[\u001b[33m'kd'\u001b[39m] - \u001b[32m1\u001b[39m) \u001b[38;5;28;01mif\u001b[39;00m df_players[\u001b[33m'kd'\u001b[39m] == \u001b[32m1.0\u001b[39m \u001b[38;5;28;01melse\u001b[39;00m abs(df_players[\u001b[33m'kd_diff'\u001b[39m]))\n",
      "\u001b[32m~/Documents/GitHub/projects-for-learning/playground/jupyter/venv/lib/python3.13/site-packages/pandas/core/generic.py\u001b[39m in \u001b[36m?\u001b[39m\u001b[34m(self)\u001b[39m\n\u001b[32m   1575\u001b[39m     @final\n\u001b[32m   1576\u001b[39m     \u001b[38;5;28;01mdef\u001b[39;00m __nonzero__(self) -> NoReturn:\n\u001b[32m-> \u001b[39m\u001b[32m1577\u001b[39m         raise ValueError(\n\u001b[32m   1578\u001b[39m             f\"The truth value of a {type(self).__name__} is ambiguous. \"\n\u001b[32m   1579\u001b[39m             \u001b[33m\"Use a.empty, a.bool(), a.item(), a.any() or a.all().\"\u001b[39m\n\u001b[32m   1580\u001b[39m         )\n",
      "\u001b[31mValueError\u001b[39m: The truth value of a Series is ambiguous. Use a.empty, a.bool(), a.item(), a.any() or a.all()."
     ]
    }
   ],
   "source": [
    "# Adding Kills and Deaths based on death spread, and k/d ratio. \n",
    "# account for scenarios kd = 1.0 kd_diff in (-4, 8)\n",
    "\n",
    "# df_players[\"deaths\"] = round(df_players[\"kd_diff\"] / (df_players[\"kd\"] - 1))\n",
    "df_players['deaths'] = df_players['kd_diff'].apply(\n",
    "    lambda x: x / (df_players['kd'] - 1) if df_players['kd'] == 1.0 else abs(df_players['kd_diff']))\n",
    "df_players[\"kills\"] = round(df_players[\"kd\"] * df_players[\"deaths\"])"
   ]
  },
  {
   "cell_type": "code",
   "execution_count": null,
   "metadata": {},
   "outputs": [],
   "source": [
    "# Checking for missing values\n",
    "print(\"Value Counts: \", df_players.isnull().value_counts())"
   ]
  },
  {
   "cell_type": "code",
   "execution_count": 24,
   "metadata": {},
   "outputs": [
    {
     "name": "stdout",
     "output_type": "stream",
     "text": [
      "Missing data:  Empty DataFrame\n",
      "Columns: [rank, name, country, teams, total_maps, total_rounds, kd_diff, kd, rating, deaths, kills]\n",
      "Index: []\n",
      "Missing Rows:  Empty DataFrame\n",
      "Columns: [rank, name, country, teams, total_maps, total_rounds, kd_diff, kd, rating, deaths, kills]\n",
      "Index: []\n"
     ]
    }
   ],
   "source": [
    "# Find the rows that have the missing values \n",
    "missing_kill_rows = df_players[df_players['kills'].isna()]\n",
    "print(\"Missing data: \", missing_kill_rows)\n",
    "\n",
    "# Explaining:\n",
    "# df[<condition>] -- creates a Boolean Series\n",
    "# df[df[]] -- The result is used inside the df[] to select only rows with True\n",
    "missing_rows = df_players[df_players.isna().any(axis=1)]\n",
    "print(\"Missing Rows: \", missing_rows)"
   ]
  },
  {
   "cell_type": "code",
   "execution_count": 33,
   "metadata": {},
   "outputs": [
    {
     "data": {
      "text/plain": [
       "kills\n",
       "-inf        44\n",
       " inf        33\n",
       " 2574.0      5\n",
       " 3030.0      5\n",
       " 3168.0      5\n",
       "            ..\n",
       " 10827.0     1\n",
       " 5278.0      1\n",
       " 14721.0     1\n",
       " 6282.0      1\n",
       " 1546.0      1\n",
       "Name: count, Length: 1549, dtype: int64"
      ]
     },
     "execution_count": 33,
     "metadata": {},
     "output_type": "execute_result"
    }
   ],
   "source": [
    "# Fix kills and deaths were nulls exist\n",
    "df_players.fillna(0, axis=1, inplace=True)\n",
    "df_players['kills'].value_counts()"
   ]
  },
  {
   "cell_type": "code",
   "execution_count": 37,
   "metadata": {},
   "outputs": [
    {
     "name": "stdout",
     "output_type": "stream",
     "text": [
      "       kd kd_diff deaths kills\n",
      "625   1.0      -4   -inf  -inf\n",
      "694   1.0       8    inf   inf\n",
      "702   1.0      -8   -inf  -inf\n",
      "719   1.0      10    inf   inf\n",
      "725   1.0      -4   -inf  -inf\n",
      "...   ...     ...    ...   ...\n",
      "1103  1.0     -13   -inf  -inf\n",
      "1141  1.0       8    inf   inf\n",
      "1151  1.0     -74   -inf  -inf\n",
      "1177  1.0      15    inf   inf\n",
      "1205  1.0     -38   -inf  -inf\n",
      "\n",
      "[77 rows x 4 columns]\n"
     ]
    }
   ],
   "source": [
    "import numpy as np\n",
    "\n",
    "inf_rows = df_players[df_players['kills'].isin([np.inf, -np.inf])]\n",
    "print(inf_rows[['kd', 'kd_diff', 'deaths', 'kills']])"
   ]
  },
  {
   "cell_type": "code",
   "execution_count": 25,
   "metadata": {},
   "outputs": [
    {
     "name": "stdout",
     "output_type": "stream",
     "text": [
      "Q1:  2554.0\n",
      "Q3:  10927.0\n",
      "Outliers:        rank      name                 country  \\\n",
      "1        1    s1mple                 Ukraine   \n",
      "15      15  XANTARES                  Turkey   \n",
      "21      21  coldzera                  Brazil   \n",
      "22      22    device                 Denmark   \n",
      "31      31      NiKo  Bosnia and Herzegovina   \n",
      "...    ...       ...                     ...   \n",
      "1282  1282   AcilioN                 Denmark   \n",
      "1391  1391   Ex6TenZ                 Belgium   \n",
      "1531  1531       MSL                 Denmark   \n",
      "1549  1549  karrigan                 Denmark   \n",
      "1610  1610   kRYSTAL                 Germany   \n",
      "\n",
      "                                                 teams total_maps  \\\n",
      "1                        ['Natus Vincere', 'FlipSid3']       1429   \n",
      "15                    ['Space Soldiers', 'BIG', 'BIG']       1511   \n",
      "21        ['SK', 'FaZe', 'Luminosity', 'MIBR', 'MIBR']       1336   \n",
      "22                                 ['Astralis', 'TSM']       1733   \n",
      "31                       ['G2', 'FaZe', 'mousesports']       1493   \n",
      "...                                                ...        ...   \n",
      "1282                       ['Copenhagen Flames', 'SK']       1598   \n",
      "1391      ['Titan', 'LDLC', 'LDLC', 'VeryGames', 'G2']       1393   \n",
      "1531                    ['Dignitas', 'North', 'North']       1710   \n",
      "1549                    ['FaZe', 'mousesports', 'TSM']       1863   \n",
      "1610  ['PENTA', 'PENTA', 'ALTERNATE aTTaX', 'GODSENT']       1779   \n",
      "\n",
      "     total_rounds kd_diff    kd rating   deaths    kills  \n",
      "1           37717    8070  1.33   1.25  24455.0  32525.0  \n",
      "15          39753    5320   1.2   1.17  26600.0  31920.0  \n",
      "21          34861    5661  1.26   1.16  21773.0  27434.0  \n",
      "22          45159    7005  1.25   1.16  28020.0  35025.0  \n",
      "31          39556    4942  1.19   1.15  26011.0  30953.0  \n",
      "...           ...     ...   ...    ...      ...      ...  \n",
      "1282        42135   -1211  0.96   0.95  30275.0  29064.0  \n",
      "1391        36352   -1064  0.96   0.94  26600.0  25536.0  \n",
      "1531        44677   -3231   0.9   0.92  32310.0  29079.0  \n",
      "1549        48728   -3117  0.91   0.92  34633.0  31516.0  \n",
      "1610        46508   -3172   0.9    0.9  31720.0  28548.0  \n",
      "\n",
      "[176 rows x 11 columns]\n",
      "(176, 11)\n"
     ]
    }
   ],
   "source": [
    "# Identify outliers\n",
    "Q1 = df_players['kills'].quantile(0.25)\n",
    "Q3 = df_players['kills'].quantile(0.75)\n",
    "print(\"Q1: \", Q1)\n",
    "print(\"Q3: \", Q3)\n",
    "IQR = Q3 - Q1\n",
    "\n",
    "lower_bound = Q1 - 1.5 * IQR\n",
    "upper_bound = Q3 + 1.5 * IQR\n",
    "\n",
    "outliers = df_players[(df_players['kills'] < lower_bound) | (df_players['kills'] > upper_bound)]\n",
    "print(\"Outliers: \", outliers)\n",
    "print(outliers.shape)"
   ]
  },
  {
   "cell_type": "markdown",
   "metadata": {},
   "source": [
    "### Exploratory Data Analysis (EDA) & Visualization\n",
    "- Generate summary statistics and describe key features of the datasets\n",
    "- Create histograms, boxplots, and scatter plots to analyze distributions and relationships\n",
    "- Use correlation heatmaps to understand feature relationships\n",
    "- Identify trends and patterns using time series analysis (if applicable)\n",
    "- Compare different segments of data using group-by operations and visualizations"
   ]
  },
  {
   "cell_type": "code",
   "execution_count": 32,
   "metadata": {},
   "outputs": [
    {
     "data": {
      "text/html": [
       "<div>\n",
       "<style scoped>\n",
       "    .dataframe tbody tr th:only-of-type {\n",
       "        vertical-align: middle;\n",
       "    }\n",
       "\n",
       "    .dataframe tbody tr th {\n",
       "        vertical-align: top;\n",
       "    }\n",
       "\n",
       "    .dataframe thead th {\n",
       "        text-align: right;\n",
       "    }\n",
       "</style>\n",
       "<table border=\"1\" class=\"dataframe\">\n",
       "  <thead>\n",
       "    <tr style=\"text-align: right;\">\n",
       "      <th></th>\n",
       "      <th>rank</th>\n",
       "      <th>name</th>\n",
       "      <th>country</th>\n",
       "      <th>teams</th>\n",
       "      <th>total_maps</th>\n",
       "      <th>total_rounds</th>\n",
       "      <th>kd_diff</th>\n",
       "      <th>kd</th>\n",
       "      <th>rating</th>\n",
       "      <th>deaths</th>\n",
       "      <th>kills</th>\n",
       "    </tr>\n",
       "  </thead>\n",
       "  <tbody>\n",
       "    <tr>\n",
       "      <th>count</th>\n",
       "      <td>1869</td>\n",
       "      <td>1869</td>\n",
       "      <td>1869</td>\n",
       "      <td>1869</td>\n",
       "      <td>1869</td>\n",
       "      <td>1869</td>\n",
       "      <td>1869</td>\n",
       "      <td>1869.00</td>\n",
       "      <td>1869.00</td>\n",
       "      <td>1869.0</td>\n",
       "      <td>1869.0</td>\n",
       "    </tr>\n",
       "    <tr>\n",
       "      <th>unique</th>\n",
       "      <td>1869</td>\n",
       "      <td>1858</td>\n",
       "      <td>72</td>\n",
       "      <td>1640</td>\n",
       "      <td>757</td>\n",
       "      <td>1739</td>\n",
       "      <td>1224</td>\n",
       "      <td>70.00</td>\n",
       "      <td>54.00</td>\n",
       "      <td>1270.0</td>\n",
       "      <td>1549.0</td>\n",
       "    </tr>\n",
       "    <tr>\n",
       "      <th>top</th>\n",
       "      <td>0</td>\n",
       "      <td>Lucky</td>\n",
       "      <td>United States</td>\n",
       "      <td>['Young Ninjas', 'Young Ninjas']</td>\n",
       "      <td>119</td>\n",
       "      <td>3499</td>\n",
       "      <td>169</td>\n",
       "      <td>0.98</td>\n",
       "      <td>0.98</td>\n",
       "      <td>-inf</td>\n",
       "      <td>-inf</td>\n",
       "    </tr>\n",
       "    <tr>\n",
       "      <th>freq</th>\n",
       "      <td>1</td>\n",
       "      <td>2</td>\n",
       "      <td>204</td>\n",
       "      <td>5</td>\n",
       "      <td>15</td>\n",
       "      <td>4</td>\n",
       "      <td>6</td>\n",
       "      <td>95.00</td>\n",
       "      <td>114.00</td>\n",
       "      <td>44.0</td>\n",
       "      <td>44.0</td>\n",
       "    </tr>\n",
       "  </tbody>\n",
       "</table>\n",
       "</div>"
      ],
      "text/plain": [
       "        rank   name        country                             teams  \\\n",
       "count   1869   1869           1869                              1869   \n",
       "unique  1869   1858             72                              1640   \n",
       "top        0  Lucky  United States  ['Young Ninjas', 'Young Ninjas']   \n",
       "freq       1      2            204                                 5   \n",
       "\n",
       "        total_maps  total_rounds  kd_diff       kd   rating  deaths   kills  \n",
       "count         1869          1869     1869  1869.00  1869.00  1869.0  1869.0  \n",
       "unique         757          1739     1224    70.00    54.00  1270.0  1549.0  \n",
       "top            119          3499      169     0.98     0.98    -inf    -inf  \n",
       "freq            15             4        6    95.00   114.00    44.0    44.0  "
      ]
     },
     "execution_count": 32,
     "metadata": {},
     "output_type": "execute_result"
    }
   ],
   "source": [
    "df_players.describe()"
   ]
  },
  {
   "cell_type": "code",
   "execution_count": 31,
   "metadata": {},
   "outputs": [
    {
     "data": {
      "image/png": "[encoded data removed]",
      "text/plain": [
       "<Figure size 1200x500 with 2 Axes>"
      ]
     },
     "metadata": {},
     "output_type": "display_data"
    }
   ],
   "source": [
    "# Create a histogram\n",
    "import matplotlib.pyplot as plt\n",
    "import numpy as py\n",
    "\n",
    "plt.figure(figsize=(12,5))\n",
    "\n",
    "plt.subplot(1, 2, 1)\n",
    "plt.hist(df_players['kd'], bins=5, edgecolor='black')\n",
    "plt.xlabel('K/D')\n",
    "plt.ylabel('Count')\n",
    "plt.title('Histogram of Player K/D Ratios')\n",
    "\n",
    "plt.subplot(1, 2, 2)\n",
    "plt.hist(df_players['kd_diff'], bins=10, edgecolor='black')\n",
    "plt.xlabel('Kill Spread')\n",
    "plt.ylabel('Amount')\n",
    "plt.title('Histogram of Player Kill Spreads')\n",
    "\n",
    "plt.show()"
   ]
  },
  {
   "cell_type": "markdown",
   "metadata": {},
   "source": [
    "### Statistical Analysis & Hypothesis\n",
    "- Perform t-tests, chi-square tests, or ANOVA to compare groups\n",
    "- Compute confidence intervals for key metrics\n",
    "- Use regression analysis to explore relationships between variables\n",
    "- Check for normality and apply transformations if necessary\n",
    "- Conduct A/B testing simulations (if applicable)"
   ]
  },
  {
   "cell_type": "markdown",
   "metadata": {},
   "source": [
    "### Machine Learning Models\n",
    "- Train a linear regression model for prediction tasks\n",
    "- Build classification models (Logistic Regression, Decision Trees, Random Forest, SVM)\n",
    "- Train a cluster model (K-Means, DBSCAN) to segment data\n",
    "- Perform feature selection to improve model performance\n",
    "- Evaluate models using cross-validation, precision, recall, and F1-score"
   ]
  },
  {
   "cell_type": "markdown",
   "metadata": {},
   "source": [
    "### (Optional) Automation & Pipeline Building\n",
    "- Automate EDA and preprocessing steps using custom functions\n",
    "- Implement a pipeline for data transformation and modeling\n",
    "- Store processed data in a database or export it in different formats (CSV, JSON)"
   ]
  }
 ],
 "metadata": {
  "kernelspec": {
   "display_name": "venv",
   "language": "python",
   "name": "python3"
  },
  "language_info": {
   "codemirror_mode": {
    "name": "ipython",
    "version": 3
   },
   "file_extension": ".py",
   "mimetype": "text/x-python",
   "name": "python",
   "nbconvert_exporter": "python",
   "pygments_lexer": "ipython3",
   "version": "3.13.2"
  }
 },
 "nbformat": 4,
 "nbformat_minor": 2
}
